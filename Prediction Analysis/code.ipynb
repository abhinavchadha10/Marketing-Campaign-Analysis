{
 "cells": [
  {
   "cell_type": "code",
   "execution_count": 1,
   "metadata": {},
   "outputs": [
    {
     "name": "stderr",
     "output_type": "stream",
     "text": [
      "<ipython-input-1-24c7135894cd>:26: UserWarning: \n",
      "The dash_core_components package is deprecated. Please replace\n",
      "`import dash_core_components as dcc` with `from dash import dcc`\n",
      "<ipython-input-1-24c7135894cd>:27: UserWarning: \n",
      "The dash_html_components package is deprecated. Please replace\n",
      "`import dash_html_components as html` with `from dash import html`\n"
     ]
    }
   ],
   "source": [
    "import pandas as pd\n",
    "pd.set_option('max_columns', None)\n",
    "pd.set_option('display.max_rows', None)\n",
    "import numpy as np\n",
    "import seaborn as sns\n",
    "import matplotlib.pyplot as plt\n",
    "import math\n",
    "plt.style.use('seaborn-whitegrid')\n",
    "\n",
    "from scipy import stats\n",
    "from statsmodels.stats import weightstats as stests\n",
    "from sklearn.linear_model import LinearRegression\n",
    "from sklearn.metrics import r2_score\n",
    "import statsmodels.formula.api as sm\n",
    "from sklearn import cluster\n",
    "\n",
    "from kmodes.kmodes import KModes\n",
    "import matplotlib.pyplot as plt\n",
    "%matplotlib inline\n",
    "from plotnine import *\n",
    "import plotnine\n",
    "\n",
    "import pandas as pd\n",
    "import plotly.express as px\n",
    "import dash\n",
    "import dash_core_components as dcc\n",
    "import dash_html_components as html\n",
    "# import dash_table\n",
    "from dash import dash_table\n",
    "from dash.dependencies import Input, Output\n",
    "import dash_bootstrap_components as dbc\n",
    "from datetime import date\n",
    "import numpy as np\n",
    "import plotly.graph_objects as go\n",
    "from itertools import compress"
   ]
  },
  {
   "cell_type": "markdown",
   "metadata": {},
   "source": [
    "\n",
    "# Data Segregation"
   ]
  },
  {
   "cell_type": "code",
   "execution_count": 2,
   "metadata": {},
   "outputs": [
    {
     "data": {
      "text/html": [
       "<div>\n",
       "<style scoped>\n",
       "    .dataframe tbody tr th:only-of-type {\n",
       "        vertical-align: middle;\n",
       "    }\n",
       "\n",
       "    .dataframe tbody tr th {\n",
       "        vertical-align: top;\n",
       "    }\n",
       "\n",
       "    .dataframe thead th {\n",
       "        text-align: right;\n",
       "    }\n",
       "</style>\n",
       "<table border=\"1\" class=\"dataframe\">\n",
       "  <thead>\n",
       "    <tr style=\"text-align: right;\">\n",
       "      <th></th>\n",
       "      <th>ID</th>\n",
       "      <th>Year_Birth</th>\n",
       "      <th>Age</th>\n",
       "      <th>Education</th>\n",
       "      <th>Marital_Status</th>\n",
       "      <th>Income</th>\n",
       "      <th>Kidhome</th>\n",
       "      <th>Teenhome</th>\n",
       "      <th>Dt_Customer</th>\n",
       "      <th>Recency</th>\n",
       "      <th>MntWines</th>\n",
       "      <th>MntFruits</th>\n",
       "      <th>MntMeatProducts</th>\n",
       "      <th>MntFishProducts</th>\n",
       "      <th>MntSweetProducts</th>\n",
       "      <th>MntGoldProds</th>\n",
       "      <th>NumDealsPurchases</th>\n",
       "      <th>NumWebPurchases</th>\n",
       "      <th>NumCatalogPurchases</th>\n",
       "      <th>NumStorePurchases</th>\n",
       "      <th>NumWebVisitsMonth</th>\n",
       "      <th>AcceptedCmp3</th>\n",
       "      <th>AcceptedCmp4</th>\n",
       "      <th>AcceptedCmp5</th>\n",
       "      <th>AcceptedCmp1</th>\n",
       "      <th>AcceptedCmp2</th>\n",
       "      <th>Response</th>\n",
       "      <th>Complain</th>\n",
       "      <th>Country</th>\n",
       "    </tr>\n",
       "  </thead>\n",
       "  <tbody>\n",
       "    <tr>\n",
       "      <th>0</th>\n",
       "      <td>1503</td>\n",
       "      <td>1976</td>\n",
       "      <td>45</td>\n",
       "      <td>PhD</td>\n",
       "      <td>Together</td>\n",
       "      <td>162397</td>\n",
       "      <td>1</td>\n",
       "      <td>1</td>\n",
       "      <td>6/3/13</td>\n",
       "      <td>31</td>\n",
       "      <td>85</td>\n",
       "      <td>1</td>\n",
       "      <td>16</td>\n",
       "      <td>2</td>\n",
       "      <td>1</td>\n",
       "      <td>2</td>\n",
       "      <td>0</td>\n",
       "      <td>0</td>\n",
       "      <td>0</td>\n",
       "      <td>1</td>\n",
       "      <td>1</td>\n",
       "      <td>0</td>\n",
       "      <td>0</td>\n",
       "      <td>0</td>\n",
       "      <td>0</td>\n",
       "      <td>0</td>\n",
       "      <td>0</td>\n",
       "      <td>0</td>\n",
       "      <td>Spain</td>\n",
       "    </tr>\n",
       "    <tr>\n",
       "      <th>1</th>\n",
       "      <td>1501</td>\n",
       "      <td>1982</td>\n",
       "      <td>39</td>\n",
       "      <td>PhD</td>\n",
       "      <td>Married</td>\n",
       "      <td>160803</td>\n",
       "      <td>0</td>\n",
       "      <td>0</td>\n",
       "      <td>8/4/12</td>\n",
       "      <td>21</td>\n",
       "      <td>55</td>\n",
       "      <td>16</td>\n",
       "      <td>1622</td>\n",
       "      <td>17</td>\n",
       "      <td>3</td>\n",
       "      <td>4</td>\n",
       "      <td>15</td>\n",
       "      <td>0</td>\n",
       "      <td>28</td>\n",
       "      <td>1</td>\n",
       "      <td>0</td>\n",
       "      <td>0</td>\n",
       "      <td>0</td>\n",
       "      <td>0</td>\n",
       "      <td>0</td>\n",
       "      <td>0</td>\n",
       "      <td>0</td>\n",
       "      <td>0</td>\n",
       "      <td>USA</td>\n",
       "    </tr>\n",
       "    <tr>\n",
       "      <th>2</th>\n",
       "      <td>5336</td>\n",
       "      <td>1971</td>\n",
       "      <td>50</td>\n",
       "      <td>Master</td>\n",
       "      <td>Together</td>\n",
       "      <td>157733</td>\n",
       "      <td>1</td>\n",
       "      <td>0</td>\n",
       "      <td>6/4/13</td>\n",
       "      <td>37</td>\n",
       "      <td>39</td>\n",
       "      <td>1</td>\n",
       "      <td>9</td>\n",
       "      <td>2</td>\n",
       "      <td>0</td>\n",
       "      <td>8</td>\n",
       "      <td>0</td>\n",
       "      <td>1</td>\n",
       "      <td>0</td>\n",
       "      <td>1</td>\n",
       "      <td>1</td>\n",
       "      <td>0</td>\n",
       "      <td>0</td>\n",
       "      <td>0</td>\n",
       "      <td>0</td>\n",
       "      <td>0</td>\n",
       "      <td>0</td>\n",
       "      <td>0</td>\n",
       "      <td>Spain</td>\n",
       "    </tr>\n",
       "    <tr>\n",
       "      <th>3</th>\n",
       "      <td>8475</td>\n",
       "      <td>1973</td>\n",
       "      <td>48</td>\n",
       "      <td>PhD</td>\n",
       "      <td>Married</td>\n",
       "      <td>157243</td>\n",
       "      <td>0</td>\n",
       "      <td>1</td>\n",
       "      <td>3/1/14</td>\n",
       "      <td>98</td>\n",
       "      <td>20</td>\n",
       "      <td>2</td>\n",
       "      <td>1582</td>\n",
       "      <td>1</td>\n",
       "      <td>2</td>\n",
       "      <td>1</td>\n",
       "      <td>15</td>\n",
       "      <td>0</td>\n",
       "      <td>22</td>\n",
       "      <td>0</td>\n",
       "      <td>0</td>\n",
       "      <td>0</td>\n",
       "      <td>0</td>\n",
       "      <td>0</td>\n",
       "      <td>0</td>\n",
       "      <td>0</td>\n",
       "      <td>0</td>\n",
       "      <td>0</td>\n",
       "      <td>India</td>\n",
       "    </tr>\n",
       "    <tr>\n",
       "      <th>4</th>\n",
       "      <td>4931</td>\n",
       "      <td>1977</td>\n",
       "      <td>44</td>\n",
       "      <td>Graduation</td>\n",
       "      <td>Together</td>\n",
       "      <td>157146</td>\n",
       "      <td>0</td>\n",
       "      <td>0</td>\n",
       "      <td>4/29/13</td>\n",
       "      <td>13</td>\n",
       "      <td>1</td>\n",
       "      <td>0</td>\n",
       "      <td>1725</td>\n",
       "      <td>2</td>\n",
       "      <td>1</td>\n",
       "      <td>1</td>\n",
       "      <td>0</td>\n",
       "      <td>0</td>\n",
       "      <td>28</td>\n",
       "      <td>0</td>\n",
       "      <td>1</td>\n",
       "      <td>0</td>\n",
       "      <td>0</td>\n",
       "      <td>0</td>\n",
       "      <td>0</td>\n",
       "      <td>0</td>\n",
       "      <td>0</td>\n",
       "      <td>0</td>\n",
       "      <td>Saudi Arabia</td>\n",
       "    </tr>\n",
       "  </tbody>\n",
       "</table>\n",
       "</div>"
      ],
      "text/plain": [
       "     ID  Year_Birth  Age   Education Marital_Status  Income  Kidhome  \\\n",
       "0  1503        1976   45         PhD       Together  162397        1   \n",
       "1  1501        1982   39         PhD        Married  160803        0   \n",
       "2  5336        1971   50      Master       Together  157733        1   \n",
       "3  8475        1973   48         PhD        Married  157243        0   \n",
       "4  4931        1977   44  Graduation       Together  157146        0   \n",
       "\n",
       "   Teenhome Dt_Customer  Recency  MntWines  MntFruits  MntMeatProducts  \\\n",
       "0         1      6/3/13       31        85          1               16   \n",
       "1         0      8/4/12       21        55         16             1622   \n",
       "2         0      6/4/13       37        39          1                9   \n",
       "3         1      3/1/14       98        20          2             1582   \n",
       "4         0     4/29/13       13         1          0             1725   \n",
       "\n",
       "   MntFishProducts  MntSweetProducts  MntGoldProds  NumDealsPurchases  \\\n",
       "0                2                 1             2                  0   \n",
       "1               17                 3             4                 15   \n",
       "2                2                 0             8                  0   \n",
       "3                1                 2             1                 15   \n",
       "4                2                 1             1                  0   \n",
       "\n",
       "   NumWebPurchases  NumCatalogPurchases  NumStorePurchases  NumWebVisitsMonth  \\\n",
       "0                0                    0                  1                  1   \n",
       "1                0                   28                  1                  0   \n",
       "2                1                    0                  1                  1   \n",
       "3                0                   22                  0                  0   \n",
       "4                0                   28                  0                  1   \n",
       "\n",
       "   AcceptedCmp3  AcceptedCmp4  AcceptedCmp5  AcceptedCmp1  AcceptedCmp2  \\\n",
       "0             0             0             0             0             0   \n",
       "1             0             0             0             0             0   \n",
       "2             0             0             0             0             0   \n",
       "3             0             0             0             0             0   \n",
       "4             0             0             0             0             0   \n",
       "\n",
       "   Response  Complain       Country  \n",
       "0         0         0         Spain  \n",
       "1         0         0           USA  \n",
       "2         0         0         Spain  \n",
       "3         0         0         India  \n",
       "4         0         0  Saudi Arabia  "
      ]
     },
     "execution_count": 2,
     "metadata": {},
     "output_type": "execute_result"
    }
   ],
   "source": [
    "data = pd.read_excel('clean_data.xlsx', index_col = 0)\n",
    "data.head()"
   ]
  },
  {
   "cell_type": "code",
   "execution_count": 3,
   "metadata": {},
   "outputs": [
    {
     "data": {
      "application/vnd.plotly.v1+json": {
       "config": {
        "plotlyServerURL": "https://plot.ly"
       },
       "data": [
        {
         "geo": "geo",
         "hovertemplate": "<b>%{hovertext}</b><br><br>Country=%{location}<br>Sales Percent=%{marker.size}<extra></extra>",
         "hovertext": [
          "Australia"
         ],
         "legendgroup": "Australia",
         "locationmode": "country names",
         "locations": [
          "Australia"
         ],
         "marker": {
          "color": "lightslategray",
          "size": [
           6.55
          ],
          "sizemode": "area",
          "sizeref": 0.019552,
          "symbol": "circle"
         },
         "mode": "markers",
         "name": "Australia",
         "showlegend": true,
         "type": "scattergeo"
        },
        {
         "geo": "geo",
         "hovertemplate": "<b>%{hovertext}</b><br><br>Country=%{location}<br>Sales Percent=%{marker.size}<extra></extra>",
         "hovertext": [
          "Canada"
         ],
         "legendgroup": "Canada",
         "locationmode": "country names",
         "locations": [
          "Canada"
         ],
         "marker": {
          "color": "goldenrod",
          "size": [
           12.3
          ],
          "sizemode": "area",
          "sizeref": 0.019552,
          "symbol": "circle"
         },
         "mode": "markers",
         "name": "Canada",
         "showlegend": true,
         "type": "scattergeo"
        },
        {
         "geo": "geo",
         "hovertemplate": "<b>%{hovertext}</b><br><br>Country=%{location}<br>Sales Percent=%{marker.size}<extra></extra>",
         "hovertext": [
          "Germany"
         ],
         "legendgroup": "Germany",
         "locationmode": "country names",
         "locations": [
          "Germany"
         ],
         "marker": {
          "color": "Tomato",
          "size": [
           5.55
          ],
          "sizemode": "area",
          "sizeref": 0.019552,
          "symbol": "circle"
         },
         "mode": "markers",
         "name": "Germany",
         "showlegend": true,
         "type": "scattergeo"
        },
        {
         "geo": "geo",
         "hovertemplate": "<b>%{hovertext}</b><br><br>Country=%{location}<br>Sales Percent=%{marker.size}<extra></extra>",
         "hovertext": [
          "India"
         ],
         "legendgroup": "India",
         "locationmode": "country names",
         "locations": [
          "India"
         ],
         "marker": {
          "color": "wheat",
          "size": [
           5.85
          ],
          "sizemode": "area",
          "sizeref": 0.019552,
          "symbol": "circle"
         },
         "mode": "markers",
         "name": "India",
         "showlegend": true,
         "type": "scattergeo"
        },
        {
         "geo": "geo",
         "hovertemplate": "<b>%{hovertext}</b><br><br>Country=%{location}<br>Sales Percent=%{marker.size}<extra></extra>",
         "hovertext": [
          "Mexico"
         ],
         "legendgroup": "Mexico",
         "locationmode": "country names",
         "locations": [
          "Mexico"
         ],
         "marker": {
          "color": "saddlebrown",
          "size": [
           0.23
          ],
          "sizemode": "area",
          "sizeref": 0.019552,
          "symbol": "circle"
         },
         "mode": "markers",
         "name": "Mexico",
         "showlegend": true,
         "type": "scattergeo"
        },
        {
         "geo": "geo",
         "hovertemplate": "<b>%{hovertext}</b><br><br>Country=%{location}<br>Sales Percent=%{marker.size}<extra></extra>",
         "hovertext": [
          "Saudi Arabia"
         ],
         "legendgroup": "Saudi Arabia",
         "locationmode": "country names",
         "locations": [
          "Saudi Arabia"
         ],
         "marker": {
          "color": "crimson",
          "size": [
           15.62
          ],
          "sizemode": "area",
          "sizeref": 0.019552,
          "symbol": "circle"
         },
         "mode": "markers",
         "name": "Saudi Arabia",
         "showlegend": true,
         "type": "scattergeo"
        },
        {
         "geo": "geo",
         "hovertemplate": "<b>%{hovertext}</b><br><br>Country=%{location}<br>Sales Percent=%{marker.size}<extra></extra>",
         "hovertext": [
          "Spain"
         ],
         "legendgroup": "Spain",
         "locationmode": "country names",
         "locations": [
          "Spain"
         ],
         "marker": {
          "color": "DarkGreen",
          "size": [
           48.88
          ],
          "sizemode": "area",
          "sizeref": 0.019552,
          "symbol": "circle"
         },
         "mode": "markers",
         "name": "Spain",
         "showlegend": true,
         "type": "scattergeo"
        },
        {
         "geo": "geo",
         "hovertemplate": "<b>%{hovertext}</b><br><br>Country=%{location}<br>Sales Percent=%{marker.size}<extra></extra>",
         "hovertext": [
          "USA"
         ],
         "legendgroup": "USA",
         "locationmode": "country names",
         "locations": [
          "USA"
         ],
         "marker": {
          "color": "DarkSeaGreen",
          "size": [
           5.02
          ],
          "sizemode": "area",
          "sizeref": 0.019552,
          "symbol": "circle"
         },
         "mode": "markers",
         "name": "USA",
         "showlegend": true,
         "type": "scattergeo"
        }
       ],
       "layout": {
        "font": {
         "color": "DarkGreen",
         "size": 20
        },
        "geo": {
         "center": {},
         "domain": {
          "x": [
           0,
           1
          ],
          "y": [
           0,
           1
          ]
         }
        },
        "legend": {
         "itemsizing": "constant",
         "title": {
          "text": "Country"
         },
         "tracegroupgap": 0
        },
        "margin": {
         "t": 60
        },
        "paper_bgcolor": "rgba(0, 0, 0, 0)",
        "plot_bgcolor": "rgba(0, 0, 0, 0)",
        "showlegend": true,
        "template": {
         "data": {
          "bar": [
           {
            "error_x": {
             "color": "#2a3f5f"
            },
            "error_y": {
             "color": "#2a3f5f"
            },
            "marker": {
             "line": {
              "color": "#E5ECF6",
              "width": 0.5
             },
             "pattern": {
              "fillmode": "overlay",
              "size": 10,
              "solidity": 0.2
             }
            },
            "type": "bar"
           }
          ],
          "barpolar": [
           {
            "marker": {
             "line": {
              "color": "#E5ECF6",
              "width": 0.5
             },
             "pattern": {
              "fillmode": "overlay",
              "size": 10,
              "solidity": 0.2
             }
            },
            "type": "barpolar"
           }
          ],
          "carpet": [
           {
            "aaxis": {
             "endlinecolor": "#2a3f5f",
             "gridcolor": "white",
             "linecolor": "white",
             "minorgridcolor": "white",
             "startlinecolor": "#2a3f5f"
            },
            "baxis": {
             "endlinecolor": "#2a3f5f",
             "gridcolor": "white",
             "linecolor": "white",
             "minorgridcolor": "white",
             "startlinecolor": "#2a3f5f"
            },
            "type": "carpet"
           }
          ],
          "choropleth": [
           {
            "colorbar": {
             "outlinewidth": 0,
             "ticks": ""
            },
            "type": "choropleth"
           }
          ],
          "contour": [
           {
            "colorbar": {
             "outlinewidth": 0,
             "ticks": ""
            },
            "colorscale": [
             [
              0,
              "#0d0887"
             ],
             [
              0.1111111111111111,
              "#46039f"
             ],
             [
              0.2222222222222222,
              "#7201a8"
             ],
             [
              0.3333333333333333,
              "#9c179e"
             ],
             [
              0.4444444444444444,
              "#bd3786"
             ],
             [
              0.5555555555555556,
              "#d8576b"
             ],
             [
              0.6666666666666666,
              "#ed7953"
             ],
             [
              0.7777777777777778,
              "#fb9f3a"
             ],
             [
              0.8888888888888888,
              "#fdca26"
             ],
             [
              1,
              "#f0f921"
             ]
            ],
            "type": "contour"
           }
          ],
          "contourcarpet": [
           {
            "colorbar": {
             "outlinewidth": 0,
             "ticks": ""
            },
            "type": "contourcarpet"
           }
          ],
          "heatmap": [
           {
            "colorbar": {
             "outlinewidth": 0,
             "ticks": ""
            },
            "colorscale": [
             [
              0,
              "#0d0887"
             ],
             [
              0.1111111111111111,
              "#46039f"
             ],
             [
              0.2222222222222222,
              "#7201a8"
             ],
             [
              0.3333333333333333,
              "#9c179e"
             ],
             [
              0.4444444444444444,
              "#bd3786"
             ],
             [
              0.5555555555555556,
              "#d8576b"
             ],
             [
              0.6666666666666666,
              "#ed7953"
             ],
             [
              0.7777777777777778,
              "#fb9f3a"
             ],
             [
              0.8888888888888888,
              "#fdca26"
             ],
             [
              1,
              "#f0f921"
             ]
            ],
            "type": "heatmap"
           }
          ],
          "heatmapgl": [
           {
            "colorbar": {
             "outlinewidth": 0,
             "ticks": ""
            },
            "colorscale": [
             [
              0,
              "#0d0887"
             ],
             [
              0.1111111111111111,
              "#46039f"
             ],
             [
              0.2222222222222222,
              "#7201a8"
             ],
             [
              0.3333333333333333,
              "#9c179e"
             ],
             [
              0.4444444444444444,
              "#bd3786"
             ],
             [
              0.5555555555555556,
              "#d8576b"
             ],
             [
              0.6666666666666666,
              "#ed7953"
             ],
             [
              0.7777777777777778,
              "#fb9f3a"
             ],
             [
              0.8888888888888888,
              "#fdca26"
             ],
             [
              1,
              "#f0f921"
             ]
            ],
            "type": "heatmapgl"
           }
          ],
          "histogram": [
           {
            "marker": {
             "pattern": {
              "fillmode": "overlay",
              "size": 10,
              "solidity": 0.2
             }
            },
            "type": "histogram"
           }
          ],
          "histogram2d": [
           {
            "colorbar": {
             "outlinewidth": 0,
             "ticks": ""
            },
            "colorscale": [
             [
              0,
              "#0d0887"
             ],
             [
              0.1111111111111111,
              "#46039f"
             ],
             [
              0.2222222222222222,
              "#7201a8"
             ],
             [
              0.3333333333333333,
              "#9c179e"
             ],
             [
              0.4444444444444444,
              "#bd3786"
             ],
             [
              0.5555555555555556,
              "#d8576b"
             ],
             [
              0.6666666666666666,
              "#ed7953"
             ],
             [
              0.7777777777777778,
              "#fb9f3a"
             ],
             [
              0.8888888888888888,
              "#fdca26"
             ],
             [
              1,
              "#f0f921"
             ]
            ],
            "type": "histogram2d"
           }
          ],
          "histogram2dcontour": [
           {
            "colorbar": {
             "outlinewidth": 0,
             "ticks": ""
            },
            "colorscale": [
             [
              0,
              "#0d0887"
             ],
             [
              0.1111111111111111,
              "#46039f"
             ],
             [
              0.2222222222222222,
              "#7201a8"
             ],
             [
              0.3333333333333333,
              "#9c179e"
             ],
             [
              0.4444444444444444,
              "#bd3786"
             ],
             [
              0.5555555555555556,
              "#d8576b"
             ],
             [
              0.6666666666666666,
              "#ed7953"
             ],
             [
              0.7777777777777778,
              "#fb9f3a"
             ],
             [
              0.8888888888888888,
              "#fdca26"
             ],
             [
              1,
              "#f0f921"
             ]
            ],
            "type": "histogram2dcontour"
           }
          ],
          "mesh3d": [
           {
            "colorbar": {
             "outlinewidth": 0,
             "ticks": ""
            },
            "type": "mesh3d"
           }
          ],
          "parcoords": [
           {
            "line": {
             "colorbar": {
              "outlinewidth": 0,
              "ticks": ""
             }
            },
            "type": "parcoords"
           }
          ],
          "pie": [
           {
            "automargin": true,
            "type": "pie"
           }
          ],
          "scatter": [
           {
            "marker": {
             "colorbar": {
              "outlinewidth": 0,
              "ticks": ""
             }
            },
            "type": "scatter"
           }
          ],
          "scatter3d": [
           {
            "line": {
             "colorbar": {
              "outlinewidth": 0,
              "ticks": ""
             }
            },
            "marker": {
             "colorbar": {
              "outlinewidth": 0,
              "ticks": ""
             }
            },
            "type": "scatter3d"
           }
          ],
          "scattercarpet": [
           {
            "marker": {
             "colorbar": {
              "outlinewidth": 0,
              "ticks": ""
             }
            },
            "type": "scattercarpet"
           }
          ],
          "scattergeo": [
           {
            "marker": {
             "colorbar": {
              "outlinewidth": 0,
              "ticks": ""
             }
            },
            "type": "scattergeo"
           }
          ],
          "scattergl": [
           {
            "marker": {
             "colorbar": {
              "outlinewidth": 0,
              "ticks": ""
             }
            },
            "type": "scattergl"
           }
          ],
          "scattermapbox": [
           {
            "marker": {
             "colorbar": {
              "outlinewidth": 0,
              "ticks": ""
             }
            },
            "type": "scattermapbox"
           }
          ],
          "scatterpolar": [
           {
            "marker": {
             "colorbar": {
              "outlinewidth": 0,
              "ticks": ""
             }
            },
            "type": "scatterpolar"
           }
          ],
          "scatterpolargl": [
           {
            "marker": {
             "colorbar": {
              "outlinewidth": 0,
              "ticks": ""
             }
            },
            "type": "scatterpolargl"
           }
          ],
          "scatterternary": [
           {
            "marker": {
             "colorbar": {
              "outlinewidth": 0,
              "ticks": ""
             }
            },
            "type": "scatterternary"
           }
          ],
          "surface": [
           {
            "colorbar": {
             "outlinewidth": 0,
             "ticks": ""
            },
            "colorscale": [
             [
              0,
              "#0d0887"
             ],
             [
              0.1111111111111111,
              "#46039f"
             ],
             [
              0.2222222222222222,
              "#7201a8"
             ],
             [
              0.3333333333333333,
              "#9c179e"
             ],
             [
              0.4444444444444444,
              "#bd3786"
             ],
             [
              0.5555555555555556,
              "#d8576b"
             ],
             [
              0.6666666666666666,
              "#ed7953"
             ],
             [
              0.7777777777777778,
              "#fb9f3a"
             ],
             [
              0.8888888888888888,
              "#fdca26"
             ],
             [
              1,
              "#f0f921"
             ]
            ],
            "type": "surface"
           }
          ],
          "table": [
           {
            "cells": {
             "fill": {
              "color": "#EBF0F8"
             },
             "line": {
              "color": "white"
             }
            },
            "header": {
             "fill": {
              "color": "#C8D4E3"
             },
             "line": {
              "color": "white"
             }
            },
            "type": "table"
           }
          ]
         },
         "layout": {
          "annotationdefaults": {
           "arrowcolor": "#2a3f5f",
           "arrowhead": 0,
           "arrowwidth": 1
          },
          "autotypenumbers": "strict",
          "coloraxis": {
           "colorbar": {
            "outlinewidth": 0,
            "ticks": ""
           }
          },
          "colorscale": {
           "diverging": [
            [
             0,
             "#8e0152"
            ],
            [
             0.1,
             "#c51b7d"
            ],
            [
             0.2,
             "#de77ae"
            ],
            [
             0.3,
             "#f1b6da"
            ],
            [
             0.4,
             "#fde0ef"
            ],
            [
             0.5,
             "#f7f7f7"
            ],
            [
             0.6,
             "#e6f5d0"
            ],
            [
             0.7,
             "#b8e186"
            ],
            [
             0.8,
             "#7fbc41"
            ],
            [
             0.9,
             "#4d9221"
            ],
            [
             1,
             "#276419"
            ]
           ],
           "sequential": [
            [
             0,
             "#0d0887"
            ],
            [
             0.1111111111111111,
             "#46039f"
            ],
            [
             0.2222222222222222,
             "#7201a8"
            ],
            [
             0.3333333333333333,
             "#9c179e"
            ],
            [
             0.4444444444444444,
             "#bd3786"
            ],
            [
             0.5555555555555556,
             "#d8576b"
            ],
            [
             0.6666666666666666,
             "#ed7953"
            ],
            [
             0.7777777777777778,
             "#fb9f3a"
            ],
            [
             0.8888888888888888,
             "#fdca26"
            ],
            [
             1,
             "#f0f921"
            ]
           ],
           "sequentialminus": [
            [
             0,
             "#0d0887"
            ],
            [
             0.1111111111111111,
             "#46039f"
            ],
            [
             0.2222222222222222,
             "#7201a8"
            ],
            [
             0.3333333333333333,
             "#9c179e"
            ],
            [
             0.4444444444444444,
             "#bd3786"
            ],
            [
             0.5555555555555556,
             "#d8576b"
            ],
            [
             0.6666666666666666,
             "#ed7953"
            ],
            [
             0.7777777777777778,
             "#fb9f3a"
            ],
            [
             0.8888888888888888,
             "#fdca26"
            ],
            [
             1,
             "#f0f921"
            ]
           ]
          },
          "colorway": [
           "#636efa",
           "#EF553B",
           "#00cc96",
           "#ab63fa",
           "#FFA15A",
           "#19d3f3",
           "#FF6692",
           "#B6E880",
           "#FF97FF",
           "#FECB52"
          ],
          "font": {
           "color": "#2a3f5f"
          },
          "geo": {
           "bgcolor": "white",
           "lakecolor": "white",
           "landcolor": "#E5ECF6",
           "showlakes": true,
           "showland": true,
           "subunitcolor": "white"
          },
          "hoverlabel": {
           "align": "left"
          },
          "hovermode": "closest",
          "mapbox": {
           "style": "light"
          },
          "paper_bgcolor": "white",
          "plot_bgcolor": "#E5ECF6",
          "polar": {
           "angularaxis": {
            "gridcolor": "white",
            "linecolor": "white",
            "ticks": ""
           },
           "bgcolor": "#E5ECF6",
           "radialaxis": {
            "gridcolor": "white",
            "linecolor": "white",
            "ticks": ""
           }
          },
          "scene": {
           "xaxis": {
            "backgroundcolor": "#E5ECF6",
            "gridcolor": "white",
            "gridwidth": 2,
            "linecolor": "white",
            "showbackground": true,
            "ticks": "",
            "zerolinecolor": "white"
           },
           "yaxis": {
            "backgroundcolor": "#E5ECF6",
            "gridcolor": "white",
            "gridwidth": 2,
            "linecolor": "white",
            "showbackground": true,
            "ticks": "",
            "zerolinecolor": "white"
           },
           "zaxis": {
            "backgroundcolor": "#E5ECF6",
            "gridcolor": "white",
            "gridwidth": 2,
            "linecolor": "white",
            "showbackground": true,
            "ticks": "",
            "zerolinecolor": "white"
           }
          },
          "shapedefaults": {
           "line": {
            "color": "#2a3f5f"
           }
          },
          "ternary": {
           "aaxis": {
            "gridcolor": "white",
            "linecolor": "white",
            "ticks": ""
           },
           "baxis": {
            "gridcolor": "white",
            "linecolor": "white",
            "ticks": ""
           },
           "bgcolor": "#E5ECF6",
           "caxis": {
            "gridcolor": "white",
            "linecolor": "white",
            "ticks": ""
           }
          },
          "title": {
           "x": 0.05
          },
          "xaxis": {
           "automargin": true,
           "gridcolor": "white",
           "linecolor": "white",
           "ticks": "",
           "title": {
            "standoff": 15
           },
           "zerolinecolor": "white",
           "zerolinewidth": 2
          },
          "yaxis": {
           "automargin": true,
           "gridcolor": "white",
           "linecolor": "white",
           "ticks": "",
           "title": {
            "standoff": 15
           },
           "zerolinecolor": "white",
           "zerolinewidth": 2
          }
         }
        },
        "title": {
         "text": "Total Product Sales by Country (in %)",
         "x": 0.45
        }
       }
      }
     },
     "metadata": {},
     "output_type": "display_data"
    }
   ],
   "source": [
    "data['total_sales'] = data['MntWines'] + data['MntFruits'] + data['MntMeatProducts'] + data['MntFishProducts'] + data['MntSweetProducts'] + data['MntGoldProds']\n",
    "\n",
    "\n",
    "groupby_country = data.groupby(['Country'])['total_sales'].sum().reset_index()\n",
    "groupby_country['Sales Percent']=round(100*groupby_country['total_sales']/sum(groupby_country['total_sales']),2)\n",
    "country_count = groupby_country['Country'].value_counts()\n",
    "country_count = country_count.reset_index().rename(columns={'index':'Country', 'Country':'Count'})\n",
    "country_list = groupby_country.Country\n",
    "new_bubble_chart_fig = px.scatter_geo(groupby_country, \n",
    "                    locations='Country',\n",
    "                    color='Country',\n",
    "                    locationmode='country names', \n",
    "                    size='Sales Percent',\n",
    "                    size_max=50,\n",
    "                    color_discrete_map={'Spain':'DarkGreen', 'USA':'DarkSeaGreen', 'India':'wheat', 'Saudi Arabia':'crimson', 'Canada':'goldenrod', 'Germany':'Tomato', 'Australia':'lightslategray', 'Mexico':'saddlebrown'},\n",
    "                    hover_name = 'Country')\n",
    "new_bubble_chart_fig.update_layout(\n",
    "        title_text = 'Total Product Sales by Country (in %)',\n",
    "        title_x=0.45,\n",
    "        showlegend = True)\n",
    "new_bubble_chart_fig.update_layout({'plot_bgcolor': 'rgba(0, 0, 0, 0)','paper_bgcolor': 'rgba(0, 0, 0, 0)'})\n",
    "new_bubble_chart_fig.update_layout(\n",
    "    font=dict(\n",
    "        size=20,\n",
    "        color=\"DarkGreen\"\n",
    "    )\n",
    ")"
   ]
  },
  {
   "cell_type": "code",
   "execution_count": 4,
   "metadata": {},
   "outputs": [
    {
     "data": {
      "text/html": [
       "<div>\n",
       "<style scoped>\n",
       "    .dataframe tbody tr th:only-of-type {\n",
       "        vertical-align: middle;\n",
       "    }\n",
       "\n",
       "    .dataframe tbody tr th {\n",
       "        vertical-align: top;\n",
       "    }\n",
       "\n",
       "    .dataframe thead th {\n",
       "        text-align: right;\n",
       "    }\n",
       "</style>\n",
       "<table border=\"1\" class=\"dataframe\">\n",
       "  <thead>\n",
       "    <tr style=\"text-align: right;\">\n",
       "      <th></th>\n",
       "      <th>Country</th>\n",
       "      <th>total_sales</th>\n",
       "      <th>Sales Percent</th>\n",
       "    </tr>\n",
       "  </thead>\n",
       "  <tbody>\n",
       "    <tr>\n",
       "      <th>6</th>\n",
       "      <td>Spain</td>\n",
       "      <td>660367</td>\n",
       "      <td>48.88</td>\n",
       "    </tr>\n",
       "    <tr>\n",
       "      <th>5</th>\n",
       "      <td>Saudi Arabia</td>\n",
       "      <td>210987</td>\n",
       "      <td>15.62</td>\n",
       "    </tr>\n",
       "    <tr>\n",
       "      <th>1</th>\n",
       "      <td>Canada</td>\n",
       "      <td>166169</td>\n",
       "      <td>12.30</td>\n",
       "    </tr>\n",
       "    <tr>\n",
       "      <th>0</th>\n",
       "      <td>Australia</td>\n",
       "      <td>88547</td>\n",
       "      <td>6.55</td>\n",
       "    </tr>\n",
       "    <tr>\n",
       "      <th>3</th>\n",
       "      <td>India</td>\n",
       "      <td>78996</td>\n",
       "      <td>5.85</td>\n",
       "    </tr>\n",
       "    <tr>\n",
       "      <th>2</th>\n",
       "      <td>Germany</td>\n",
       "      <td>74913</td>\n",
       "      <td>5.55</td>\n",
       "    </tr>\n",
       "    <tr>\n",
       "      <th>7</th>\n",
       "      <td>USA</td>\n",
       "      <td>67882</td>\n",
       "      <td>5.02</td>\n",
       "    </tr>\n",
       "    <tr>\n",
       "      <th>4</th>\n",
       "      <td>Mexico</td>\n",
       "      <td>3122</td>\n",
       "      <td>0.23</td>\n",
       "    </tr>\n",
       "  </tbody>\n",
       "</table>\n",
       "</div>"
      ],
      "text/plain": [
       "        Country  total_sales  Sales Percent\n",
       "6         Spain       660367          48.88\n",
       "5  Saudi Arabia       210987          15.62\n",
       "1        Canada       166169          12.30\n",
       "0     Australia        88547           6.55\n",
       "3         India        78996           5.85\n",
       "2       Germany        74913           5.55\n",
       "7           USA        67882           5.02\n",
       "4        Mexico         3122           0.23"
      ]
     },
     "execution_count": 4,
     "metadata": {},
     "output_type": "execute_result"
    }
   ],
   "source": [
    "groupby_country.sort_values('Sales Percent', ascending = False)"
   ]
  },
  {
   "cell_type": "code",
   "execution_count": 5,
   "metadata": {},
   "outputs": [],
   "source": [
    "\n",
    "wine_sales = data.MntWines.sum()\n",
    "fruit_sales = data.MntFruits.sum()\n",
    "meat_sales = data.MntMeatProducts.sum()\n",
    "fish_sales = data.MntFishProducts.sum()\n",
    "sweets_sales = data.MntSweetProducts.sum()\n",
    "gold_sales = data.MntGoldProds.sum()\n",
    "total_product_sales = wine_sales + fruit_sales + meat_sales + fish_sales + sweets_sales + gold_sales\n",
    "wine_sales_perc = round(wine_sales/total_product_sales*100,2)\n",
    "fruit_sales_perc = round(fruit_sales/total_product_sales*100,2)\n",
    "meat_sales_perc = round(meat_sales/total_product_sales*100,2)\n",
    "fish_sales_perc = round(fish_sales/total_product_sales*100,2)\n",
    "sweets_sales_perc = round(sweets_sales/total_product_sales*100,2)\n",
    "gold_sales_perc = round(gold_sales/total_product_sales*100,2)"
   ]
  },
  {
   "cell_type": "code",
   "execution_count": 6,
   "metadata": {},
   "outputs": [
    {
     "data": {
      "application/vnd.plotly.v1+json": {
       "config": {
        "plotlyServerURL": "https://plot.ly"
       },
       "data": [
        {
         "alignmentgroup": "True",
         "hovertemplate": "variable=Product Sales<br>index=%{x}<br>value=%{y}<extra></extra>",
         "legendgroup": "Product Sales",
         "marker": {
          "color": "#636efa",
          "pattern": {
           "shape": ""
          }
         },
         "name": "Product Sales",
         "offsetgroup": "Product Sales",
         "orientation": "v",
         "showlegend": true,
         "textposition": "auto",
         "type": "bar",
         "x": [
          "WINE",
          "MEAT",
          "GOLD",
          "FISH",
          "SWEETS",
          "FRUITS"
         ],
         "xaxis": "x",
         "y": [
          678120,
          372571,
          97773,
          83489,
          60464,
          58566
         ],
         "yaxis": "y"
        }
       ],
       "layout": {
        "barmode": "relative",
        "legend": {
         "title": {
          "text": "variable"
         },
         "tracegroupgap": 0
        },
        "margin": {
         "t": 60
        },
        "paper_bgcolor": "rgba(0, 0, 0, 0)",
        "plot_bgcolor": "rgba(0, 0, 0, 0)",
        "template": {
         "data": {
          "bar": [
           {
            "error_x": {
             "color": "#2a3f5f"
            },
            "error_y": {
             "color": "#2a3f5f"
            },
            "marker": {
             "line": {
              "color": "#E5ECF6",
              "width": 0.5
             },
             "pattern": {
              "fillmode": "overlay",
              "size": 10,
              "solidity": 0.2
             }
            },
            "type": "bar"
           }
          ],
          "barpolar": [
           {
            "marker": {
             "line": {
              "color": "#E5ECF6",
              "width": 0.5
             },
             "pattern": {
              "fillmode": "overlay",
              "size": 10,
              "solidity": 0.2
             }
            },
            "type": "barpolar"
           }
          ],
          "carpet": [
           {
            "aaxis": {
             "endlinecolor": "#2a3f5f",
             "gridcolor": "white",
             "linecolor": "white",
             "minorgridcolor": "white",
             "startlinecolor": "#2a3f5f"
            },
            "baxis": {
             "endlinecolor": "#2a3f5f",
             "gridcolor": "white",
             "linecolor": "white",
             "minorgridcolor": "white",
             "startlinecolor": "#2a3f5f"
            },
            "type": "carpet"
           }
          ],
          "choropleth": [
           {
            "colorbar": {
             "outlinewidth": 0,
             "ticks": ""
            },
            "type": "choropleth"
           }
          ],
          "contour": [
           {
            "colorbar": {
             "outlinewidth": 0,
             "ticks": ""
            },
            "colorscale": [
             [
              0,
              "#0d0887"
             ],
             [
              0.1111111111111111,
              "#46039f"
             ],
             [
              0.2222222222222222,
              "#7201a8"
             ],
             [
              0.3333333333333333,
              "#9c179e"
             ],
             [
              0.4444444444444444,
              "#bd3786"
             ],
             [
              0.5555555555555556,
              "#d8576b"
             ],
             [
              0.6666666666666666,
              "#ed7953"
             ],
             [
              0.7777777777777778,
              "#fb9f3a"
             ],
             [
              0.8888888888888888,
              "#fdca26"
             ],
             [
              1,
              "#f0f921"
             ]
            ],
            "type": "contour"
           }
          ],
          "contourcarpet": [
           {
            "colorbar": {
             "outlinewidth": 0,
             "ticks": ""
            },
            "type": "contourcarpet"
           }
          ],
          "heatmap": [
           {
            "colorbar": {
             "outlinewidth": 0,
             "ticks": ""
            },
            "colorscale": [
             [
              0,
              "#0d0887"
             ],
             [
              0.1111111111111111,
              "#46039f"
             ],
             [
              0.2222222222222222,
              "#7201a8"
             ],
             [
              0.3333333333333333,
              "#9c179e"
             ],
             [
              0.4444444444444444,
              "#bd3786"
             ],
             [
              0.5555555555555556,
              "#d8576b"
             ],
             [
              0.6666666666666666,
              "#ed7953"
             ],
             [
              0.7777777777777778,
              "#fb9f3a"
             ],
             [
              0.8888888888888888,
              "#fdca26"
             ],
             [
              1,
              "#f0f921"
             ]
            ],
            "type": "heatmap"
           }
          ],
          "heatmapgl": [
           {
            "colorbar": {
             "outlinewidth": 0,
             "ticks": ""
            },
            "colorscale": [
             [
              0,
              "#0d0887"
             ],
             [
              0.1111111111111111,
              "#46039f"
             ],
             [
              0.2222222222222222,
              "#7201a8"
             ],
             [
              0.3333333333333333,
              "#9c179e"
             ],
             [
              0.4444444444444444,
              "#bd3786"
             ],
             [
              0.5555555555555556,
              "#d8576b"
             ],
             [
              0.6666666666666666,
              "#ed7953"
             ],
             [
              0.7777777777777778,
              "#fb9f3a"
             ],
             [
              0.8888888888888888,
              "#fdca26"
             ],
             [
              1,
              "#f0f921"
             ]
            ],
            "type": "heatmapgl"
           }
          ],
          "histogram": [
           {
            "marker": {
             "pattern": {
              "fillmode": "overlay",
              "size": 10,
              "solidity": 0.2
             }
            },
            "type": "histogram"
           }
          ],
          "histogram2d": [
           {
            "colorbar": {
             "outlinewidth": 0,
             "ticks": ""
            },
            "colorscale": [
             [
              0,
              "#0d0887"
             ],
             [
              0.1111111111111111,
              "#46039f"
             ],
             [
              0.2222222222222222,
              "#7201a8"
             ],
             [
              0.3333333333333333,
              "#9c179e"
             ],
             [
              0.4444444444444444,
              "#bd3786"
             ],
             [
              0.5555555555555556,
              "#d8576b"
             ],
             [
              0.6666666666666666,
              "#ed7953"
             ],
             [
              0.7777777777777778,
              "#fb9f3a"
             ],
             [
              0.8888888888888888,
              "#fdca26"
             ],
             [
              1,
              "#f0f921"
             ]
            ],
            "type": "histogram2d"
           }
          ],
          "histogram2dcontour": [
           {
            "colorbar": {
             "outlinewidth": 0,
             "ticks": ""
            },
            "colorscale": [
             [
              0,
              "#0d0887"
             ],
             [
              0.1111111111111111,
              "#46039f"
             ],
             [
              0.2222222222222222,
              "#7201a8"
             ],
             [
              0.3333333333333333,
              "#9c179e"
             ],
             [
              0.4444444444444444,
              "#bd3786"
             ],
             [
              0.5555555555555556,
              "#d8576b"
             ],
             [
              0.6666666666666666,
              "#ed7953"
             ],
             [
              0.7777777777777778,
              "#fb9f3a"
             ],
             [
              0.8888888888888888,
              "#fdca26"
             ],
             [
              1,
              "#f0f921"
             ]
            ],
            "type": "histogram2dcontour"
           }
          ],
          "mesh3d": [
           {
            "colorbar": {
             "outlinewidth": 0,
             "ticks": ""
            },
            "type": "mesh3d"
           }
          ],
          "parcoords": [
           {
            "line": {
             "colorbar": {
              "outlinewidth": 0,
              "ticks": ""
             }
            },
            "type": "parcoords"
           }
          ],
          "pie": [
           {
            "automargin": true,
            "type": "pie"
           }
          ],
          "scatter": [
           {
            "marker": {
             "colorbar": {
              "outlinewidth": 0,
              "ticks": ""
             }
            },
            "type": "scatter"
           }
          ],
          "scatter3d": [
           {
            "line": {
             "colorbar": {
              "outlinewidth": 0,
              "ticks": ""
             }
            },
            "marker": {
             "colorbar": {
              "outlinewidth": 0,
              "ticks": ""
             }
            },
            "type": "scatter3d"
           }
          ],
          "scattercarpet": [
           {
            "marker": {
             "colorbar": {
              "outlinewidth": 0,
              "ticks": ""
             }
            },
            "type": "scattercarpet"
           }
          ],
          "scattergeo": [
           {
            "marker": {
             "colorbar": {
              "outlinewidth": 0,
              "ticks": ""
             }
            },
            "type": "scattergeo"
           }
          ],
          "scattergl": [
           {
            "marker": {
             "colorbar": {
              "outlinewidth": 0,
              "ticks": ""
             }
            },
            "type": "scattergl"
           }
          ],
          "scattermapbox": [
           {
            "marker": {
             "colorbar": {
              "outlinewidth": 0,
              "ticks": ""
             }
            },
            "type": "scattermapbox"
           }
          ],
          "scatterpolar": [
           {
            "marker": {
             "colorbar": {
              "outlinewidth": 0,
              "ticks": ""
             }
            },
            "type": "scatterpolar"
           }
          ],
          "scatterpolargl": [
           {
            "marker": {
             "colorbar": {
              "outlinewidth": 0,
              "ticks": ""
             }
            },
            "type": "scatterpolargl"
           }
          ],
          "scatterternary": [
           {
            "marker": {
             "colorbar": {
              "outlinewidth": 0,
              "ticks": ""
             }
            },
            "type": "scatterternary"
           }
          ],
          "surface": [
           {
            "colorbar": {
             "outlinewidth": 0,
             "ticks": ""
            },
            "colorscale": [
             [
              0,
              "#0d0887"
             ],
             [
              0.1111111111111111,
              "#46039f"
             ],
             [
              0.2222222222222222,
              "#7201a8"
             ],
             [
              0.3333333333333333,
              "#9c179e"
             ],
             [
              0.4444444444444444,
              "#bd3786"
             ],
             [
              0.5555555555555556,
              "#d8576b"
             ],
             [
              0.6666666666666666,
              "#ed7953"
             ],
             [
              0.7777777777777778,
              "#fb9f3a"
             ],
             [
              0.8888888888888888,
              "#fdca26"
             ],
             [
              1,
              "#f0f921"
             ]
            ],
            "type": "surface"
           }
          ],
          "table": [
           {
            "cells": {
             "fill": {
              "color": "#EBF0F8"
             },
             "line": {
              "color": "white"
             }
            },
            "header": {
             "fill": {
              "color": "#C8D4E3"
             },
             "line": {
              "color": "white"
             }
            },
            "type": "table"
           }
          ]
         },
         "layout": {
          "annotationdefaults": {
           "arrowcolor": "#2a3f5f",
           "arrowhead": 0,
           "arrowwidth": 1
          },
          "autotypenumbers": "strict",
          "coloraxis": {
           "colorbar": {
            "outlinewidth": 0,
            "ticks": ""
           }
          },
          "colorscale": {
           "diverging": [
            [
             0,
             "#8e0152"
            ],
            [
             0.1,
             "#c51b7d"
            ],
            [
             0.2,
             "#de77ae"
            ],
            [
             0.3,
             "#f1b6da"
            ],
            [
             0.4,
             "#fde0ef"
            ],
            [
             0.5,
             "#f7f7f7"
            ],
            [
             0.6,
             "#e6f5d0"
            ],
            [
             0.7,
             "#b8e186"
            ],
            [
             0.8,
             "#7fbc41"
            ],
            [
             0.9,
             "#4d9221"
            ],
            [
             1,
             "#276419"
            ]
           ],
           "sequential": [
            [
             0,
             "#0d0887"
            ],
            [
             0.1111111111111111,
             "#46039f"
            ],
            [
             0.2222222222222222,
             "#7201a8"
            ],
            [
             0.3333333333333333,
             "#9c179e"
            ],
            [
             0.4444444444444444,
             "#bd3786"
            ],
            [
             0.5555555555555556,
             "#d8576b"
            ],
            [
             0.6666666666666666,
             "#ed7953"
            ],
            [
             0.7777777777777778,
             "#fb9f3a"
            ],
            [
             0.8888888888888888,
             "#fdca26"
            ],
            [
             1,
             "#f0f921"
            ]
           ],
           "sequentialminus": [
            [
             0,
             "#0d0887"
            ],
            [
             0.1111111111111111,
             "#46039f"
            ],
            [
             0.2222222222222222,
             "#7201a8"
            ],
            [
             0.3333333333333333,
             "#9c179e"
            ],
            [
             0.4444444444444444,
             "#bd3786"
            ],
            [
             0.5555555555555556,
             "#d8576b"
            ],
            [
             0.6666666666666666,
             "#ed7953"
            ],
            [
             0.7777777777777778,
             "#fb9f3a"
            ],
            [
             0.8888888888888888,
             "#fdca26"
            ],
            [
             1,
             "#f0f921"
            ]
           ]
          },
          "colorway": [
           "#636efa",
           "#EF553B",
           "#00cc96",
           "#ab63fa",
           "#FFA15A",
           "#19d3f3",
           "#FF6692",
           "#B6E880",
           "#FF97FF",
           "#FECB52"
          ],
          "font": {
           "color": "#2a3f5f"
          },
          "geo": {
           "bgcolor": "white",
           "lakecolor": "white",
           "landcolor": "#E5ECF6",
           "showlakes": true,
           "showland": true,
           "subunitcolor": "white"
          },
          "hoverlabel": {
           "align": "left"
          },
          "hovermode": "closest",
          "mapbox": {
           "style": "light"
          },
          "paper_bgcolor": "white",
          "plot_bgcolor": "#E5ECF6",
          "polar": {
           "angularaxis": {
            "gridcolor": "white",
            "linecolor": "white",
            "ticks": ""
           },
           "bgcolor": "#E5ECF6",
           "radialaxis": {
            "gridcolor": "white",
            "linecolor": "white",
            "ticks": ""
           }
          },
          "scene": {
           "xaxis": {
            "backgroundcolor": "#E5ECF6",
            "gridcolor": "white",
            "gridwidth": 2,
            "linecolor": "white",
            "showbackground": true,
            "ticks": "",
            "zerolinecolor": "white"
           },
           "yaxis": {
            "backgroundcolor": "#E5ECF6",
            "gridcolor": "white",
            "gridwidth": 2,
            "linecolor": "white",
            "showbackground": true,
            "ticks": "",
            "zerolinecolor": "white"
           },
           "zaxis": {
            "backgroundcolor": "#E5ECF6",
            "gridcolor": "white",
            "gridwidth": 2,
            "linecolor": "white",
            "showbackground": true,
            "ticks": "",
            "zerolinecolor": "white"
           }
          },
          "shapedefaults": {
           "line": {
            "color": "#2a3f5f"
           }
          },
          "ternary": {
           "aaxis": {
            "gridcolor": "white",
            "linecolor": "white",
            "ticks": ""
           },
           "baxis": {
            "gridcolor": "white",
            "linecolor": "white",
            "ticks": ""
           },
           "bgcolor": "#E5ECF6",
           "caxis": {
            "gridcolor": "white",
            "linecolor": "white",
            "ticks": ""
           }
          },
          "title": {
           "x": 0.05
          },
          "xaxis": {
           "automargin": true,
           "gridcolor": "white",
           "linecolor": "white",
           "ticks": "",
           "title": {
            "standoff": 15
           },
           "zerolinecolor": "white",
           "zerolinewidth": 2
          },
          "yaxis": {
           "automargin": true,
           "gridcolor": "white",
           "linecolor": "white",
           "ticks": "",
           "title": {
            "standoff": 15
           },
           "zerolinecolor": "white",
           "zerolinewidth": 2
          }
         }
        },
        "xaxis": {
         "anchor": "y",
         "domain": [
          0,
          1
         ],
         "title": {
          "text": "index"
         }
        },
        "yaxis": {
         "anchor": "x",
         "domain": [
          0,
          1
         ],
         "title": {
          "text": "value"
         }
        }
       }
      }
     },
     "metadata": {},
     "output_type": "display_data"
    }
   ],
   "source": [
    "chart_fig = pd.DataFrame({'WINE':wine_sales, 'FRUITS':fruit_sales, 'MEAT': meat_sales, 'FISH':fish_sales,'SWEETS':sweets_sales,'GOLD': gold_sales},index = [0]).T\n",
    "chart_fig.columns = ['Product Sales']\n",
    "chart_fig.sort_values('Product Sales', ascending = False, inplace= True)\n",
    "\n",
    "\n",
    "sales_demog_fig = px.bar(chart_fig)\n",
    "sales_demog_fig\n",
    "sales_demog_fig.update_layout({'plot_bgcolor': 'rgba(0, 0, 0, 0)','paper_bgcolor': 'rgba(0, 0, 0, 0)'})"
   ]
  },
  {
   "cell_type": "code",
   "execution_count": 7,
   "metadata": {},
   "outputs": [
    {
     "data": {
      "text/html": [
       "<div>\n",
       "<style scoped>\n",
       "    .dataframe tbody tr th:only-of-type {\n",
       "        vertical-align: middle;\n",
       "    }\n",
       "\n",
       "    .dataframe tbody tr th {\n",
       "        vertical-align: top;\n",
       "    }\n",
       "\n",
       "    .dataframe thead th {\n",
       "        text-align: right;\n",
       "    }\n",
       "</style>\n",
       "<table border=\"1\" class=\"dataframe\">\n",
       "  <thead>\n",
       "    <tr style=\"text-align: right;\">\n",
       "      <th></th>\n",
       "      <th>Channel Sales</th>\n",
       "    </tr>\n",
       "  </thead>\n",
       "  <tbody>\n",
       "    <tr>\n",
       "      <th>STORE PURCHASES</th>\n",
       "      <td>12922</td>\n",
       "    </tr>\n",
       "    <tr>\n",
       "      <th>WEB PURCHASES</th>\n",
       "      <td>9104</td>\n",
       "    </tr>\n",
       "    <tr>\n",
       "      <th>CATALOG PURCHASES</th>\n",
       "      <td>5936</td>\n",
       "    </tr>\n",
       "    <tr>\n",
       "      <th>DEAL PURCHASES</th>\n",
       "      <td>5176</td>\n",
       "    </tr>\n",
       "  </tbody>\n",
       "</table>\n",
       "</div>"
      ],
      "text/plain": [
       "                   Channel Sales\n",
       "STORE PURCHASES            12922\n",
       "WEB PURCHASES               9104\n",
       "CATALOG PURCHASES           5936\n",
       "DEAL PURCHASES              5176"
      ]
     },
     "execution_count": 7,
     "metadata": {},
     "output_type": "execute_result"
    }
   ],
   "source": [
    "demog_channel = pd.DataFrame([[data.NumDealsPurchases.sum()],[data.NumWebPurchases.sum()],[data.NumCatalogPurchases.sum()],[data.NumStorePurchases.sum()]],index = ['DEAL PURCHASES', 'WEB PURCHASES','CATALOG PURCHASES', 'STORE PURCHASES'], columns = ['Channel Sales'])\n",
    "demog_channel.sort_values('Channel Sales', ascending = False)"
   ]
  },
  {
   "cell_type": "code",
   "execution_count": 8,
   "metadata": {},
   "outputs": [
    {
     "data": {
      "text/plain": [
       "Product\n",
       "FISH       6.179871\n",
       "FRUITS     4.335066\n",
       "GOLD       7.237175\n",
       "MEAT      27.577771\n",
       "SWEETS     4.475556\n",
       "WINE      50.194562\n",
       "Name: Product Sales, dtype: float64"
      ]
     },
     "execution_count": 8,
     "metadata": {},
     "output_type": "execute_result"
    }
   ],
   "source": [
    "chart_fig['Product'] = chart_fig.index\n",
    "chart_fig.groupby('Product')['Product Sales'].sum()/total_product_sales*100"
   ]
  },
  {
   "cell_type": "code",
   "execution_count": 9,
   "metadata": {},
   "outputs": [],
   "source": [
    "#Total Deals Accepted\n",
    "data['sum_accepted'] = data['AcceptedCmp3']+data['AcceptedCmp4']+data['AcceptedCmp5']+data['AcceptedCmp1']+data['AcceptedCmp2']+data['Response']"
   ]
  },
  {
   "cell_type": "code",
   "execution_count": 10,
   "metadata": {},
   "outputs": [],
   "source": [
    "#Create a Binary variable if the Customer accepted offer in any campaign\n",
    "data['Accepted_binary'] = [1 if i >0 else 0 for i in data['sum_accepted']]"
   ]
  },
  {
   "cell_type": "code",
   "execution_count": 11,
   "metadata": {},
   "outputs": [
    {
     "data": {
      "text/plain": [
       "Accepted_binary\n",
       "0    1624\n",
       "1     605\n",
       "Name: ID, dtype: int64"
      ]
     },
     "execution_count": 11,
     "metadata": {},
     "output_type": "execute_result"
    }
   ],
   "source": [
    "#Counts Distribution\n",
    "data.groupby(by = 'Accepted_binary').ID.count()"
   ]
  },
  {
   "cell_type": "code",
   "execution_count": 12,
   "metadata": {},
   "outputs": [],
   "source": [
    "#Dataset filtering -> Including only those customers who did not accept any offer\n",
    "data_remaining = data[data['Accepted_binary']==0]"
   ]
  },
  {
   "cell_type": "markdown",
   "metadata": {},
   "source": [
    "# Demographic Creation"
   ]
  },
  {
   "cell_type": "code",
   "execution_count": 13,
   "metadata": {},
   "outputs": [
    {
     "name": "stderr",
     "output_type": "stream",
     "text": [
      "<ipython-input-13-650783a9774d>:2: SettingWithCopyWarning:\n",
      "\n",
      "\n",
      "A value is trying to be set on a copy of a slice from a DataFrame.\n",
      "Try using .loc[row_indexer,col_indexer] = value instead\n",
      "\n",
      "See the caveats in the documentation: https://pandas.pydata.org/pandas-docs/stable/user_guide/indexing.html#returning-a-view-versus-a-copy\n",
      "\n"
     ]
    }
   ],
   "source": [
    "#Create a column for total dependents in the home -> Demographic 1\n",
    "data_remaining['no_dependents'] = data_remaining['Kidhome'] + data_remaining['Teenhome']"
   ]
  },
  {
   "cell_type": "code",
   "execution_count": 14,
   "metadata": {},
   "outputs": [
    {
     "name": "stderr",
     "output_type": "stream",
     "text": [
      "<ipython-input-14-9f98d5b9a159>:2: SettingWithCopyWarning:\n",
      "\n",
      "\n",
      "A value is trying to be set on a copy of a slice from a DataFrame.\n",
      "Try using .loc[row_indexer,col_indexer] = value instead\n",
      "\n",
      "See the caveats in the documentation: https://pandas.pydata.org/pandas-docs/stable/user_guide/indexing.html#returning-a-view-versus-a-copy\n",
      "\n"
     ]
    }
   ],
   "source": [
    "#Create a Education level of the customer -> Demographic 2\n",
    "data_remaining['Education_level'] = data_remaining['Education'].map({'PhD': 'Above Graduation', \n",
    "                                                  'Master': 'Above Graduation',\n",
    "                                                  'Graduation': 'Graduation',\n",
    "                                                  '2n Cycle':'Below Graduation',\n",
    "                                                  'Basic':'Below Graduation'})"
   ]
  },
  {
   "cell_type": "code",
   "execution_count": 15,
   "metadata": {},
   "outputs": [
    {
     "data": {
      "text/plain": [
       "array(['Together', 'Married', 'Divorced', 'Single', 'Widow'], dtype=object)"
      ]
     },
     "execution_count": 15,
     "metadata": {},
     "output_type": "execute_result"
    }
   ],
   "source": [
    "#Marital Status of the customer -> Demographic 3\n",
    "data_remaining.Marital_Status.unique()"
   ]
  },
  {
   "cell_type": "code",
   "execution_count": 16,
   "metadata": {},
   "outputs": [
    {
     "name": "stderr",
     "output_type": "stream",
     "text": [
      "<ipython-input-16-e5948fff18c2>:10: SettingWithCopyWarning:\n",
      "\n",
      "\n",
      "A value is trying to be set on a copy of a slice from a DataFrame.\n",
      "Try using .loc[row_indexer,col_indexer] = value instead\n",
      "\n",
      "See the caveats in the documentation: https://pandas.pydata.org/pandas-docs/stable/user_guide/indexing.html#returning-a-view-versus-a-copy\n",
      "\n"
     ]
    }
   ],
   "source": [
    "#Create Income Levels of the customer -> Demographic 4\n",
    "conditions = [\n",
    "    (data_remaining['Income'] <= 40000),\n",
    "    (data_remaining['Income'] > 40000) & (data_remaining['Income'] <= 60000),\n",
    "    (data_remaining['Income'] > 60000)\n",
    "    ]\n",
    "\n",
    "values = ['Low Income', 'Middle Income', 'High Income']\n",
    "\n",
    "data_remaining['Income_level'] = np.select(conditions, values)"
   ]
  },
  {
   "cell_type": "code",
   "execution_count": 17,
   "metadata": {},
   "outputs": [
    {
     "name": "stderr",
     "output_type": "stream",
     "text": [
      "<ipython-input-17-2e272eabac3a>:4: SettingWithCopyWarning:\n",
      "\n",
      "\n",
      "A value is trying to be set on a copy of a slice from a DataFrame.\n",
      "Try using .loc[row_indexer,col_indexer] = value instead\n",
      "\n",
      "See the caveats in the documentation: https://pandas.pydata.org/pandas-docs/stable/user_guide/indexing.html#returning-a-view-versus-a-copy\n",
      "\n"
     ]
    }
   ],
   "source": [
    "#Create Age Levels of the customer -> Demographic 5\n",
    "bins = [1939, 1965, 1980, 1996]\n",
    "name = ['Boomers', 'Gen x', 'Millennials']\n",
    "data_remaining['Age_level'] = pd.cut(data_remaining['Year_Birth'], bins, labels=name)"
   ]
  },
  {
   "cell_type": "code",
   "execution_count": 18,
   "metadata": {},
   "outputs": [
    {
     "data": {
      "text/html": [
       "<div>\n",
       "<style scoped>\n",
       "    .dataframe tbody tr th:only-of-type {\n",
       "        vertical-align: middle;\n",
       "    }\n",
       "\n",
       "    .dataframe tbody tr th {\n",
       "        vertical-align: top;\n",
       "    }\n",
       "\n",
       "    .dataframe thead th {\n",
       "        text-align: right;\n",
       "    }\n",
       "</style>\n",
       "<table border=\"1\" class=\"dataframe\">\n",
       "  <thead>\n",
       "    <tr style=\"text-align: right;\">\n",
       "      <th></th>\n",
       "      <th>no_dependents</th>\n",
       "      <th>Education_level</th>\n",
       "      <th>Income_level</th>\n",
       "      <th>Age_level</th>\n",
       "      <th>Marital_Status</th>\n",
       "    </tr>\n",
       "  </thead>\n",
       "  <tbody>\n",
       "    <tr>\n",
       "      <th>0</th>\n",
       "      <td>2</td>\n",
       "      <td>Above Graduation</td>\n",
       "      <td>High Income</td>\n",
       "      <td>Gen x</td>\n",
       "      <td>Together</td>\n",
       "    </tr>\n",
       "    <tr>\n",
       "      <th>1</th>\n",
       "      <td>0</td>\n",
       "      <td>Above Graduation</td>\n",
       "      <td>High Income</td>\n",
       "      <td>Millennials</td>\n",
       "      <td>Married</td>\n",
       "    </tr>\n",
       "    <tr>\n",
       "      <th>2</th>\n",
       "      <td>1</td>\n",
       "      <td>Above Graduation</td>\n",
       "      <td>High Income</td>\n",
       "      <td>Gen x</td>\n",
       "      <td>Together</td>\n",
       "    </tr>\n",
       "    <tr>\n",
       "      <th>3</th>\n",
       "      <td>1</td>\n",
       "      <td>Above Graduation</td>\n",
       "      <td>High Income</td>\n",
       "      <td>Gen x</td>\n",
       "      <td>Married</td>\n",
       "    </tr>\n",
       "    <tr>\n",
       "      <th>4</th>\n",
       "      <td>0</td>\n",
       "      <td>Graduation</td>\n",
       "      <td>High Income</td>\n",
       "      <td>Gen x</td>\n",
       "      <td>Together</td>\n",
       "    </tr>\n",
       "  </tbody>\n",
       "</table>\n",
       "</div>"
      ],
      "text/plain": [
       "   no_dependents   Education_level Income_level    Age_level Marital_Status\n",
       "0              2  Above Graduation  High Income        Gen x       Together\n",
       "1              0  Above Graduation  High Income  Millennials        Married\n",
       "2              1  Above Graduation  High Income        Gen x       Together\n",
       "3              1  Above Graduation  High Income        Gen x        Married\n",
       "4              0        Graduation  High Income        Gen x       Together"
      ]
     },
     "execution_count": 18,
     "metadata": {},
     "output_type": "execute_result"
    }
   ],
   "source": [
    "# Creating Clusters to understand what all demographics identify our customer base\n",
    "\n",
    "data_clustering = data_remaining.loc[:,['no_dependents', 'Education_level', 'Income_level','Age_level','Marital_Status']]\n",
    "data_clustering.head()\n"
   ]
  },
  {
   "cell_type": "markdown",
   "metadata": {},
   "source": [
    "# Demographic Clustering"
   ]
  },
  {
   "cell_type": "code",
   "execution_count": 19,
   "metadata": {},
   "outputs": [
    {
     "name": "stdout",
     "output_type": "stream",
     "text": [
      "Cluster initiation: 1\n",
      "Cluster initiation: 2\n",
      "Cluster initiation: 3\n",
      "Cluster initiation: 4\n",
      "Cluster initiation: 5\n",
      "Cluster initiation: 6\n",
      "Cluster initiation: 7\n",
      "Cluster initiation: 8\n",
      "Cluster initiation: 9\n",
      "Cluster initiation: 10\n",
      "Cluster initiation: 11\n",
      "Cluster initiation: 12\n",
      "Cluster initiation: 13\n",
      "Cluster initiation: 14\n",
      "Cluster initiation: 15\n",
      "Cluster initiation: 16\n",
      "Cluster initiation: 17\n",
      "Cluster initiation: 18\n",
      "Cluster initiation: 19\n"
     ]
    },
    {
     "data": {
      "image/png": "[encoded data removed]",
      "text/plain": [
       "<Figure size 800x480 with 1 Axes>"
      ]
     },
     "metadata": {
      "needs_background": "light"
     },
     "output_type": "display_data"
    },
    {
     "data": {
      "text/plain": [
       "<ggplot: (8761845311094)>"
      ]
     },
     "execution_count": 19,
     "metadata": {},
     "output_type": "execute_result"
    }
   ],
   "source": [
    "# Choosing optimal K for K-Modes Clustering\n",
    "cost = []\n",
    "for cluster in range(1, 20):\n",
    "    try:\n",
    "        kmodes = KModes(n_jobs = -1, n_clusters = cluster, init = 'Huang', random_state = 0)\n",
    "        kmodes.fit_predict(data_clustering)\n",
    "        cost.append(kmodes.cost_)\n",
    "        print('Cluster initiation: {}'.format(cluster))\n",
    "    except:\n",
    "        break\n",
    "# Converting the results into a dataframe and plotting them\n",
    "df_cost = pd.DataFrame({'Cluster': range(1, 20), 'Cost': cost})\n",
    "# Data viz\n",
    "plotnine.options.figure_size = (8, 4.8)\n",
    "(\n",
    "    ggplot(data = df_cost)+\n",
    "    geom_line(aes(x = 'Cluster',\n",
    "                  y = 'Cost'))+\n",
    "    geom_point(aes(x = 'Cluster',\n",
    "                   y = 'Cost'))+\n",
    "    geom_label(aes(x = 'Cluster',\n",
    "                   y = 'Cost',\n",
    "                   label = 'Cluster'),\n",
    "               size = 10,\n",
    "               nudge_y = 1000) +\n",
    "    labs(title = 'Optimal number of cluster with Elbow Method')+\n",
    "    xlab('Number of Clusters k')+\n",
    "    ylab('Cost')+\n",
    "    theme_minimal()\n",
    ")"
   ]
  },
  {
   "cell_type": "code",
   "execution_count": 20,
   "metadata": {},
   "outputs": [
    {
     "name": "stderr",
     "output_type": "stream",
     "text": [
      "<ipython-input-20-0b93e070efb9>:5: SettingWithCopyWarning:\n",
      "\n",
      "\n",
      "A value is trying to be set on a copy of a slice from a DataFrame.\n",
      "Try using .loc[row_indexer,col_indexer] = value instead\n",
      "\n",
      "See the caveats in the documentation: https://pandas.pydata.org/pandas-docs/stable/user_guide/indexing.html#returning-a-view-versus-a-copy\n",
      "\n"
     ]
    }
   ],
   "source": [
    "kmodes = KModes(n_jobs = -1, n_clusters = 3, init = 'Huang', random_state = 0)\n",
    "cluster = kmodes.fit_predict(data_clustering)\n",
    "\n",
    "data_clustering['Cluster'] = cluster\n",
    "data_remaining['Cluster'] = cluster"
   ]
  },
  {
   "cell_type": "code",
   "execution_count": 21,
   "metadata": {},
   "outputs": [
    {
     "data": {
      "text/html": [
       "<div>\n",
       "<style scoped>\n",
       "    .dataframe tbody tr th:only-of-type {\n",
       "        vertical-align: middle;\n",
       "    }\n",
       "\n",
       "    .dataframe tbody tr th {\n",
       "        vertical-align: top;\n",
       "    }\n",
       "\n",
       "    .dataframe thead th {\n",
       "        text-align: right;\n",
       "    }\n",
       "</style>\n",
       "<table border=\"1\" class=\"dataframe\">\n",
       "  <thead>\n",
       "    <tr style=\"text-align: right;\">\n",
       "      <th></th>\n",
       "      <th>no_dependents</th>\n",
       "      <th>Education_level</th>\n",
       "      <th>Income_level</th>\n",
       "      <th>Age_level</th>\n",
       "      <th>Marital_Status</th>\n",
       "    </tr>\n",
       "    <tr>\n",
       "      <th>Cluster</th>\n",
       "      <th></th>\n",
       "      <th></th>\n",
       "      <th></th>\n",
       "      <th></th>\n",
       "      <th></th>\n",
       "    </tr>\n",
       "  </thead>\n",
       "  <tbody>\n",
       "    <tr>\n",
       "      <th>0</th>\n",
       "      <td>1</td>\n",
       "      <td>Graduation</td>\n",
       "      <td>Low Income</td>\n",
       "      <td>Gen x</td>\n",
       "      <td>Married</td>\n",
       "    </tr>\n",
       "    <tr>\n",
       "      <th>1</th>\n",
       "      <td>1</td>\n",
       "      <td>Graduation</td>\n",
       "      <td>Middle Income</td>\n",
       "      <td>Gen x</td>\n",
       "      <td>Single</td>\n",
       "    </tr>\n",
       "    <tr>\n",
       "      <th>2</th>\n",
       "      <td>0</td>\n",
       "      <td>Graduation</td>\n",
       "      <td>High Income</td>\n",
       "      <td>Boomers</td>\n",
       "      <td>Married</td>\n",
       "    </tr>\n",
       "  </tbody>\n",
       "</table>\n",
       "</div>"
      ],
      "text/plain": [
       "         no_dependents Education_level   Income_level Age_level Marital_Status\n",
       "Cluster                                                                       \n",
       "0                    1      Graduation     Low Income     Gen x        Married\n",
       "1                    1      Graduation  Middle Income     Gen x         Single\n",
       "2                    0      Graduation    High Income   Boomers        Married"
      ]
     },
     "execution_count": 21,
     "metadata": {},
     "output_type": "execute_result"
    }
   ],
   "source": [
    "data_clustering.groupby(by = 'Cluster').agg(pd.Series.mode)"
   ]
  },
  {
   "cell_type": "code",
   "execution_count": 22,
   "metadata": {},
   "outputs": [
    {
     "data": {
      "text/plain": [
       "0    0.530788\n",
       "2    0.246921\n",
       "1    0.222291\n",
       "Name: Cluster, dtype: float64"
      ]
     },
     "execution_count": 22,
     "metadata": {},
     "output_type": "execute_result"
    }
   ],
   "source": [
    "data_clustering.Cluster.value_counts(normalize = True)"
   ]
  },
  {
   "cell_type": "markdown",
   "metadata": {},
   "source": [
    "# Customer Segmentation"
   ]
  },
  {
   "cell_type": "code",
   "execution_count": 23,
   "metadata": {},
   "outputs": [
    {
     "name": "stderr",
     "output_type": "stream",
     "text": [
      "<ipython-input-23-379be2024edf>:1: SettingWithCopyWarning:\n",
      "\n",
      "\n",
      "A value is trying to be set on a copy of a slice from a DataFrame.\n",
      "Try using .loc[row_indexer,col_indexer] = value instead\n",
      "\n",
      "See the caveats in the documentation: https://pandas.pydata.org/pandas-docs/stable/user_guide/indexing.html#returning-a-view-versus-a-copy\n",
      "\n"
     ]
    }
   ],
   "source": [
    "data_remaining['Sales_Total'] = (data_remaining['MntWines'] +  data_remaining['MntFruits'] + data_remaining['MntMeatProducts'] + data_remaining['MntFishProducts'] + data_remaining['MntSweetProducts'] + data_remaining['MntGoldProds'])"
   ]
  },
  {
   "cell_type": "code",
   "execution_count": 24,
   "metadata": {},
   "outputs": [
    {
     "data": {
      "text/plain": [
       "Sales_Total\n",
       "(4.999, 76.0]      542\n",
       "(76.0, 576.0]      544\n",
       "(576.0, 2440.0]    538\n",
       "Name: Sales_Total, dtype: int64"
      ]
     },
     "execution_count": 24,
     "metadata": {},
     "output_type": "execute_result"
    }
   ],
   "source": [
    "data_remaining.Sales_Total.groupby(pd.qcut(data_remaining.Sales_Total, q = 3)).count()"
   ]
  },
  {
   "cell_type": "code",
   "execution_count": 25,
   "metadata": {},
   "outputs": [
    {
     "name": "stderr",
     "output_type": "stream",
     "text": [
      "<ipython-input-25-b7235876220f>:9: SettingWithCopyWarning:\n",
      "\n",
      "\n",
      "A value is trying to be set on a copy of a slice from a DataFrame.\n",
      "Try using .loc[row_indexer,col_indexer] = value instead\n",
      "\n",
      "See the caveats in the documentation: https://pandas.pydata.org/pandas-docs/stable/user_guide/indexing.html#returning-a-view-versus-a-copy\n",
      "\n"
     ]
    }
   ],
   "source": [
    "conditions = [\n",
    "    (data_remaining['Sales_Total'] <= 76.0),\n",
    "    (data_remaining['Sales_Total'] > 76.0) & (data_remaining['Sales_Total'] <= 576.0),\n",
    "    (data_remaining['Sales_Total'] > 576.0)\n",
    "    ]\n",
    "\n",
    "values = ['Low Sales', 'Medium Sales', 'High Sales']\n",
    "\n",
    "data_remaining['Sales_Total_level'] = np.select(conditions, values)"
   ]
  },
  {
   "cell_type": "code",
   "execution_count": 26,
   "metadata": {},
   "outputs": [
    {
     "data": {
      "text/html": [
       "<div>\n",
       "<style scoped>\n",
       "    .dataframe tbody tr th:only-of-type {\n",
       "        vertical-align: middle;\n",
       "    }\n",
       "\n",
       "    .dataframe tbody tr th {\n",
       "        vertical-align: top;\n",
       "    }\n",
       "\n",
       "    .dataframe thead th {\n",
       "        text-align: right;\n",
       "    }\n",
       "</style>\n",
       "<table border=\"1\" class=\"dataframe\">\n",
       "  <thead>\n",
       "    <tr style=\"text-align: right;\">\n",
       "      <th></th>\n",
       "      <th></th>\n",
       "      <th>ID</th>\n",
       "    </tr>\n",
       "    <tr>\n",
       "      <th>Sales_Total_level</th>\n",
       "      <th>Income_level</th>\n",
       "      <th></th>\n",
       "    </tr>\n",
       "  </thead>\n",
       "  <tbody>\n",
       "    <tr>\n",
       "      <th rowspan=\"3\" valign=\"top\">High Sales</th>\n",
       "      <th>High Income</th>\n",
       "      <td>424</td>\n",
       "    </tr>\n",
       "    <tr>\n",
       "      <th>Low Income</th>\n",
       "      <td>3</td>\n",
       "    </tr>\n",
       "    <tr>\n",
       "      <th>Middle Income</th>\n",
       "      <td>111</td>\n",
       "    </tr>\n",
       "    <tr>\n",
       "      <th rowspan=\"3\" valign=\"top\">Low Sales</th>\n",
       "      <th>High Income</th>\n",
       "      <td>4</td>\n",
       "    </tr>\n",
       "    <tr>\n",
       "      <th>Low Income</th>\n",
       "      <td>427</td>\n",
       "    </tr>\n",
       "    <tr>\n",
       "      <th>Middle Income</th>\n",
       "      <td>111</td>\n",
       "    </tr>\n",
       "    <tr>\n",
       "      <th rowspan=\"3\" valign=\"top\">Medium Sales</th>\n",
       "      <th>High Income</th>\n",
       "      <td>62</td>\n",
       "    </tr>\n",
       "    <tr>\n",
       "      <th>Low Income</th>\n",
       "      <td>182</td>\n",
       "    </tr>\n",
       "    <tr>\n",
       "      <th>Middle Income</th>\n",
       "      <td>300</td>\n",
       "    </tr>\n",
       "  </tbody>\n",
       "</table>\n",
       "</div>"
      ],
      "text/plain": [
       "                                  ID\n",
       "Sales_Total_level Income_level      \n",
       "High Sales        High Income    424\n",
       "                  Low Income       3\n",
       "                  Middle Income  111\n",
       "Low Sales         High Income      4\n",
       "                  Low Income     427\n",
       "                  Middle Income  111\n",
       "Medium Sales      High Income     62\n",
       "                  Low Income     182\n",
       "                  Middle Income  300"
      ]
     },
     "execution_count": 26,
     "metadata": {},
     "output_type": "execute_result"
    }
   ],
   "source": [
    "data_remaining.groupby(['Sales_Total_level','Income_level']).agg({'ID': 'count'})"
   ]
  },
  {
   "cell_type": "code",
   "execution_count": 27,
   "metadata": {},
   "outputs": [
    {
     "data": {
      "text/html": [
       "<div>\n",
       "<style scoped>\n",
       "    .dataframe tbody tr th:only-of-type {\n",
       "        vertical-align: middle;\n",
       "    }\n",
       "\n",
       "    .dataframe tbody tr th {\n",
       "        vertical-align: top;\n",
       "    }\n",
       "\n",
       "    .dataframe thead th {\n",
       "        text-align: right;\n",
       "    }\n",
       "</style>\n",
       "<table border=\"1\" class=\"dataframe\">\n",
       "  <thead>\n",
       "    <tr style=\"text-align: right;\">\n",
       "      <th></th>\n",
       "      <th></th>\n",
       "      <th>ID</th>\n",
       "    </tr>\n",
       "    <tr>\n",
       "      <th>Sales_Total_level</th>\n",
       "      <th>Age_level</th>\n",
       "      <th></th>\n",
       "    </tr>\n",
       "  </thead>\n",
       "  <tbody>\n",
       "    <tr>\n",
       "      <th rowspan=\"3\" valign=\"top\">High Sales</th>\n",
       "      <th>Boomers</th>\n",
       "      <td>244</td>\n",
       "    </tr>\n",
       "    <tr>\n",
       "      <th>Gen x</th>\n",
       "      <td>231</td>\n",
       "    </tr>\n",
       "    <tr>\n",
       "      <th>Millennials</th>\n",
       "      <td>63</td>\n",
       "    </tr>\n",
       "    <tr>\n",
       "      <th rowspan=\"3\" valign=\"top\">Low Sales</th>\n",
       "      <th>Boomers</th>\n",
       "      <td>143</td>\n",
       "    </tr>\n",
       "    <tr>\n",
       "      <th>Gen x</th>\n",
       "      <td>277</td>\n",
       "    </tr>\n",
       "    <tr>\n",
       "      <th>Millennials</th>\n",
       "      <td>122</td>\n",
       "    </tr>\n",
       "    <tr>\n",
       "      <th rowspan=\"3\" valign=\"top\">Medium Sales</th>\n",
       "      <th>Boomers</th>\n",
       "      <td>220</td>\n",
       "    </tr>\n",
       "    <tr>\n",
       "      <th>Gen x</th>\n",
       "      <td>244</td>\n",
       "    </tr>\n",
       "    <tr>\n",
       "      <th>Millennials</th>\n",
       "      <td>80</td>\n",
       "    </tr>\n",
       "  </tbody>\n",
       "</table>\n",
       "</div>"
      ],
      "text/plain": [
       "                                ID\n",
       "Sales_Total_level Age_level       \n",
       "High Sales        Boomers      244\n",
       "                  Gen x        231\n",
       "                  Millennials   63\n",
       "Low Sales         Boomers      143\n",
       "                  Gen x        277\n",
       "                  Millennials  122\n",
       "Medium Sales      Boomers      220\n",
       "                  Gen x        244\n",
       "                  Millennials   80"
      ]
     },
     "execution_count": 27,
     "metadata": {},
     "output_type": "execute_result"
    }
   ],
   "source": [
    "data_remaining.groupby(['Sales_Total_level','Age_level']).agg({'ID': 'count'})"
   ]
  },
  {
   "cell_type": "code",
   "execution_count": 28,
   "metadata": {},
   "outputs": [
    {
     "data": {
      "text/html": [
       "<div>\n",
       "<style scoped>\n",
       "    .dataframe tbody tr th:only-of-type {\n",
       "        vertical-align: middle;\n",
       "    }\n",
       "\n",
       "    .dataframe tbody tr th {\n",
       "        vertical-align: top;\n",
       "    }\n",
       "\n",
       "    .dataframe thead th {\n",
       "        text-align: right;\n",
       "    }\n",
       "</style>\n",
       "<table border=\"1\" class=\"dataframe\">\n",
       "  <thead>\n",
       "    <tr style=\"text-align: right;\">\n",
       "      <th></th>\n",
       "      <th></th>\n",
       "      <th>ID</th>\n",
       "    </tr>\n",
       "    <tr>\n",
       "      <th>Sales_Total_level</th>\n",
       "      <th>Marital_Status</th>\n",
       "      <th></th>\n",
       "    </tr>\n",
       "  </thead>\n",
       "  <tbody>\n",
       "    <tr>\n",
       "      <th rowspan=\"5\" valign=\"top\">High Sales</th>\n",
       "      <th>Divorced</th>\n",
       "      <td>60</td>\n",
       "    </tr>\n",
       "    <tr>\n",
       "      <th>Married</th>\n",
       "      <td>205</td>\n",
       "    </tr>\n",
       "    <tr>\n",
       "      <th>Single</th>\n",
       "      <td>100</td>\n",
       "    </tr>\n",
       "    <tr>\n",
       "      <th>Together</th>\n",
       "      <td>150</td>\n",
       "    </tr>\n",
       "    <tr>\n",
       "      <th>Widow</th>\n",
       "      <td>23</td>\n",
       "    </tr>\n",
       "    <tr>\n",
       "      <th rowspan=\"5\" valign=\"top\">Low Sales</th>\n",
       "      <th>Divorced</th>\n",
       "      <td>60</td>\n",
       "    </tr>\n",
       "    <tr>\n",
       "      <th>Married</th>\n",
       "      <td>215</td>\n",
       "    </tr>\n",
       "    <tr>\n",
       "      <th>Single</th>\n",
       "      <td>120</td>\n",
       "    </tr>\n",
       "    <tr>\n",
       "      <th>Together</th>\n",
       "      <td>135</td>\n",
       "    </tr>\n",
       "    <tr>\n",
       "      <th>Widow</th>\n",
       "      <td>12</td>\n",
       "    </tr>\n",
       "    <tr>\n",
       "      <th rowspan=\"5\" valign=\"top\">Medium Sales</th>\n",
       "      <th>Divorced</th>\n",
       "      <td>42</td>\n",
       "    </tr>\n",
       "    <tr>\n",
       "      <th>Married</th>\n",
       "      <td>227</td>\n",
       "    </tr>\n",
       "    <tr>\n",
       "      <th>Single</th>\n",
       "      <td>111</td>\n",
       "    </tr>\n",
       "    <tr>\n",
       "      <th>Together</th>\n",
       "      <td>149</td>\n",
       "    </tr>\n",
       "    <tr>\n",
       "      <th>Widow</th>\n",
       "      <td>15</td>\n",
       "    </tr>\n",
       "  </tbody>\n",
       "</table>\n",
       "</div>"
      ],
      "text/plain": [
       "                                   ID\n",
       "Sales_Total_level Marital_Status     \n",
       "High Sales        Divorced         60\n",
       "                  Married         205\n",
       "                  Single          100\n",
       "                  Together        150\n",
       "                  Widow            23\n",
       "Low Sales         Divorced         60\n",
       "                  Married         215\n",
       "                  Single          120\n",
       "                  Together        135\n",
       "                  Widow            12\n",
       "Medium Sales      Divorced         42\n",
       "                  Married         227\n",
       "                  Single          111\n",
       "                  Together        149\n",
       "                  Widow            15"
      ]
     },
     "execution_count": 28,
     "metadata": {},
     "output_type": "execute_result"
    }
   ],
   "source": [
    "data_remaining.groupby(['Sales_Total_level','Marital_Status']).agg({'ID': 'count'})"
   ]
  },
  {
   "cell_type": "code",
   "execution_count": 29,
   "metadata": {},
   "outputs": [
    {
     "data": {
      "text/html": [
       "<div>\n",
       "<style scoped>\n",
       "    .dataframe tbody tr th:only-of-type {\n",
       "        vertical-align: middle;\n",
       "    }\n",
       "\n",
       "    .dataframe tbody tr th {\n",
       "        vertical-align: top;\n",
       "    }\n",
       "\n",
       "    .dataframe thead th {\n",
       "        text-align: right;\n",
       "    }\n",
       "</style>\n",
       "<table border=\"1\" class=\"dataframe\">\n",
       "  <thead>\n",
       "    <tr style=\"text-align: right;\">\n",
       "      <th></th>\n",
       "      <th></th>\n",
       "      <th>ID</th>\n",
       "    </tr>\n",
       "    <tr>\n",
       "      <th>Sales_Total_level</th>\n",
       "      <th>no_dependents</th>\n",
       "      <th></th>\n",
       "    </tr>\n",
       "  </thead>\n",
       "  <tbody>\n",
       "    <tr>\n",
       "      <th rowspan=\"4\" valign=\"top\">High Sales</th>\n",
       "      <th>0</th>\n",
       "      <td>216</td>\n",
       "    </tr>\n",
       "    <tr>\n",
       "      <th>1</th>\n",
       "      <td>275</td>\n",
       "    </tr>\n",
       "    <tr>\n",
       "      <th>2</th>\n",
       "      <td>43</td>\n",
       "    </tr>\n",
       "    <tr>\n",
       "      <th>3</th>\n",
       "      <td>4</td>\n",
       "    </tr>\n",
       "    <tr>\n",
       "      <th rowspan=\"4\" valign=\"top\">Low Sales</th>\n",
       "      <th>0</th>\n",
       "      <td>57</td>\n",
       "    </tr>\n",
       "    <tr>\n",
       "      <th>1</th>\n",
       "      <td>295</td>\n",
       "    </tr>\n",
       "    <tr>\n",
       "      <th>2</th>\n",
       "      <td>166</td>\n",
       "    </tr>\n",
       "    <tr>\n",
       "      <th>3</th>\n",
       "      <td>24</td>\n",
       "    </tr>\n",
       "    <tr>\n",
       "      <th rowspan=\"4\" valign=\"top\">Medium Sales</th>\n",
       "      <th>0</th>\n",
       "      <td>79</td>\n",
       "    </tr>\n",
       "    <tr>\n",
       "      <th>1</th>\n",
       "      <td>317</td>\n",
       "    </tr>\n",
       "    <tr>\n",
       "      <th>2</th>\n",
       "      <td>130</td>\n",
       "    </tr>\n",
       "    <tr>\n",
       "      <th>3</th>\n",
       "      <td>18</td>\n",
       "    </tr>\n",
       "  </tbody>\n",
       "</table>\n",
       "</div>"
      ],
      "text/plain": [
       "                                  ID\n",
       "Sales_Total_level no_dependents     \n",
       "High Sales        0              216\n",
       "                  1              275\n",
       "                  2               43\n",
       "                  3                4\n",
       "Low Sales         0               57\n",
       "                  1              295\n",
       "                  2              166\n",
       "                  3               24\n",
       "Medium Sales      0               79\n",
       "                  1              317\n",
       "                  2              130\n",
       "                  3               18"
      ]
     },
     "execution_count": 29,
     "metadata": {},
     "output_type": "execute_result"
    }
   ],
   "source": [
    "data_remaining.groupby(['Sales_Total_level','no_dependents']).agg({'ID': 'count'})"
   ]
  },
  {
   "cell_type": "code",
   "execution_count": 30,
   "metadata": {},
   "outputs": [
    {
     "data": {
      "text/html": [
       "<div>\n",
       "<style scoped>\n",
       "    .dataframe tbody tr th:only-of-type {\n",
       "        vertical-align: middle;\n",
       "    }\n",
       "\n",
       "    .dataframe tbody tr th {\n",
       "        vertical-align: top;\n",
       "    }\n",
       "\n",
       "    .dataframe thead th {\n",
       "        text-align: right;\n",
       "    }\n",
       "</style>\n",
       "<table border=\"1\" class=\"dataframe\">\n",
       "  <thead>\n",
       "    <tr style=\"text-align: right;\">\n",
       "      <th></th>\n",
       "      <th></th>\n",
       "      <th>ID</th>\n",
       "    </tr>\n",
       "    <tr>\n",
       "      <th>Sales_Total_level</th>\n",
       "      <th>Education_level</th>\n",
       "      <th></th>\n",
       "    </tr>\n",
       "  </thead>\n",
       "  <tbody>\n",
       "    <tr>\n",
       "      <th rowspan=\"3\" valign=\"top\">High Sales</th>\n",
       "      <th>Above Graduation</th>\n",
       "      <td>199</td>\n",
       "    </tr>\n",
       "    <tr>\n",
       "      <th>Below Graduation</th>\n",
       "      <td>43</td>\n",
       "    </tr>\n",
       "    <tr>\n",
       "      <th>Graduation</th>\n",
       "      <td>296</td>\n",
       "    </tr>\n",
       "    <tr>\n",
       "      <th rowspan=\"3\" valign=\"top\">Low Sales</th>\n",
       "      <th>Above Graduation</th>\n",
       "      <td>176</td>\n",
       "    </tr>\n",
       "    <tr>\n",
       "      <th>Below Graduation</th>\n",
       "      <td>99</td>\n",
       "    </tr>\n",
       "    <tr>\n",
       "      <th>Graduation</th>\n",
       "      <td>267</td>\n",
       "    </tr>\n",
       "    <tr>\n",
       "      <th rowspan=\"3\" valign=\"top\">Medium Sales</th>\n",
       "      <th>Above Graduation</th>\n",
       "      <td>220</td>\n",
       "    </tr>\n",
       "    <tr>\n",
       "      <th>Below Graduation</th>\n",
       "      <td>60</td>\n",
       "    </tr>\n",
       "    <tr>\n",
       "      <th>Graduation</th>\n",
       "      <td>264</td>\n",
       "    </tr>\n",
       "  </tbody>\n",
       "</table>\n",
       "</div>"
      ],
      "text/plain": [
       "                                     ID\n",
       "Sales_Total_level Education_level      \n",
       "High Sales        Above Graduation  199\n",
       "                  Below Graduation   43\n",
       "                  Graduation        296\n",
       "Low Sales         Above Graduation  176\n",
       "                  Below Graduation   99\n",
       "                  Graduation        267\n",
       "Medium Sales      Above Graduation  220\n",
       "                  Below Graduation   60\n",
       "                  Graduation        264"
      ]
     },
     "execution_count": 30,
     "metadata": {},
     "output_type": "execute_result"
    }
   ],
   "source": [
    "data_remaining.groupby(['Sales_Total_level','Education_level']).agg({'ID': 'count'})"
   ]
  },
  {
   "cell_type": "code",
   "execution_count": 31,
   "metadata": {},
   "outputs": [
    {
     "data": {
      "text/html": [
       "<div>\n",
       "<style scoped>\n",
       "    .dataframe tbody tr th:only-of-type {\n",
       "        vertical-align: middle;\n",
       "    }\n",
       "\n",
       "    .dataframe tbody tr th {\n",
       "        vertical-align: top;\n",
       "    }\n",
       "\n",
       "    .dataframe thead th {\n",
       "        text-align: right;\n",
       "    }\n",
       "</style>\n",
       "<table border=\"1\" class=\"dataframe\">\n",
       "  <thead>\n",
       "    <tr style=\"text-align: right;\">\n",
       "      <th></th>\n",
       "      <th></th>\n",
       "      <th></th>\n",
       "      <th></th>\n",
       "      <th>ID</th>\n",
       "    </tr>\n",
       "    <tr>\n",
       "      <th>Sales_Total_level</th>\n",
       "      <th>Age_level</th>\n",
       "      <th>Income_level</th>\n",
       "      <th>Marital_Status</th>\n",
       "      <th></th>\n",
       "    </tr>\n",
       "  </thead>\n",
       "  <tbody>\n",
       "    <tr>\n",
       "      <th rowspan=\"45\" valign=\"top\">High Sales</th>\n",
       "      <th rowspan=\"15\" valign=\"top\">Boomers</th>\n",
       "      <th rowspan=\"5\" valign=\"top\">High Income</th>\n",
       "      <th>Divorced</th>\n",
       "      <td>23</td>\n",
       "    </tr>\n",
       "    <tr>\n",
       "      <th>Married</th>\n",
       "      <td>72</td>\n",
       "    </tr>\n",
       "    <tr>\n",
       "      <th>Single</th>\n",
       "      <td>30</td>\n",
       "    </tr>\n",
       "    <tr>\n",
       "      <th>Together</th>\n",
       "      <td>54</td>\n",
       "    </tr>\n",
       "    <tr>\n",
       "      <th>Widow</th>\n",
       "      <td>12</td>\n",
       "    </tr>\n",
       "    <tr>\n",
       "      <th rowspan=\"5\" valign=\"top\">Low Income</th>\n",
       "      <th>Divorced</th>\n",
       "      <td>0</td>\n",
       "    </tr>\n",
       "    <tr>\n",
       "      <th>Married</th>\n",
       "      <td>0</td>\n",
       "    </tr>\n",
       "    <tr>\n",
       "      <th>Single</th>\n",
       "      <td>0</td>\n",
       "    </tr>\n",
       "    <tr>\n",
       "      <th>Together</th>\n",
       "      <td>0</td>\n",
       "    </tr>\n",
       "    <tr>\n",
       "      <th>Widow</th>\n",
       "      <td>0</td>\n",
       "    </tr>\n",
       "    <tr>\n",
       "      <th rowspan=\"5\" valign=\"top\">Middle Income</th>\n",
       "      <th>Divorced</th>\n",
       "      <td>7</td>\n",
       "    </tr>\n",
       "    <tr>\n",
       "      <th>Married</th>\n",
       "      <td>16</td>\n",
       "    </tr>\n",
       "    <tr>\n",
       "      <th>Single</th>\n",
       "      <td>10</td>\n",
       "    </tr>\n",
       "    <tr>\n",
       "      <th>Together</th>\n",
       "      <td>15</td>\n",
       "    </tr>\n",
       "    <tr>\n",
       "      <th>Widow</th>\n",
       "      <td>5</td>\n",
       "    </tr>\n",
       "    <tr>\n",
       "      <th rowspan=\"15\" valign=\"top\">Gen x</th>\n",
       "      <th rowspan=\"5\" valign=\"top\">High Income</th>\n",
       "      <th>Divorced</th>\n",
       "      <td>24</td>\n",
       "    </tr>\n",
       "    <tr>\n",
       "      <th>Married</th>\n",
       "      <td>77</td>\n",
       "    </tr>\n",
       "    <tr>\n",
       "      <th>Single</th>\n",
       "      <td>29</td>\n",
       "    </tr>\n",
       "    <tr>\n",
       "      <th>Together</th>\n",
       "      <td>47</td>\n",
       "    </tr>\n",
       "    <tr>\n",
       "      <th>Widow</th>\n",
       "      <td>3</td>\n",
       "    </tr>\n",
       "    <tr>\n",
       "      <th rowspan=\"5\" valign=\"top\">Low Income</th>\n",
       "      <th>Divorced</th>\n",
       "      <td>0</td>\n",
       "    </tr>\n",
       "    <tr>\n",
       "      <th>Married</th>\n",
       "      <td>2</td>\n",
       "    </tr>\n",
       "    <tr>\n",
       "      <th>Single</th>\n",
       "      <td>0</td>\n",
       "    </tr>\n",
       "    <tr>\n",
       "      <th>Together</th>\n",
       "      <td>0</td>\n",
       "    </tr>\n",
       "    <tr>\n",
       "      <th>Widow</th>\n",
       "      <td>0</td>\n",
       "    </tr>\n",
       "    <tr>\n",
       "      <th rowspan=\"5\" valign=\"top\">Middle Income</th>\n",
       "      <th>Divorced</th>\n",
       "      <td>4</td>\n",
       "    </tr>\n",
       "    <tr>\n",
       "      <th>Married</th>\n",
       "      <td>17</td>\n",
       "    </tr>\n",
       "    <tr>\n",
       "      <th>Single</th>\n",
       "      <td>11</td>\n",
       "    </tr>\n",
       "    <tr>\n",
       "      <th>Together</th>\n",
       "      <td>14</td>\n",
       "    </tr>\n",
       "    <tr>\n",
       "      <th>Widow</th>\n",
       "      <td>3</td>\n",
       "    </tr>\n",
       "    <tr>\n",
       "      <th rowspan=\"15\" valign=\"top\">Millennials</th>\n",
       "      <th rowspan=\"5\" valign=\"top\">High Income</th>\n",
       "      <th>Divorced</th>\n",
       "      <td>2</td>\n",
       "    </tr>\n",
       "    <tr>\n",
       "      <th>Married</th>\n",
       "      <td>16</td>\n",
       "    </tr>\n",
       "    <tr>\n",
       "      <th>Single</th>\n",
       "      <td>17</td>\n",
       "    </tr>\n",
       "    <tr>\n",
       "      <th>Together</th>\n",
       "      <td>18</td>\n",
       "    </tr>\n",
       "    <tr>\n",
       "      <th>Widow</th>\n",
       "      <td>0</td>\n",
       "    </tr>\n",
       "    <tr>\n",
       "      <th rowspan=\"5\" valign=\"top\">Low Income</th>\n",
       "      <th>Divorced</th>\n",
       "      <td>0</td>\n",
       "    </tr>\n",
       "    <tr>\n",
       "      <th>Married</th>\n",
       "      <td>1</td>\n",
       "    </tr>\n",
       "    <tr>\n",
       "      <th>Single</th>\n",
       "      <td>0</td>\n",
       "    </tr>\n",
       "    <tr>\n",
       "      <th>Together</th>\n",
       "      <td>0</td>\n",
       "    </tr>\n",
       "    <tr>\n",
       "      <th>Widow</th>\n",
       "      <td>0</td>\n",
       "    </tr>\n",
       "    <tr>\n",
       "      <th rowspan=\"5\" valign=\"top\">Middle Income</th>\n",
       "      <th>Divorced</th>\n",
       "      <td>0</td>\n",
       "    </tr>\n",
       "    <tr>\n",
       "      <th>Married</th>\n",
       "      <td>4</td>\n",
       "    </tr>\n",
       "    <tr>\n",
       "      <th>Single</th>\n",
       "      <td>3</td>\n",
       "    </tr>\n",
       "    <tr>\n",
       "      <th>Together</th>\n",
       "      <td>2</td>\n",
       "    </tr>\n",
       "    <tr>\n",
       "      <th>Widow</th>\n",
       "      <td>0</td>\n",
       "    </tr>\n",
       "    <tr>\n",
       "      <th rowspan=\"45\" valign=\"top\">Low Sales</th>\n",
       "      <th rowspan=\"15\" valign=\"top\">Boomers</th>\n",
       "      <th rowspan=\"5\" valign=\"top\">High Income</th>\n",
       "      <th>Divorced</th>\n",
       "      <td>0</td>\n",
       "    </tr>\n",
       "    <tr>\n",
       "      <th>Married</th>\n",
       "      <td>1</td>\n",
       "    </tr>\n",
       "    <tr>\n",
       "      <th>Single</th>\n",
       "      <td>0</td>\n",
       "    </tr>\n",
       "    <tr>\n",
       "      <th>Together</th>\n",
       "      <td>0</td>\n",
       "    </tr>\n",
       "    <tr>\n",
       "      <th>Widow</th>\n",
       "      <td>0</td>\n",
       "    </tr>\n",
       "    <tr>\n",
       "      <th rowspan=\"5\" valign=\"top\">Low Income</th>\n",
       "      <th>Divorced</th>\n",
       "      <td>15</td>\n",
       "    </tr>\n",
       "    <tr>\n",
       "      <th>Married</th>\n",
       "      <td>35</td>\n",
       "    </tr>\n",
       "    <tr>\n",
       "      <th>Single</th>\n",
       "      <td>16</td>\n",
       "    </tr>\n",
       "    <tr>\n",
       "      <th>Together</th>\n",
       "      <td>28</td>\n",
       "    </tr>\n",
       "    <tr>\n",
       "      <th>Widow</th>\n",
       "      <td>2</td>\n",
       "    </tr>\n",
       "    <tr>\n",
       "      <th rowspan=\"5\" valign=\"top\">Middle Income</th>\n",
       "      <th>Divorced</th>\n",
       "      <td>5</td>\n",
       "    </tr>\n",
       "    <tr>\n",
       "      <th>Married</th>\n",
       "      <td>15</td>\n",
       "    </tr>\n",
       "    <tr>\n",
       "      <th>Single</th>\n",
       "      <td>13</td>\n",
       "    </tr>\n",
       "    <tr>\n",
       "      <th>Together</th>\n",
       "      <td>10</td>\n",
       "    </tr>\n",
       "    <tr>\n",
       "      <th>Widow</th>\n",
       "      <td>3</td>\n",
       "    </tr>\n",
       "    <tr>\n",
       "      <th rowspan=\"15\" valign=\"top\">Gen x</th>\n",
       "      <th rowspan=\"5\" valign=\"top\">High Income</th>\n",
       "      <th>Divorced</th>\n",
       "      <td>1</td>\n",
       "    </tr>\n",
       "    <tr>\n",
       "      <th>Married</th>\n",
       "      <td>0</td>\n",
       "    </tr>\n",
       "    <tr>\n",
       "      <th>Single</th>\n",
       "      <td>1</td>\n",
       "    </tr>\n",
       "    <tr>\n",
       "      <th>Together</th>\n",
       "      <td>1</td>\n",
       "    </tr>\n",
       "    <tr>\n",
       "      <th>Widow</th>\n",
       "      <td>0</td>\n",
       "    </tr>\n",
       "    <tr>\n",
       "      <th rowspan=\"5\" valign=\"top\">Low Income</th>\n",
       "      <th>Divorced</th>\n",
       "      <td>29</td>\n",
       "    </tr>\n",
       "    <tr>\n",
       "      <th>Married</th>\n",
       "      <td>91</td>\n",
       "    </tr>\n",
       "    <tr>\n",
       "      <th>Single</th>\n",
       "      <td>38</td>\n",
       "    </tr>\n",
       "    <tr>\n",
       "      <th>Together</th>\n",
       "      <td>56</td>\n",
       "    </tr>\n",
       "    <tr>\n",
       "      <th>Widow</th>\n",
       "      <td>3</td>\n",
       "    </tr>\n",
       "    <tr>\n",
       "      <th rowspan=\"5\" valign=\"top\">Middle Income</th>\n",
       "      <th>Divorced</th>\n",
       "      <td>7</td>\n",
       "    </tr>\n",
       "    <tr>\n",
       "      <th>Married</th>\n",
       "      <td>21</td>\n",
       "    </tr>\n",
       "    <tr>\n",
       "      <th>Single</th>\n",
       "      <td>11</td>\n",
       "    </tr>\n",
       "    <tr>\n",
       "      <th>Together</th>\n",
       "      <td>14</td>\n",
       "    </tr>\n",
       "    <tr>\n",
       "      <th>Widow</th>\n",
       "      <td>4</td>\n",
       "    </tr>\n",
       "    <tr>\n",
       "      <th rowspan=\"15\" valign=\"top\">Millennials</th>\n",
       "      <th rowspan=\"5\" valign=\"top\">High Income</th>\n",
       "      <th>Divorced</th>\n",
       "      <td>0</td>\n",
       "    </tr>\n",
       "    <tr>\n",
       "      <th>Married</th>\n",
       "      <td>0</td>\n",
       "    </tr>\n",
       "    <tr>\n",
       "      <th>Single</th>\n",
       "      <td>0</td>\n",
       "    </tr>\n",
       "    <tr>\n",
       "      <th>Together</th>\n",
       "      <td>0</td>\n",
       "    </tr>\n",
       "    <tr>\n",
       "      <th>Widow</th>\n",
       "      <td>0</td>\n",
       "    </tr>\n",
       "    <tr>\n",
       "      <th rowspan=\"5\" valign=\"top\">Low Income</th>\n",
       "      <th>Divorced</th>\n",
       "      <td>3</td>\n",
       "    </tr>\n",
       "    <tr>\n",
       "      <th>Married</th>\n",
       "      <td>50</td>\n",
       "    </tr>\n",
       "    <tr>\n",
       "      <th>Single</th>\n",
       "      <td>37</td>\n",
       "    </tr>\n",
       "    <tr>\n",
       "      <th>Together</th>\n",
       "      <td>24</td>\n",
       "    </tr>\n",
       "    <tr>\n",
       "      <th>Widow</th>\n",
       "      <td>0</td>\n",
       "    </tr>\n",
       "    <tr>\n",
       "      <th rowspan=\"5\" valign=\"top\">Middle Income</th>\n",
       "      <th>Divorced</th>\n",
       "      <td>0</td>\n",
       "    </tr>\n",
       "    <tr>\n",
       "      <th>Married</th>\n",
       "      <td>2</td>\n",
       "    </tr>\n",
       "    <tr>\n",
       "      <th>Single</th>\n",
       "      <td>4</td>\n",
       "    </tr>\n",
       "    <tr>\n",
       "      <th>Together</th>\n",
       "      <td>2</td>\n",
       "    </tr>\n",
       "    <tr>\n",
       "      <th>Widow</th>\n",
       "      <td>0</td>\n",
       "    </tr>\n",
       "    <tr>\n",
       "      <th rowspan=\"45\" valign=\"top\">Medium Sales</th>\n",
       "      <th rowspan=\"15\" valign=\"top\">Boomers</th>\n",
       "      <th rowspan=\"5\" valign=\"top\">High Income</th>\n",
       "      <th>Divorced</th>\n",
       "      <td>3</td>\n",
       "    </tr>\n",
       "    <tr>\n",
       "      <th>Married</th>\n",
       "      <td>16</td>\n",
       "    </tr>\n",
       "    <tr>\n",
       "      <th>Single</th>\n",
       "      <td>6</td>\n",
       "    </tr>\n",
       "    <tr>\n",
       "      <th>Together</th>\n",
       "      <td>7</td>\n",
       "    </tr>\n",
       "    <tr>\n",
       "      <th>Widow</th>\n",
       "      <td>1</td>\n",
       "    </tr>\n",
       "    <tr>\n",
       "      <th rowspan=\"5\" valign=\"top\">Low Income</th>\n",
       "      <th>Divorced</th>\n",
       "      <td>3</td>\n",
       "    </tr>\n",
       "    <tr>\n",
       "      <th>Married</th>\n",
       "      <td>14</td>\n",
       "    </tr>\n",
       "    <tr>\n",
       "      <th>Single</th>\n",
       "      <td>6</td>\n",
       "    </tr>\n",
       "    <tr>\n",
       "      <th>Together</th>\n",
       "      <td>25</td>\n",
       "    </tr>\n",
       "    <tr>\n",
       "      <th>Widow</th>\n",
       "      <td>4</td>\n",
       "    </tr>\n",
       "    <tr>\n",
       "      <th rowspan=\"5\" valign=\"top\">Middle Income</th>\n",
       "      <th>Divorced</th>\n",
       "      <td>15</td>\n",
       "    </tr>\n",
       "    <tr>\n",
       "      <th>Married</th>\n",
       "      <td>54</td>\n",
       "    </tr>\n",
       "    <tr>\n",
       "      <th>Single</th>\n",
       "      <td>22</td>\n",
       "    </tr>\n",
       "    <tr>\n",
       "      <th>Together</th>\n",
       "      <td>36</td>\n",
       "    </tr>\n",
       "    <tr>\n",
       "      <th>Widow</th>\n",
       "      <td>8</td>\n",
       "    </tr>\n",
       "    <tr>\n",
       "      <th rowspan=\"15\" valign=\"top\">Gen x</th>\n",
       "      <th rowspan=\"5\" valign=\"top\">High Income</th>\n",
       "      <th>Divorced</th>\n",
       "      <td>3</td>\n",
       "    </tr>\n",
       "    <tr>\n",
       "      <th>Married</th>\n",
       "      <td>6</td>\n",
       "    </tr>\n",
       "    <tr>\n",
       "      <th>Single</th>\n",
       "      <td>8</td>\n",
       "    </tr>\n",
       "    <tr>\n",
       "      <th>Together</th>\n",
       "      <td>9</td>\n",
       "    </tr>\n",
       "    <tr>\n",
       "      <th>Widow</th>\n",
       "      <td>0</td>\n",
       "    </tr>\n",
       "    <tr>\n",
       "      <th rowspan=\"5\" valign=\"top\">Low Income</th>\n",
       "      <th>Divorced</th>\n",
       "      <td>2</td>\n",
       "    </tr>\n",
       "    <tr>\n",
       "      <th>Married</th>\n",
       "      <td>33</td>\n",
       "    </tr>\n",
       "    <tr>\n",
       "      <th>Single</th>\n",
       "      <td>22</td>\n",
       "    </tr>\n",
       "    <tr>\n",
       "      <th>Together</th>\n",
       "      <td>22</td>\n",
       "    </tr>\n",
       "    <tr>\n",
       "      <th>Widow</th>\n",
       "      <td>0</td>\n",
       "    </tr>\n",
       "    <tr>\n",
       "      <th rowspan=\"5\" valign=\"top\">Middle Income</th>\n",
       "      <th>Divorced</th>\n",
       "      <td>13</td>\n",
       "    </tr>\n",
       "    <tr>\n",
       "      <th>Married</th>\n",
       "      <td>67</td>\n",
       "    </tr>\n",
       "    <tr>\n",
       "      <th>Single</th>\n",
       "      <td>23</td>\n",
       "    </tr>\n",
       "    <tr>\n",
       "      <th>Together</th>\n",
       "      <td>34</td>\n",
       "    </tr>\n",
       "    <tr>\n",
       "      <th>Widow</th>\n",
       "      <td>2</td>\n",
       "    </tr>\n",
       "    <tr>\n",
       "      <th rowspan=\"15\" valign=\"top\">Millennials</th>\n",
       "      <th rowspan=\"5\" valign=\"top\">High Income</th>\n",
       "      <th>Divorced</th>\n",
       "      <td>0</td>\n",
       "    </tr>\n",
       "    <tr>\n",
       "      <th>Married</th>\n",
       "      <td>2</td>\n",
       "    </tr>\n",
       "    <tr>\n",
       "      <th>Single</th>\n",
       "      <td>1</td>\n",
       "    </tr>\n",
       "    <tr>\n",
       "      <th>Together</th>\n",
       "      <td>0</td>\n",
       "    </tr>\n",
       "    <tr>\n",
       "      <th>Widow</th>\n",
       "      <td>0</td>\n",
       "    </tr>\n",
       "    <tr>\n",
       "      <th rowspan=\"5\" valign=\"top\">Low Income</th>\n",
       "      <th>Divorced</th>\n",
       "      <td>2</td>\n",
       "    </tr>\n",
       "    <tr>\n",
       "      <th>Married</th>\n",
       "      <td>25</td>\n",
       "    </tr>\n",
       "    <tr>\n",
       "      <th>Single</th>\n",
       "      <td>16</td>\n",
       "    </tr>\n",
       "    <tr>\n",
       "      <th>Together</th>\n",
       "      <td>8</td>\n",
       "    </tr>\n",
       "    <tr>\n",
       "      <th>Widow</th>\n",
       "      <td>0</td>\n",
       "    </tr>\n",
       "    <tr>\n",
       "      <th rowspan=\"5\" valign=\"top\">Middle Income</th>\n",
       "      <th>Divorced</th>\n",
       "      <td>1</td>\n",
       "    </tr>\n",
       "    <tr>\n",
       "      <th>Married</th>\n",
       "      <td>10</td>\n",
       "    </tr>\n",
       "    <tr>\n",
       "      <th>Single</th>\n",
       "      <td>7</td>\n",
       "    </tr>\n",
       "    <tr>\n",
       "      <th>Together</th>\n",
       "      <td>8</td>\n",
       "    </tr>\n",
       "    <tr>\n",
       "      <th>Widow</th>\n",
       "      <td>0</td>\n",
       "    </tr>\n",
       "  </tbody>\n",
       "</table>\n",
       "</div>"
      ],
      "text/plain": [
       "                                                            ID\n",
       "Sales_Total_level Age_level   Income_level  Marital_Status    \n",
       "High Sales        Boomers     High Income   Divorced        23\n",
       "                                            Married         72\n",
       "                                            Single          30\n",
       "                                            Together        54\n",
       "                                            Widow           12\n",
       "                              Low Income    Divorced         0\n",
       "                                            Married          0\n",
       "                                            Single           0\n",
       "                                            Together         0\n",
       "                                            Widow            0\n",
       "                              Middle Income Divorced         7\n",
       "                                            Married         16\n",
       "                                            Single          10\n",
       "                                            Together        15\n",
       "                                            Widow            5\n",
       "                  Gen x       High Income   Divorced        24\n",
       "                                            Married         77\n",
       "                                            Single          29\n",
       "                                            Together        47\n",
       "                                            Widow            3\n",
       "                              Low Income    Divorced         0\n",
       "                                            Married          2\n",
       "                                            Single           0\n",
       "                                            Together         0\n",
       "                                            Widow            0\n",
       "                              Middle Income Divorced         4\n",
       "                                            Married         17\n",
       "                                            Single          11\n",
       "                                            Together        14\n",
       "                                            Widow            3\n",
       "                  Millennials High Income   Divorced         2\n",
       "                                            Married         16\n",
       "                                            Single          17\n",
       "                                            Together        18\n",
       "                                            Widow            0\n",
       "                              Low Income    Divorced         0\n",
       "                                            Married          1\n",
       "                                            Single           0\n",
       "                                            Together         0\n",
       "                                            Widow            0\n",
       "                              Middle Income Divorced         0\n",
       "                                            Married          4\n",
       "                                            Single           3\n",
       "                                            Together         2\n",
       "                                            Widow            0\n",
       "Low Sales         Boomers     High Income   Divorced         0\n",
       "                                            Married          1\n",
       "                                            Single           0\n",
       "                                            Together         0\n",
       "                                            Widow            0\n",
       "                              Low Income    Divorced        15\n",
       "                                            Married         35\n",
       "                                            Single          16\n",
       "                                            Together        28\n",
       "                                            Widow            2\n",
       "                              Middle Income Divorced         5\n",
       "                                            Married         15\n",
       "                                            Single          13\n",
       "                                            Together        10\n",
       "                                            Widow            3\n",
       "                  Gen x       High Income   Divorced         1\n",
       "                                            Married          0\n",
       "                                            Single           1\n",
       "                                            Together         1\n",
       "                                            Widow            0\n",
       "                              Low Income    Divorced        29\n",
       "                                            Married         91\n",
       "                                            Single          38\n",
       "                                            Together        56\n",
       "                                            Widow            3\n",
       "                              Middle Income Divorced         7\n",
       "                                            Married         21\n",
       "                                            Single          11\n",
       "                                            Together        14\n",
       "                                            Widow            4\n",
       "                  Millennials High Income   Divorced         0\n",
       "                                            Married          0\n",
       "                                            Single           0\n",
       "                                            Together         0\n",
       "                                            Widow            0\n",
       "                              Low Income    Divorced         3\n",
       "                                            Married         50\n",
       "                                            Single          37\n",
       "                                            Together        24\n",
       "                                            Widow            0\n",
       "                              Middle Income Divorced         0\n",
       "                                            Married          2\n",
       "                                            Single           4\n",
       "                                            Together         2\n",
       "                                            Widow            0\n",
       "Medium Sales      Boomers     High Income   Divorced         3\n",
       "                                            Married         16\n",
       "                                            Single           6\n",
       "                                            Together         7\n",
       "                                            Widow            1\n",
       "                              Low Income    Divorced         3\n",
       "                                            Married         14\n",
       "                                            Single           6\n",
       "                                            Together        25\n",
       "                                            Widow            4\n",
       "                              Middle Income Divorced        15\n",
       "                                            Married         54\n",
       "                                            Single          22\n",
       "                                            Together        36\n",
       "                                            Widow            8\n",
       "                  Gen x       High Income   Divorced         3\n",
       "                                            Married          6\n",
       "                                            Single           8\n",
       "                                            Together         9\n",
       "                                            Widow            0\n",
       "                              Low Income    Divorced         2\n",
       "                                            Married         33\n",
       "                                            Single          22\n",
       "                                            Together        22\n",
       "                                            Widow            0\n",
       "                              Middle Income Divorced        13\n",
       "                                            Married         67\n",
       "                                            Single          23\n",
       "                                            Together        34\n",
       "                                            Widow            2\n",
       "                  Millennials High Income   Divorced         0\n",
       "                                            Married          2\n",
       "                                            Single           1\n",
       "                                            Together         0\n",
       "                                            Widow            0\n",
       "                              Low Income    Divorced         2\n",
       "                                            Married         25\n",
       "                                            Single          16\n",
       "                                            Together         8\n",
       "                                            Widow            0\n",
       "                              Middle Income Divorced         1\n",
       "                                            Married         10\n",
       "                                            Single           7\n",
       "                                            Together         8\n",
       "                                            Widow            0"
      ]
     },
     "execution_count": 31,
     "metadata": {},
     "output_type": "execute_result"
    }
   ],
   "source": [
    "data_remaining.groupby(['Sales_Total_level','Age_level','Income_level','Marital_Status']).agg({'ID': 'count'})"
   ]
  },
  {
   "cell_type": "markdown",
   "metadata": {},
   "source": [
    "# Channel Usage by Each Customer Segment"
   ]
  },
  {
   "cell_type": "code",
   "execution_count": 32,
   "metadata": {},
   "outputs": [
    {
     "data": {
      "text/plain": [
       "Index(['ID', 'Year_Birth', 'Age', 'Education', 'Marital_Status', 'Income',\n",
       "       'Kidhome', 'Teenhome', 'Dt_Customer', 'Recency', 'MntWines',\n",
       "       'MntFruits', 'MntMeatProducts', 'MntFishProducts', 'MntSweetProducts',\n",
       "       'MntGoldProds', 'NumDealsPurchases', 'NumWebPurchases',\n",
       "       'NumCatalogPurchases', 'NumStorePurchases', 'NumWebVisitsMonth',\n",
       "       'AcceptedCmp3', 'AcceptedCmp4', 'AcceptedCmp5', 'AcceptedCmp1',\n",
       "       'AcceptedCmp2', 'Response', 'Complain', 'Country', 'total_sales',\n",
       "       'sum_accepted', 'Accepted_binary', 'no_dependents', 'Education_level',\n",
       "       'Income_level', 'Age_level', 'Cluster', 'Sales_Total',\n",
       "       'Sales_Total_level'],\n",
       "      dtype='object')"
      ]
     },
     "execution_count": 32,
     "metadata": {},
     "output_type": "execute_result"
    }
   ],
   "source": [
    "data_remaining.columns"
   ]
  },
  {
   "cell_type": "code",
   "execution_count": 33,
   "metadata": {},
   "outputs": [
    {
     "name": "stderr",
     "output_type": "stream",
     "text": [
      "<ipython-input-33-69c09954c8da>:1: SettingWithCopyWarning:\n",
      "\n",
      "\n",
      "A value is trying to be set on a copy of a slice from a DataFrame.\n",
      "Try using .loc[row_indexer,col_indexer] = value instead\n",
      "\n",
      "See the caveats in the documentation: https://pandas.pydata.org/pandas-docs/stable/user_guide/indexing.html#returning-a-view-versus-a-copy\n",
      "\n"
     ]
    },
    {
     "data": {
      "text/html": [
       "<div>\n",
       "<style scoped>\n",
       "    .dataframe tbody tr th:only-of-type {\n",
       "        vertical-align: middle;\n",
       "    }\n",
       "\n",
       "    .dataframe tbody tr th {\n",
       "        vertical-align: top;\n",
       "    }\n",
       "\n",
       "    .dataframe thead th {\n",
       "        text-align: right;\n",
       "    }\n",
       "</style>\n",
       "<table border=\"1\" class=\"dataframe\">\n",
       "  <thead>\n",
       "    <tr style=\"text-align: right;\">\n",
       "      <th></th>\n",
       "      <th>ID</th>\n",
       "      <th>Year_Birth</th>\n",
       "      <th>Age</th>\n",
       "      <th>Income</th>\n",
       "      <th>Kidhome</th>\n",
       "      <th>Teenhome</th>\n",
       "      <th>Recency</th>\n",
       "      <th>MntWines</th>\n",
       "      <th>MntFruits</th>\n",
       "      <th>MntMeatProducts</th>\n",
       "      <th>MntFishProducts</th>\n",
       "      <th>MntSweetProducts</th>\n",
       "      <th>MntGoldProds</th>\n",
       "      <th>NumDealsPurchases</th>\n",
       "      <th>NumWebPurchases</th>\n",
       "      <th>NumCatalogPurchases</th>\n",
       "      <th>NumStorePurchases</th>\n",
       "      <th>NumWebVisitsMonth</th>\n",
       "      <th>AcceptedCmp3</th>\n",
       "      <th>AcceptedCmp4</th>\n",
       "      <th>AcceptedCmp5</th>\n",
       "      <th>AcceptedCmp1</th>\n",
       "      <th>AcceptedCmp2</th>\n",
       "      <th>Response</th>\n",
       "      <th>Complain</th>\n",
       "      <th>total_sales</th>\n",
       "      <th>sum_accepted</th>\n",
       "      <th>Accepted_binary</th>\n",
       "      <th>no_dependents</th>\n",
       "      <th>Cluster</th>\n",
       "      <th>Sales_Total</th>\n",
       "      <th>Total_purchases</th>\n",
       "    </tr>\n",
       "  </thead>\n",
       "  <tbody>\n",
       "    <tr>\n",
       "      <th>count</th>\n",
       "      <td>1624.000000</td>\n",
       "      <td>1624.000000</td>\n",
       "      <td>1624.000000</td>\n",
       "      <td>1624.000000</td>\n",
       "      <td>1624.000000</td>\n",
       "      <td>1624.000000</td>\n",
       "      <td>1624.000000</td>\n",
       "      <td>1624.000000</td>\n",
       "      <td>1624.000000</td>\n",
       "      <td>1624.000000</td>\n",
       "      <td>1624.000000</td>\n",
       "      <td>1624.000000</td>\n",
       "      <td>1624.000000</td>\n",
       "      <td>1624.000000</td>\n",
       "      <td>1624.000000</td>\n",
       "      <td>1624.000000</td>\n",
       "      <td>1624.000000</td>\n",
       "      <td>1624.000000</td>\n",
       "      <td>1624.0</td>\n",
       "      <td>1624.0</td>\n",
       "      <td>1624.0</td>\n",
       "      <td>1624.0</td>\n",
       "      <td>1624.0</td>\n",
       "      <td>1624.0</td>\n",
       "      <td>1624.000000</td>\n",
       "      <td>1624.000000</td>\n",
       "      <td>1624.0</td>\n",
       "      <td>1624.0</td>\n",
       "      <td>1624.000000</td>\n",
       "      <td>1624.000000</td>\n",
       "      <td>1624.000000</td>\n",
       "      <td>1624.000000</td>\n",
       "    </tr>\n",
       "    <tr>\n",
       "      <th>mean</th>\n",
       "      <td>5664.244458</td>\n",
       "      <td>1969.118842</td>\n",
       "      <td>51.881158</td>\n",
       "      <td>48330.756158</td>\n",
       "      <td>0.499384</td>\n",
       "      <td>0.549261</td>\n",
       "      <td>50.960591</td>\n",
       "      <td>216.939655</td>\n",
       "      <td>22.774015</td>\n",
       "      <td>125.895936</td>\n",
       "      <td>32.059729</td>\n",
       "      <td>22.996305</td>\n",
       "      <td>37.901478</td>\n",
       "      <td>2.360837</td>\n",
       "      <td>3.717365</td>\n",
       "      <td>2.118227</td>\n",
       "      <td>5.489532</td>\n",
       "      <td>5.421182</td>\n",
       "      <td>0.0</td>\n",
       "      <td>0.0</td>\n",
       "      <td>0.0</td>\n",
       "      <td>0.0</td>\n",
       "      <td>0.0</td>\n",
       "      <td>0.0</td>\n",
       "      <td>0.010468</td>\n",
       "      <td>458.567118</td>\n",
       "      <td>0.0</td>\n",
       "      <td>0.0</td>\n",
       "      <td>1.048645</td>\n",
       "      <td>0.716133</td>\n",
       "      <td>458.567118</td>\n",
       "      <td>13.685961</td>\n",
       "    </tr>\n",
       "    <tr>\n",
       "      <th>std</th>\n",
       "      <td>3271.201897</td>\n",
       "      <td>11.470879</td>\n",
       "      <td>11.470879</td>\n",
       "      <td>20298.557154</td>\n",
       "      <td>0.551701</td>\n",
       "      <td>0.543861</td>\n",
       "      <td>28.637681</td>\n",
       "      <td>258.106838</td>\n",
       "      <td>37.062835</td>\n",
       "      <td>187.716047</td>\n",
       "      <td>49.856326</td>\n",
       "      <td>37.914438</td>\n",
       "      <td>48.273062</td>\n",
       "      <td>1.933355</td>\n",
       "      <td>2.761105</td>\n",
       "      <td>2.736227</td>\n",
       "      <td>3.196176</td>\n",
       "      <td>2.357185</td>\n",
       "      <td>0.0</td>\n",
       "      <td>0.0</td>\n",
       "      <td>0.0</td>\n",
       "      <td>0.0</td>\n",
       "      <td>0.0</td>\n",
       "      <td>0.0</td>\n",
       "      <td>0.101808</td>\n",
       "      <td>494.101713</td>\n",
       "      <td>0.0</td>\n",
       "      <td>0.0</td>\n",
       "      <td>0.732637</td>\n",
       "      <td>0.835200</td>\n",
       "      <td>494.101713</td>\n",
       "      <td>7.657319</td>\n",
       "    </tr>\n",
       "    <tr>\n",
       "      <th>min</th>\n",
       "      <td>0.000000</td>\n",
       "      <td>1940.000000</td>\n",
       "      <td>26.000000</td>\n",
       "      <td>1730.000000</td>\n",
       "      <td>0.000000</td>\n",
       "      <td>0.000000</td>\n",
       "      <td>0.000000</td>\n",
       "      <td>0.000000</td>\n",
       "      <td>0.000000</td>\n",
       "      <td>0.000000</td>\n",
       "      <td>0.000000</td>\n",
       "      <td>0.000000</td>\n",
       "      <td>0.000000</td>\n",
       "      <td>0.000000</td>\n",
       "      <td>0.000000</td>\n",
       "      <td>0.000000</td>\n",
       "      <td>0.000000</td>\n",
       "      <td>0.000000</td>\n",
       "      <td>0.0</td>\n",
       "      <td>0.0</td>\n",
       "      <td>0.0</td>\n",
       "      <td>0.0</td>\n",
       "      <td>0.0</td>\n",
       "      <td>0.0</td>\n",
       "      <td>0.000000</td>\n",
       "      <td>5.000000</td>\n",
       "      <td>0.0</td>\n",
       "      <td>0.0</td>\n",
       "      <td>0.000000</td>\n",
       "      <td>0.000000</td>\n",
       "      <td>5.000000</td>\n",
       "      <td>0.000000</td>\n",
       "    </tr>\n",
       "    <tr>\n",
       "      <th>25%</th>\n",
       "      <td>2867.750000</td>\n",
       "      <td>1960.000000</td>\n",
       "      <td>44.000000</td>\n",
       "      <td>33249.000000</td>\n",
       "      <td>0.000000</td>\n",
       "      <td>0.000000</td>\n",
       "      <td>27.000000</td>\n",
       "      <td>18.000000</td>\n",
       "      <td>1.000000</td>\n",
       "      <td>12.000000</td>\n",
       "      <td>2.000000</td>\n",
       "      <td>1.000000</td>\n",
       "      <td>6.000000</td>\n",
       "      <td>1.000000</td>\n",
       "      <td>2.000000</td>\n",
       "      <td>0.000000</td>\n",
       "      <td>3.000000</td>\n",
       "      <td>4.000000</td>\n",
       "      <td>0.0</td>\n",
       "      <td>0.0</td>\n",
       "      <td>0.0</td>\n",
       "      <td>0.0</td>\n",
       "      <td>0.0</td>\n",
       "      <td>0.0</td>\n",
       "      <td>0.000000</td>\n",
       "      <td>55.000000</td>\n",
       "      <td>0.0</td>\n",
       "      <td>0.0</td>\n",
       "      <td>1.000000</td>\n",
       "      <td>0.000000</td>\n",
       "      <td>55.000000</td>\n",
       "      <td>7.000000</td>\n",
       "    </tr>\n",
       "    <tr>\n",
       "      <th>50%</th>\n",
       "      <td>5570.500000</td>\n",
       "      <td>1970.000000</td>\n",
       "      <td>51.000000</td>\n",
       "      <td>47352.000000</td>\n",
       "      <td>0.000000</td>\n",
       "      <td>1.000000</td>\n",
       "      <td>51.000000</td>\n",
       "      <td>97.500000</td>\n",
       "      <td>6.000000</td>\n",
       "      <td>45.000000</td>\n",
       "      <td>10.000000</td>\n",
       "      <td>7.000000</td>\n",
       "      <td>18.000000</td>\n",
       "      <td>2.000000</td>\n",
       "      <td>3.000000</td>\n",
       "      <td>1.000000</td>\n",
       "      <td>4.000000</td>\n",
       "      <td>6.000000</td>\n",
       "      <td>0.0</td>\n",
       "      <td>0.0</td>\n",
       "      <td>0.0</td>\n",
       "      <td>0.0</td>\n",
       "      <td>0.0</td>\n",
       "      <td>0.0</td>\n",
       "      <td>0.000000</td>\n",
       "      <td>234.000000</td>\n",
       "      <td>0.0</td>\n",
       "      <td>0.0</td>\n",
       "      <td>1.000000</td>\n",
       "      <td>0.000000</td>\n",
       "      <td>234.000000</td>\n",
       "      <td>12.000000</td>\n",
       "    </tr>\n",
       "    <tr>\n",
       "      <th>75%</th>\n",
       "      <td>8569.750000</td>\n",
       "      <td>1977.000000</td>\n",
       "      <td>61.000000</td>\n",
       "      <td>63414.750000</td>\n",
       "      <td>1.000000</td>\n",
       "      <td>1.000000</td>\n",
       "      <td>76.000000</td>\n",
       "      <td>359.750000</td>\n",
       "      <td>26.000000</td>\n",
       "      <td>161.000000</td>\n",
       "      <td>38.000000</td>\n",
       "      <td>26.000000</td>\n",
       "      <td>49.000000</td>\n",
       "      <td>3.000000</td>\n",
       "      <td>5.000000</td>\n",
       "      <td>3.000000</td>\n",
       "      <td>8.000000</td>\n",
       "      <td>7.000000</td>\n",
       "      <td>0.0</td>\n",
       "      <td>0.0</td>\n",
       "      <td>0.0</td>\n",
       "      <td>0.0</td>\n",
       "      <td>0.0</td>\n",
       "      <td>0.0</td>\n",
       "      <td>0.000000</td>\n",
       "      <td>806.500000</td>\n",
       "      <td>0.0</td>\n",
       "      <td>0.0</td>\n",
       "      <td>1.000000</td>\n",
       "      <td>1.000000</td>\n",
       "      <td>806.500000</td>\n",
       "      <td>20.000000</td>\n",
       "    </tr>\n",
       "    <tr>\n",
       "      <th>max</th>\n",
       "      <td>11191.000000</td>\n",
       "      <td>1995.000000</td>\n",
       "      <td>81.000000</td>\n",
       "      <td>162397.000000</td>\n",
       "      <td>2.000000</td>\n",
       "      <td>2.000000</td>\n",
       "      <td>99.000000</td>\n",
       "      <td>1396.000000</td>\n",
       "      <td>199.000000</td>\n",
       "      <td>1725.000000</td>\n",
       "      <td>259.000000</td>\n",
       "      <td>263.000000</td>\n",
       "      <td>362.000000</td>\n",
       "      <td>15.000000</td>\n",
       "      <td>27.000000</td>\n",
       "      <td>28.000000</td>\n",
       "      <td>13.000000</td>\n",
       "      <td>20.000000</td>\n",
       "      <td>0.0</td>\n",
       "      <td>0.0</td>\n",
       "      <td>0.0</td>\n",
       "      <td>0.0</td>\n",
       "      <td>0.0</td>\n",
       "      <td>0.0</td>\n",
       "      <td>1.000000</td>\n",
       "      <td>2440.000000</td>\n",
       "      <td>0.0</td>\n",
       "      <td>0.0</td>\n",
       "      <td>3.000000</td>\n",
       "      <td>2.000000</td>\n",
       "      <td>2440.000000</td>\n",
       "      <td>44.000000</td>\n",
       "    </tr>\n",
       "  </tbody>\n",
       "</table>\n",
       "</div>"
      ],
      "text/plain": [
       "                 ID   Year_Birth          Age         Income      Kidhome  \\\n",
       "count   1624.000000  1624.000000  1624.000000    1624.000000  1624.000000   \n",
       "mean    5664.244458  1969.118842    51.881158   48330.756158     0.499384   \n",
       "std     3271.201897    11.470879    11.470879   20298.557154     0.551701   \n",
       "min        0.000000  1940.000000    26.000000    1730.000000     0.000000   \n",
       "25%     2867.750000  1960.000000    44.000000   33249.000000     0.000000   \n",
       "50%     5570.500000  1970.000000    51.000000   47352.000000     0.000000   \n",
       "75%     8569.750000  1977.000000    61.000000   63414.750000     1.000000   \n",
       "max    11191.000000  1995.000000    81.000000  162397.000000     2.000000   \n",
       "\n",
       "          Teenhome      Recency     MntWines    MntFruits  MntMeatProducts  \\\n",
       "count  1624.000000  1624.000000  1624.000000  1624.000000      1624.000000   \n",
       "mean      0.549261    50.960591   216.939655    22.774015       125.895936   \n",
       "std       0.543861    28.637681   258.106838    37.062835       187.716047   \n",
       "min       0.000000     0.000000     0.000000     0.000000         0.000000   \n",
       "25%       0.000000    27.000000    18.000000     1.000000        12.000000   \n",
       "50%       1.000000    51.000000    97.500000     6.000000        45.000000   \n",
       "75%       1.000000    76.000000   359.750000    26.000000       161.000000   \n",
       "max       2.000000    99.000000  1396.000000   199.000000      1725.000000   \n",
       "\n",
       "       MntFishProducts  MntSweetProducts  MntGoldProds  NumDealsPurchases  \\\n",
       "count      1624.000000       1624.000000   1624.000000        1624.000000   \n",
       "mean         32.059729         22.996305     37.901478           2.360837   \n",
       "std          49.856326         37.914438     48.273062           1.933355   \n",
       "min           0.000000          0.000000      0.000000           0.000000   \n",
       "25%           2.000000          1.000000      6.000000           1.000000   \n",
       "50%          10.000000          7.000000     18.000000           2.000000   \n",
       "75%          38.000000         26.000000     49.000000           3.000000   \n",
       "max         259.000000        263.000000    362.000000          15.000000   \n",
       "\n",
       "       NumWebPurchases  NumCatalogPurchases  NumStorePurchases  \\\n",
       "count      1624.000000          1624.000000        1624.000000   \n",
       "mean          3.717365             2.118227           5.489532   \n",
       "std           2.761105             2.736227           3.196176   \n",
       "min           0.000000             0.000000           0.000000   \n",
       "25%           2.000000             0.000000           3.000000   \n",
       "50%           3.000000             1.000000           4.000000   \n",
       "75%           5.000000             3.000000           8.000000   \n",
       "max          27.000000            28.000000          13.000000   \n",
       "\n",
       "       NumWebVisitsMonth  AcceptedCmp3  AcceptedCmp4  AcceptedCmp5  \\\n",
       "count        1624.000000        1624.0        1624.0        1624.0   \n",
       "mean            5.421182           0.0           0.0           0.0   \n",
       "std             2.357185           0.0           0.0           0.0   \n",
       "min             0.000000           0.0           0.0           0.0   \n",
       "25%             4.000000           0.0           0.0           0.0   \n",
       "50%             6.000000           0.0           0.0           0.0   \n",
       "75%             7.000000           0.0           0.0           0.0   \n",
       "max            20.000000           0.0           0.0           0.0   \n",
       "\n",
       "       AcceptedCmp1  AcceptedCmp2  Response     Complain  total_sales  \\\n",
       "count        1624.0        1624.0    1624.0  1624.000000  1624.000000   \n",
       "mean            0.0           0.0       0.0     0.010468   458.567118   \n",
       "std             0.0           0.0       0.0     0.101808   494.101713   \n",
       "min             0.0           0.0       0.0     0.000000     5.000000   \n",
       "25%             0.0           0.0       0.0     0.000000    55.000000   \n",
       "50%             0.0           0.0       0.0     0.000000   234.000000   \n",
       "75%             0.0           0.0       0.0     0.000000   806.500000   \n",
       "max             0.0           0.0       0.0     1.000000  2440.000000   \n",
       "\n",
       "       sum_accepted  Accepted_binary  no_dependents      Cluster  Sales_Total  \\\n",
       "count        1624.0           1624.0    1624.000000  1624.000000  1624.000000   \n",
       "mean            0.0              0.0       1.048645     0.716133   458.567118   \n",
       "std             0.0              0.0       0.732637     0.835200   494.101713   \n",
       "min             0.0              0.0       0.000000     0.000000     5.000000   \n",
       "25%             0.0              0.0       1.000000     0.000000    55.000000   \n",
       "50%             0.0              0.0       1.000000     0.000000   234.000000   \n",
       "75%             0.0              0.0       1.000000     1.000000   806.500000   \n",
       "max             0.0              0.0       3.000000     2.000000  2440.000000   \n",
       "\n",
       "       Total_purchases  \n",
       "count      1624.000000  \n",
       "mean         13.685961  \n",
       "std           7.657319  \n",
       "min           0.000000  \n",
       "25%           7.000000  \n",
       "50%          12.000000  \n",
       "75%          20.000000  \n",
       "max          44.000000  "
      ]
     },
     "execution_count": 33,
     "metadata": {},
     "output_type": "execute_result"
    }
   ],
   "source": [
    "data_remaining['Total_purchases'] = (data_remaining['NumDealsPurchases'] +  data_remaining['NumWebPurchases'] + data_remaining['NumCatalogPurchases'] + data_remaining['NumStorePurchases'])\n",
    "data_remaining.describe()\n"
   ]
  },
  {
   "cell_type": "code",
   "execution_count": 34,
   "metadata": {},
   "outputs": [
    {
     "name": "stderr",
     "output_type": "stream",
     "text": [
      "<ipython-input-34-6888927d141b>:1: SettingWithCopyWarning:\n",
      "\n",
      "\n",
      "A value is trying to be set on a copy of a slice from a DataFrame.\n",
      "Try using .loc[row_indexer,col_indexer] = value instead\n",
      "\n",
      "See the caveats in the documentation: https://pandas.pydata.org/pandas-docs/stable/user_guide/indexing.html#returning-a-view-versus-a-copy\n",
      "\n",
      "<ipython-input-34-6888927d141b>:2: SettingWithCopyWarning:\n",
      "\n",
      "\n",
      "A value is trying to be set on a copy of a slice from a DataFrame.\n",
      "Try using .loc[row_indexer,col_indexer] = value instead\n",
      "\n",
      "See the caveats in the documentation: https://pandas.pydata.org/pandas-docs/stable/user_guide/indexing.html#returning-a-view-versus-a-copy\n",
      "\n",
      "<ipython-input-34-6888927d141b>:3: SettingWithCopyWarning:\n",
      "\n",
      "\n",
      "A value is trying to be set on a copy of a slice from a DataFrame.\n",
      "Try using .loc[row_indexer,col_indexer] = value instead\n",
      "\n",
      "See the caveats in the documentation: https://pandas.pydata.org/pandas-docs/stable/user_guide/indexing.html#returning-a-view-versus-a-copy\n",
      "\n",
      "<ipython-input-34-6888927d141b>:4: SettingWithCopyWarning:\n",
      "\n",
      "\n",
      "A value is trying to be set on a copy of a slice from a DataFrame.\n",
      "Try using .loc[row_indexer,col_indexer] = value instead\n",
      "\n",
      "See the caveats in the documentation: https://pandas.pydata.org/pandas-docs/stable/user_guide/indexing.html#returning-a-view-versus-a-copy\n",
      "\n",
      "<ipython-input-34-6888927d141b>:6: SettingWithCopyWarning:\n",
      "\n",
      "\n",
      "A value is trying to be set on a copy of a slice from a DataFrame.\n",
      "Try using .loc[row_indexer,col_indexer] = value instead\n",
      "\n",
      "See the caveats in the documentation: https://pandas.pydata.org/pandas-docs/stable/user_guide/indexing.html#returning-a-view-versus-a-copy\n",
      "\n",
      "<ipython-input-34-6888927d141b>:7: SettingWithCopyWarning:\n",
      "\n",
      "\n",
      "A value is trying to be set on a copy of a slice from a DataFrame.\n",
      "Try using .loc[row_indexer,col_indexer] = value instead\n",
      "\n",
      "See the caveats in the documentation: https://pandas.pydata.org/pandas-docs/stable/user_guide/indexing.html#returning-a-view-versus-a-copy\n",
      "\n",
      "<ipython-input-34-6888927d141b>:8: SettingWithCopyWarning:\n",
      "\n",
      "\n",
      "A value is trying to be set on a copy of a slice from a DataFrame.\n",
      "Try using .loc[row_indexer,col_indexer] = value instead\n",
      "\n",
      "See the caveats in the documentation: https://pandas.pydata.org/pandas-docs/stable/user_guide/indexing.html#returning-a-view-versus-a-copy\n",
      "\n",
      "<ipython-input-34-6888927d141b>:9: SettingWithCopyWarning:\n",
      "\n",
      "\n",
      "A value is trying to be set on a copy of a slice from a DataFrame.\n",
      "Try using .loc[row_indexer,col_indexer] = value instead\n",
      "\n",
      "See the caveats in the documentation: https://pandas.pydata.org/pandas-docs/stable/user_guide/indexing.html#returning-a-view-versus-a-copy\n",
      "\n",
      "<ipython-input-34-6888927d141b>:10: SettingWithCopyWarning:\n",
      "\n",
      "\n",
      "A value is trying to be set on a copy of a slice from a DataFrame.\n",
      "Try using .loc[row_indexer,col_indexer] = value instead\n",
      "\n",
      "See the caveats in the documentation: https://pandas.pydata.org/pandas-docs/stable/user_guide/indexing.html#returning-a-view-versus-a-copy\n",
      "\n"
     ]
    }
   ],
   "source": [
    "data_remaining['deals_new'] = data_remaining['NumDealsPurchases'] + 0.7\n",
    "data_remaining['web_new'] = data_remaining['NumWebPurchases'] + 0.7\n",
    "data_remaining['catalog_new'] = data_remaining['NumCatalogPurchases'] + 0.7\n",
    "data_remaining['stores_new'] = data_remaining['NumStorePurchases'] + 0.7\n",
    "\n",
    "data_remaining['log_sales'] = [math.log(i) for i in data_remaining['Sales_Total']]\n",
    "data_remaining['log_deals'] = [math.log(i) for i in data_remaining['deals_new']]\n",
    "data_remaining['log_web'] = [math.log(i) for i in data_remaining['web_new']]\n",
    "data_remaining['log_catalog'] = [math.log(i) for i in data_remaining['catalog_new']]\n",
    "data_remaining['log_stores'] = [math.log(i) for i in data_remaining['stores_new']]"
   ]
  },
  {
   "cell_type": "code",
   "execution_count": 35,
   "metadata": {},
   "outputs": [
    {
     "name": "stdout",
     "output_type": "stream",
     "text": [
      "                            OLS Regression Results                            \n",
      "==============================================================================\n",
      "Dep. Variable:              log_sales   R-squared:                       0.642\n",
      "Model:                            OLS   Adj. R-squared:                  0.639\n",
      "Method:                 Least Squares   F-statistic:                     217.1\n",
      "Date:                Sun, 12 Dec 2021   Prob (F-statistic):          1.33e-106\n",
      "Time:                        14:47:40   Log-Likelihood:                -217.67\n",
      "No. Observations:                 490   AIC:                             445.3\n",
      "Df Residuals:                     485   BIC:                             466.3\n",
      "Df Model:                           4                                         \n",
      "Covariance Type:            nonrobust                                         \n",
      "===============================================================================\n",
      "                  coef    std err          t      P>|t|      [0.025      0.975]\n",
      "-------------------------------------------------------------------------------\n",
      "Intercept       4.3831      0.102     43.017      0.000       4.183       4.583\n",
      "log_web         0.3588      0.040      8.869      0.000       0.279       0.438\n",
      "log_catalog     0.7811      0.032     24.674      0.000       0.719       0.843\n",
      "log_stores      0.2900      0.043      6.736      0.000       0.205       0.375\n",
      "log_deals      -0.0130      0.035     -0.370      0.712      -0.082       0.056\n",
      "==============================================================================\n",
      "Omnibus:                       44.721   Durbin-Watson:                   1.878\n",
      "Prob(Omnibus):                  0.000   Jarque-Bera (JB):              183.465\n",
      "Skew:                          -0.264   Prob(JB):                     1.45e-40\n",
      "Kurtosis:                       5.951   Cond. No.                         21.6\n",
      "==============================================================================\n",
      "\n",
      "Notes:\n",
      "[1] Standard Errors assume that the covariance matrix of the errors is correctly specified.\n"
     ]
    }
   ],
   "source": [
    "reg_model = sm.ols(formula=\"log_sales ~ log_web + log_catalog + log_stores + log_deals\", data=data_remaining[data_remaining.Income_level == 'High Income']).fit()\n",
    "print(reg_model.summary())"
   ]
  },
  {
   "cell_type": "code",
   "execution_count": 36,
   "metadata": {},
   "outputs": [
    {
     "name": "stdout",
     "output_type": "stream",
     "text": [
      "                            OLS Regression Results                            \n",
      "==============================================================================\n",
      "Dep. Variable:              log_sales   R-squared:                       0.745\n",
      "Model:                            OLS   Adj. R-squared:                  0.743\n",
      "Method:                 Least Squares   F-statistic:                     442.4\n",
      "Date:                Sun, 12 Dec 2021   Prob (F-statistic):          2.79e-178\n",
      "Time:                        14:47:40   Log-Likelihood:                -364.50\n",
      "No. Observations:                 612   AIC:                             739.0\n",
      "Df Residuals:                     607   BIC:                             761.1\n",
      "Df Model:                           4                                         \n",
      "Covariance Type:            nonrobust                                         \n",
      "===============================================================================\n",
      "                  coef    std err          t      P>|t|      [0.025      0.975]\n",
      "-------------------------------------------------------------------------------\n",
      "Intercept       2.4320      0.083     29.185      0.000       2.268       2.596\n",
      "log_web         0.8875      0.042     20.970      0.000       0.804       0.971\n",
      "log_catalog     0.7619      0.039     19.361      0.000       0.685       0.839\n",
      "log_stores      0.6391      0.068      9.448      0.000       0.506       0.772\n",
      "log_deals       0.0107      0.047      0.226      0.821      -0.082       0.104\n",
      "==============================================================================\n",
      "Omnibus:                      263.923   Durbin-Watson:                   1.597\n",
      "Prob(Omnibus):                  0.000   Jarque-Bera (JB):             3294.894\n",
      "Skew:                           1.560   Prob(JB):                         0.00\n",
      "Kurtosis:                      13.930   Cond. No.                         12.3\n",
      "==============================================================================\n",
      "\n",
      "Notes:\n",
      "[1] Standard Errors assume that the covariance matrix of the errors is correctly specified.\n"
     ]
    }
   ],
   "source": [
    "reg_model = sm.ols(formula=\"log_sales ~ log_web + log_catalog + log_stores + log_deals\", data=data_remaining[data_remaining.Income_level == 'Low Income']).fit()\n",
    "print(reg_model.summary())"
   ]
  },
  {
   "cell_type": "code",
   "execution_count": 37,
   "metadata": {},
   "outputs": [
    {
     "name": "stdout",
     "output_type": "stream",
     "text": [
      "                            OLS Regression Results                            \n",
      "==============================================================================\n",
      "Dep. Variable:              log_sales   R-squared:                       0.942\n",
      "Model:                            OLS   Adj. R-squared:                  0.941\n",
      "Method:                 Least Squares   F-statistic:                     2097.\n",
      "Date:                Sun, 12 Dec 2021   Prob (F-statistic):          7.37e-318\n",
      "Time:                        14:47:40   Log-Likelihood:                -50.737\n",
      "No. Observations:                 522   AIC:                             111.5\n",
      "Df Residuals:                     517   BIC:                             132.8\n",
      "Df Model:                           4                                         \n",
      "Covariance Type:            nonrobust                                         \n",
      "===============================================================================\n",
      "                  coef    std err          t      P>|t|      [0.025      0.975]\n",
      "-------------------------------------------------------------------------------\n",
      "Intercept       2.3984      0.057     41.903      0.000       2.286       2.511\n",
      "log_web         0.8510      0.028     29.964      0.000       0.795       0.907\n",
      "log_catalog     0.5930      0.024     24.756      0.000       0.546       0.640\n",
      "log_stores      0.8279      0.041     20.331      0.000       0.748       0.908\n",
      "log_deals      -0.0093      0.027     -0.338      0.736      -0.063       0.045\n",
      "==============================================================================\n",
      "Omnibus:                      146.538   Durbin-Watson:                   1.837\n",
      "Prob(Omnibus):                  0.000   Jarque-Bera (JB):              991.791\n",
      "Skew:                           1.043   Prob(JB):                    4.32e-216\n",
      "Kurtosis:                       9.423   Cond. No.                         16.8\n",
      "==============================================================================\n",
      "\n",
      "Notes:\n",
      "[1] Standard Errors assume that the covariance matrix of the errors is correctly specified.\n"
     ]
    }
   ],
   "source": [
    "reg_model = sm.ols(formula=\"log_sales ~ log_web + log_catalog + log_stores + log_deals\", data=data_remaining[data_remaining.Income_level == 'Middle Income']).fit()\n",
    "print(reg_model.summary())"
   ]
  },
  {
   "cell_type": "code",
   "execution_count": 38,
   "metadata": {},
   "outputs": [
    {
     "name": "stderr",
     "output_type": "stream",
     "text": [
      "<ipython-input-38-3ca1f733bace>:1: SettingWithCopyWarning:\n",
      "\n",
      "\n",
      "A value is trying to be set on a copy of a slice from a DataFrame.\n",
      "Try using .loc[row_indexer,col_indexer] = value instead\n",
      "\n",
      "See the caveats in the documentation: https://pandas.pydata.org/pandas-docs/stable/user_guide/indexing.html#returning-a-view-versus-a-copy\n",
      "\n"
     ]
    }
   ],
   "source": [
    "data_remaining['log_income'] = [math.log(i) for i in data_remaining['Income']]"
   ]
  },
  {
   "cell_type": "code",
   "execution_count": 39,
   "metadata": {},
   "outputs": [
    {
     "name": "stdout",
     "output_type": "stream",
     "text": [
      "                            OLS Regression Results                            \n",
      "==============================================================================\n",
      "Dep. Variable:              log_sales   R-squared:                       0.337\n",
      "Model:                            OLS   Adj. R-squared:                  0.331\n",
      "Method:                 Least Squares   F-statistic:                     54.18\n",
      "Date:                Sun, 12 Dec 2021   Prob (F-statistic):           1.83e-45\n",
      "Time:                        14:47:40   Log-Likelihood:                -21.095\n",
      "No. Observations:                 538   AIC:                             54.19\n",
      "Df Residuals:                     532   BIC:                             79.92\n",
      "Df Model:                           5                                         \n",
      "Covariance Type:            nonrobust                                         \n",
      "===============================================================================\n",
      "                  coef    std err          t      P>|t|      [0.025      0.975]\n",
      "-------------------------------------------------------------------------------\n",
      "Intercept       3.5303      0.622      5.678      0.000       2.309       4.752\n",
      "log_web         0.0477      0.028      1.712      0.087      -0.007       0.103\n",
      "log_catalog     0.3142      0.026     12.125      0.000       0.263       0.365\n",
      "log_stores     -0.0050      0.029     -0.170      0.865      -0.063       0.053\n",
      "log_deals      -0.0691      0.021     -3.233      0.001      -0.111      -0.027\n",
      "log_income      0.2605      0.056      4.685      0.000       0.151       0.370\n",
      "==============================================================================\n",
      "Omnibus:                       18.376   Durbin-Watson:                   1.935\n",
      "Prob(Omnibus):                  0.000   Jarque-Bera (JB):               19.446\n",
      "Skew:                           0.431   Prob(JB):                     5.99e-05\n",
      "Kurtosis:                       3.352   Cond. No.                         668.\n",
      "==============================================================================\n",
      "\n",
      "Notes:\n",
      "[1] Standard Errors assume that the covariance matrix of the errors is correctly specified.\n"
     ]
    }
   ],
   "source": [
    "reg_model = sm.ols(formula=\"log_sales ~ log_web + log_catalog + log_stores + log_deals + log_income\", data=data_remaining[data_remaining.Sales_Total_level == 'High Sales']).fit()\n",
    "print(reg_model.summary())"
   ]
  },
  {
   "cell_type": "code",
   "execution_count": 40,
   "metadata": {},
   "outputs": [
    {
     "name": "stdout",
     "output_type": "stream",
     "text": [
      "                            OLS Regression Results                            \n",
      "==============================================================================\n",
      "Dep. Variable:              log_sales   R-squared:                       0.830\n",
      "Model:                            OLS   Adj. R-squared:                  0.828\n",
      "Method:                 Least Squares   F-statistic:                     523.9\n",
      "Date:                Sun, 12 Dec 2021   Prob (F-statistic):          4.48e-204\n",
      "Time:                        14:47:40   Log-Likelihood:                -17.271\n",
      "No. Observations:                 544   AIC:                             46.54\n",
      "Df Residuals:                     538   BIC:                             72.34\n",
      "Df Model:                           5                                         \n",
      "Covariance Type:            nonrobust                                         \n",
      "===============================================================================\n",
      "                  coef    std err          t      P>|t|      [0.025      0.975]\n",
      "-------------------------------------------------------------------------------\n",
      "Intercept       3.6614      0.341     10.725      0.000       2.991       4.332\n",
      "log_web         0.7314      0.027     27.166      0.000       0.679       0.784\n",
      "log_catalog     0.4763      0.023     20.743      0.000       0.431       0.521\n",
      "log_stores      0.6488      0.038     16.996      0.000       0.574       0.724\n",
      "log_income     -0.0536      0.035     -1.552      0.121      -0.121       0.014\n",
      "log_deals      -0.0704      0.023     -3.023      0.003      -0.116      -0.025\n",
      "==============================================================================\n",
      "Omnibus:                      515.196   Durbin-Watson:                   1.498\n",
      "Prob(Omnibus):                  0.000   Jarque-Bera (JB):            27083.167\n",
      "Skew:                           3.991   Prob(JB):                         0.00\n",
      "Kurtosis:                      36.632   Cond. No.                         351.\n",
      "==============================================================================\n",
      "\n",
      "Notes:\n",
      "[1] Standard Errors assume that the covariance matrix of the errors is correctly specified.\n"
     ]
    }
   ],
   "source": [
    "reg_model = sm.ols(formula=\"log_sales ~ log_web + log_catalog + log_stores + log_income + log_deals\", data=data_remaining[data_remaining.Sales_Total_level == 'Medium Sales']).fit()\n",
    "print(reg_model.summary())"
   ]
  },
  {
   "cell_type": "code",
   "execution_count": 41,
   "metadata": {},
   "outputs": [
    {
     "name": "stdout",
     "output_type": "stream",
     "text": [
      "                            OLS Regression Results                            \n",
      "==============================================================================\n",
      "Dep. Variable:              log_sales   R-squared:                       0.630\n",
      "Model:                            OLS   Adj. R-squared:                  0.626\n",
      "Method:                 Least Squares   F-statistic:                     182.2\n",
      "Date:                Sun, 12 Dec 2021   Prob (F-statistic):          4.30e-113\n",
      "Time:                        14:47:40   Log-Likelihood:                -158.75\n",
      "No. Observations:                 542   AIC:                             329.5\n",
      "Df Residuals:                     536   BIC:                             355.3\n",
      "Df Model:                           5                                         \n",
      "Covariance Type:            nonrobust                                         \n",
      "===============================================================================\n",
      "                  coef    std err          t      P>|t|      [0.025      0.975]\n",
      "-------------------------------------------------------------------------------\n",
      "Intercept       0.8256      0.340      2.430      0.015       0.158       1.493\n",
      "log_web         0.6828      0.042     16.390      0.000       0.601       0.765\n",
      "log_catalog     0.4908      0.043     11.471      0.000       0.407       0.575\n",
      "log_stores      0.8255      0.064     12.820      0.000       0.699       0.952\n",
      "log_deals      -0.0379      0.050     -0.760      0.448      -0.136       0.060\n",
      "log_income      0.1377      0.033      4.159      0.000       0.073       0.203\n",
      "==============================================================================\n",
      "Omnibus:                       22.622   Durbin-Watson:                   1.806\n",
      "Prob(Omnibus):                  0.000   Jarque-Bera (JB):               44.824\n",
      "Skew:                          -0.235   Prob(JB):                     1.85e-10\n",
      "Kurtosis:                       4.328   Cond. No.                         255.\n",
      "==============================================================================\n",
      "\n",
      "Notes:\n",
      "[1] Standard Errors assume that the covariance matrix of the errors is correctly specified.\n"
     ]
    }
   ],
   "source": [
    "reg_model = sm.ols(formula=\"log_sales ~ log_web + log_catalog + log_stores + log_deals + log_income\", data=data_remaining[data_remaining.Sales_Total_level == 'Low Sales']).fit()\n",
    "print(reg_model.summary())"
   ]
  },
  {
   "cell_type": "markdown",
   "metadata": {},
   "source": [
    "# Customers who already Accepted the campaign"
   ]
  },
  {
   "cell_type": "code",
   "execution_count": 42,
   "metadata": {},
   "outputs": [],
   "source": [
    "data_accepted = data[data['Accepted_binary']==1]"
   ]
  },
  {
   "cell_type": "code",
   "execution_count": 43,
   "metadata": {},
   "outputs": [
    {
     "name": "stderr",
     "output_type": "stream",
     "text": [
      "<ipython-input-43-8678dbcfd629>:1: SettingWithCopyWarning:\n",
      "\n",
      "\n",
      "A value is trying to be set on a copy of a slice from a DataFrame.\n",
      "Try using .loc[row_indexer,col_indexer] = value instead\n",
      "\n",
      "See the caveats in the documentation: https://pandas.pydata.org/pandas-docs/stable/user_guide/indexing.html#returning-a-view-versus-a-copy\n",
      "\n"
     ]
    }
   ],
   "source": [
    "data_accepted['Sales_Total'] = data_accepted['MntWines'] +  data_accepted['MntFruits'] + data_accepted['MntMeatProducts'] + data_accepted['MntFishProducts'] + data_accepted['MntSweetProducts'] + data_accepted['MntGoldProds']"
   ]
  },
  {
   "cell_type": "markdown",
   "metadata": {},
   "source": [
    "# Channel Usage by Customer Segment for Interacting Customer"
   ]
  },
  {
   "cell_type": "code",
   "execution_count": 44,
   "metadata": {},
   "outputs": [
    {
     "name": "stderr",
     "output_type": "stream",
     "text": [
      "<ipython-input-44-e16142205479>:9: SettingWithCopyWarning:\n",
      "\n",
      "\n",
      "A value is trying to be set on a copy of a slice from a DataFrame.\n",
      "Try using .loc[row_indexer,col_indexer] = value instead\n",
      "\n",
      "See the caveats in the documentation: https://pandas.pydata.org/pandas-docs/stable/user_guide/indexing.html#returning-a-view-versus-a-copy\n",
      "\n"
     ]
    }
   ],
   "source": [
    "conditions = [\n",
    "    (data_accepted['Income'] <= 40000),\n",
    "    (data_accepted['Income'] > 40000) & (data_accepted['Income'] <= 60000),\n",
    "    (data_accepted['Income'] > 60000)\n",
    "    ]\n",
    "\n",
    "values = ['Low Income', 'Middle Income', 'High Income']\n",
    "\n",
    "data_accepted['Income_level'] = np.select(conditions, values)"
   ]
  },
  {
   "cell_type": "code",
   "execution_count": 45,
   "metadata": {},
   "outputs": [
    {
     "name": "stderr",
     "output_type": "stream",
     "text": [
      "<ipython-input-45-18454eebb16a>:1: SettingWithCopyWarning:\n",
      "\n",
      "\n",
      "A value is trying to be set on a copy of a slice from a DataFrame.\n",
      "Try using .loc[row_indexer,col_indexer] = value instead\n",
      "\n",
      "See the caveats in the documentation: https://pandas.pydata.org/pandas-docs/stable/user_guide/indexing.html#returning-a-view-versus-a-copy\n",
      "\n",
      "<ipython-input-45-18454eebb16a>:2: SettingWithCopyWarning:\n",
      "\n",
      "\n",
      "A value is trying to be set on a copy of a slice from a DataFrame.\n",
      "Try using .loc[row_indexer,col_indexer] = value instead\n",
      "\n",
      "See the caveats in the documentation: https://pandas.pydata.org/pandas-docs/stable/user_guide/indexing.html#returning-a-view-versus-a-copy\n",
      "\n",
      "<ipython-input-45-18454eebb16a>:3: SettingWithCopyWarning:\n",
      "\n",
      "\n",
      "A value is trying to be set on a copy of a slice from a DataFrame.\n",
      "Try using .loc[row_indexer,col_indexer] = value instead\n",
      "\n",
      "See the caveats in the documentation: https://pandas.pydata.org/pandas-docs/stable/user_guide/indexing.html#returning-a-view-versus-a-copy\n",
      "\n",
      "<ipython-input-45-18454eebb16a>:4: SettingWithCopyWarning:\n",
      "\n",
      "\n",
      "A value is trying to be set on a copy of a slice from a DataFrame.\n",
      "Try using .loc[row_indexer,col_indexer] = value instead\n",
      "\n",
      "See the caveats in the documentation: https://pandas.pydata.org/pandas-docs/stable/user_guide/indexing.html#returning-a-view-versus-a-copy\n",
      "\n",
      "<ipython-input-45-18454eebb16a>:6: SettingWithCopyWarning:\n",
      "\n",
      "\n",
      "A value is trying to be set on a copy of a slice from a DataFrame.\n",
      "Try using .loc[row_indexer,col_indexer] = value instead\n",
      "\n",
      "See the caveats in the documentation: https://pandas.pydata.org/pandas-docs/stable/user_guide/indexing.html#returning-a-view-versus-a-copy\n",
      "\n",
      "<ipython-input-45-18454eebb16a>:7: SettingWithCopyWarning:\n",
      "\n",
      "\n",
      "A value is trying to be set on a copy of a slice from a DataFrame.\n",
      "Try using .loc[row_indexer,col_indexer] = value instead\n",
      "\n",
      "See the caveats in the documentation: https://pandas.pydata.org/pandas-docs/stable/user_guide/indexing.html#returning-a-view-versus-a-copy\n",
      "\n",
      "<ipython-input-45-18454eebb16a>:8: SettingWithCopyWarning:\n",
      "\n",
      "\n",
      "A value is trying to be set on a copy of a slice from a DataFrame.\n",
      "Try using .loc[row_indexer,col_indexer] = value instead\n",
      "\n",
      "See the caveats in the documentation: https://pandas.pydata.org/pandas-docs/stable/user_guide/indexing.html#returning-a-view-versus-a-copy\n",
      "\n",
      "<ipython-input-45-18454eebb16a>:9: SettingWithCopyWarning:\n",
      "\n",
      "\n",
      "A value is trying to be set on a copy of a slice from a DataFrame.\n",
      "Try using .loc[row_indexer,col_indexer] = value instead\n",
      "\n",
      "See the caveats in the documentation: https://pandas.pydata.org/pandas-docs/stable/user_guide/indexing.html#returning-a-view-versus-a-copy\n",
      "\n",
      "<ipython-input-45-18454eebb16a>:10: SettingWithCopyWarning:\n",
      "\n",
      "\n",
      "A value is trying to be set on a copy of a slice from a DataFrame.\n",
      "Try using .loc[row_indexer,col_indexer] = value instead\n",
      "\n",
      "See the caveats in the documentation: https://pandas.pydata.org/pandas-docs/stable/user_guide/indexing.html#returning-a-view-versus-a-copy\n",
      "\n"
     ]
    }
   ],
   "source": [
    "data_accepted['deals_new'] = data_accepted['NumDealsPurchases'] + 0.7\n",
    "data_accepted['web_new'] = data_accepted['NumWebPurchases'] + 0.7\n",
    "data_accepted['catalog_new'] = data_accepted['NumCatalogPurchases'] + 0.7\n",
    "data_accepted['stores_new'] = data_accepted['NumStorePurchases'] + 0.7\n",
    "\n",
    "data_accepted['log_sales'] = [math.log(i) for i in data_accepted['Sales_Total']]\n",
    "data_accepted['log_deals'] = [math.log(i) for i in data_accepted['deals_new']]\n",
    "data_accepted['log_web'] = [math.log(i) for i in data_accepted['web_new']]\n",
    "data_accepted['log_catalog'] = [math.log(i) for i in data_accepted['catalog_new']]\n",
    "data_accepted['log_stores'] = [math.log(i) for i in data_accepted['stores_new']]"
   ]
  },
  {
   "cell_type": "code",
   "execution_count": 46,
   "metadata": {},
   "outputs": [
    {
     "name": "stderr",
     "output_type": "stream",
     "text": [
      "<ipython-input-46-574f3435688a>:1: SettingWithCopyWarning:\n",
      "\n",
      "\n",
      "A value is trying to be set on a copy of a slice from a DataFrame.\n",
      "Try using .loc[row_indexer,col_indexer] = value instead\n",
      "\n",
      "See the caveats in the documentation: https://pandas.pydata.org/pandas-docs/stable/user_guide/indexing.html#returning-a-view-versus-a-copy\n",
      "\n",
      "<ipython-input-46-574f3435688a>:2: SettingWithCopyWarning:\n",
      "\n",
      "\n",
      "A value is trying to be set on a copy of a slice from a DataFrame.\n",
      "Try using .loc[row_indexer,col_indexer] = value instead\n",
      "\n",
      "See the caveats in the documentation: https://pandas.pydata.org/pandas-docs/stable/user_guide/indexing.html#returning-a-view-versus-a-copy\n",
      "\n"
     ]
    }
   ],
   "source": [
    "data_accepted['log_income'] = [math.log(i) for i in data_accepted['Income']]\n",
    "data_accepted['log_age'] = [math.log(i) for i in data_accepted['Age']]"
   ]
  },
  {
   "cell_type": "code",
   "execution_count": 47,
   "metadata": {},
   "outputs": [
    {
     "name": "stdout",
     "output_type": "stream",
     "text": [
      "                            OLS Regression Results                            \n",
      "==============================================================================\n",
      "Dep. Variable:              log_sales   R-squared:                       0.161\n",
      "Model:                            OLS   Adj. R-squared:                  0.151\n",
      "Method:                 Least Squares   F-statistic:                     16.26\n",
      "Date:                Sun, 12 Dec 2021   Prob (F-statistic):           3.38e-12\n",
      "Time:                        14:47:40   Log-Likelihood:                -106.17\n",
      "No. Observations:                 345   AIC:                             222.3\n",
      "Df Residuals:                     340   BIC:                             241.6\n",
      "Df Model:                           4                                         \n",
      "Covariance Type:            nonrobust                                         \n",
      "=======================================================================================\n",
      "                          coef    std err          t      P>|t|      [0.025      0.975]\n",
      "---------------------------------------------------------------------------------------\n",
      "Intercept               7.1849      0.087     82.176      0.000       7.013       7.357\n",
      "NumStorePurchases       0.0126      0.007      1.931      0.054      -0.000       0.026\n",
      "NumCatalogPurchases     0.0249      0.008      3.190      0.002       0.010       0.040\n",
      "NumWebPurchases        -0.0186      0.008     -2.359      0.019      -0.034      -0.003\n",
      "NumDealsPurchases      -0.0593      0.012     -4.942      0.000      -0.083      -0.036\n",
      "==============================================================================\n",
      "Omnibus:                       35.148   Durbin-Watson:                   1.886\n",
      "Prob(Omnibus):                  0.000   Jarque-Bera (JB):               42.842\n",
      "Skew:                          -0.819   Prob(JB):                     4.98e-10\n",
      "Kurtosis:                       3.546   Cond. No.                         58.3\n",
      "==============================================================================\n",
      "\n",
      "Notes:\n",
      "[1] Standard Errors assume that the covariance matrix of the errors is correctly specified.\n"
     ]
    }
   ],
   "source": [
    "reg_model = sm.ols(formula=\"log_sales ~ NumStorePurchases + NumCatalogPurchases + NumWebPurchases + NumDealsPurchases\", data=data_accepted[data_accepted.Income_level == 'High Income']).fit()\n",
    "print(reg_model.summary())"
   ]
  },
  {
   "cell_type": "code",
   "execution_count": 48,
   "metadata": {},
   "outputs": [
    {
     "name": "stdout",
     "output_type": "stream",
     "text": [
      "                            OLS Regression Results                            \n",
      "==============================================================================\n",
      "Dep. Variable:              log_sales   R-squared:                       0.743\n",
      "Model:                            OLS   Adj. R-squared:                  0.735\n",
      "Method:                 Least Squares   F-statistic:                     99.69\n",
      "Date:                Sun, 12 Dec 2021   Prob (F-statistic):           1.04e-39\n",
      "Time:                        14:47:40   Log-Likelihood:                -84.671\n",
      "No. Observations:                 143   AIC:                             179.3\n",
      "Df Residuals:                     138   BIC:                             194.2\n",
      "Df Model:                           4                                         \n",
      "Covariance Type:            nonrobust                                         \n",
      "=======================================================================================\n",
      "                          coef    std err          t      P>|t|      [0.025      0.975]\n",
      "---------------------------------------------------------------------------------------\n",
      "Intercept               4.2080      0.115     36.592      0.000       3.981       4.435\n",
      "NumStorePurchases       0.1427      0.013     10.697      0.000       0.116       0.169\n",
      "NumCatalogPurchases     0.1452      0.018      8.086      0.000       0.110       0.181\n",
      "NumWebPurchases         0.1011      0.016      6.130      0.000       0.068       0.134\n",
      "NumDealsPurchases       0.0095      0.018      0.522      0.602      -0.026       0.045\n",
      "==============================================================================\n",
      "Omnibus:                      106.916   Durbin-Watson:                   1.345\n",
      "Prob(Omnibus):                  0.000   Jarque-Bera (JB):             1673.508\n",
      "Skew:                           2.345   Prob(JB):                         0.00\n",
      "Kurtosis:                      19.089   Cond. No.                         31.3\n",
      "==============================================================================\n",
      "\n",
      "Notes:\n",
      "[1] Standard Errors assume that the covariance matrix of the errors is correctly specified.\n"
     ]
    }
   ],
   "source": [
    "reg_model = sm.ols(formula=\"log_sales ~ NumStorePurchases + NumCatalogPurchases + NumWebPurchases + NumDealsPurchases\", data=data_accepted[data_accepted.Income_level == 'Middle Income']).fit()\n",
    "print(reg_model.summary())"
   ]
  },
  {
   "cell_type": "code",
   "execution_count": 49,
   "metadata": {},
   "outputs": [
    {
     "name": "stdout",
     "output_type": "stream",
     "text": [
      "                            OLS Regression Results                            \n",
      "==============================================================================\n",
      "Dep. Variable:              log_sales   R-squared:                       0.863\n",
      "Model:                            OLS   Adj. R-squared:                  0.858\n",
      "Method:                 Least Squares   F-statistic:                     176.8\n",
      "Date:                Sun, 12 Dec 2021   Prob (F-statistic):           2.01e-47\n",
      "Time:                        14:47:40   Log-Likelihood:                -36.412\n",
      "No. Observations:                 117   AIC:                             82.82\n",
      "Df Residuals:                     112   BIC:                             96.64\n",
      "Df Model:                           4                                         \n",
      "Covariance Type:            nonrobust                                         \n",
      "=======================================================================================\n",
      "                          coef    std err          t      P>|t|      [0.025      0.975]\n",
      "---------------------------------------------------------------------------------------\n",
      "Intercept               2.9377      0.074     39.770      0.000       2.791       3.084\n",
      "NumStorePurchases       0.1520      0.031      4.936      0.000       0.091       0.213\n",
      "NumCatalogPurchases     0.2975      0.033      8.940      0.000       0.232       0.363\n",
      "NumWebPurchases         0.3079      0.025     12.338      0.000       0.258       0.357\n",
      "NumDealsPurchases      -0.0003      0.027     -0.012      0.991      -0.054       0.053\n",
      "==============================================================================\n",
      "Omnibus:                        6.542   Durbin-Watson:                   1.890\n",
      "Prob(Omnibus):                  0.038   Jarque-Bera (JB):                6.031\n",
      "Skew:                          -0.515   Prob(JB):                       0.0490\n",
      "Kurtosis:                       3.419   Cond. No.                         13.1\n",
      "==============================================================================\n",
      "\n",
      "Notes:\n",
      "[1] Standard Errors assume that the covariance matrix of the errors is correctly specified.\n"
     ]
    }
   ],
   "source": [
    "reg_model = sm.ols(formula=\"log_sales ~ NumStorePurchases + NumCatalogPurchases + NumWebPurchases + NumDealsPurchases\", data=data_accepted[data_accepted.Income_level == 'Low Income']).fit()\n",
    "print(reg_model.summary())"
   ]
  },
  {
   "cell_type": "code",
   "execution_count": 50,
   "metadata": {},
   "outputs": [
    {
     "name": "stdout",
     "output_type": "stream",
     "text": [
      "                            OLS Regression Results                            \n",
      "==============================================================================\n",
      "Dep. Variable:            Sales_Total   R-squared:                       0.384\n",
      "Model:                            OLS   Adj. R-squared:                  0.378\n",
      "Method:                 Least Squares   F-statistic:                     62.24\n",
      "Date:                Sun, 12 Dec 2021   Prob (F-statistic):           6.63e-60\n",
      "Time:                        14:47:40   Log-Likelihood:                -4659.8\n",
      "No. Observations:                 605   AIC:                             9334.\n",
      "Df Residuals:                     598   BIC:                             9364.\n",
      "Df Model:                           6                                         \n",
      "Covariance Type:            nonrobust                                         \n",
      "================================================================================\n",
      "                   coef    std err          t      P>|t|      [0.025      0.975]\n",
      "--------------------------------------------------------------------------------\n",
      "Intercept      814.9813     49.255     16.546      0.000     718.247     911.716\n",
      "AcceptedCmp1   415.2729     53.665      7.738      0.000     309.877     520.668\n",
      "AcceptedCmp2    21.1173    106.275      0.199      0.843    -187.600     229.834\n",
      "AcceptedCmp3  -228.4584     55.348     -4.128      0.000    -337.159    -119.758\n",
      "AcceptedCmp4   -16.9887     57.074     -0.298      0.766    -129.078      95.101\n",
      "AcceptedCmp5   701.3204     52.219     13.430      0.000     598.766     803.875\n",
      "Response       -60.0498     46.360     -1.295      0.196    -151.098      30.998\n",
      "==============================================================================\n",
      "Omnibus:                       30.256   Durbin-Watson:                   1.157\n",
      "Prob(Omnibus):                  0.000   Jarque-Bera (JB):               27.345\n",
      "Skew:                           0.458   Prob(JB):                     1.15e-06\n",
      "Kurtosis:                       2.503   Cond. No.                         6.44\n",
      "==============================================================================\n",
      "\n",
      "Notes:\n",
      "[1] Standard Errors assume that the covariance matrix of the errors is correctly specified.\n"
     ]
    }
   ],
   "source": [
    "reg_model = sm.ols(formula=\"Sales_Total ~ AcceptedCmp1 + AcceptedCmp2 + AcceptedCmp3 + AcceptedCmp4 + AcceptedCmp5 + Response\", data=data_accepted).fit()\n",
    "print(reg_model.summary())"
   ]
  },
  {
   "cell_type": "code",
   "execution_count": 51,
   "metadata": {},
   "outputs": [
    {
     "name": "stdout",
     "output_type": "stream",
     "text": [
      "                            OLS Regression Results                            \n",
      "==============================================================================\n",
      "Dep. Variable:            Sales_Total   R-squared:                       0.364\n",
      "Model:                            OLS   Adj. R-squared:                  0.362\n",
      "Method:                 Least Squares   F-statistic:                     172.1\n",
      "Date:                Sun, 12 Dec 2021   Prob (F-statistic):           7.69e-60\n",
      "Time:                        14:47:40   Log-Likelihood:                -4669.8\n",
      "No. Observations:                 605   AIC:                             9346.\n",
      "Df Residuals:                     602   BIC:                             9359.\n",
      "Df Model:                           2                                         \n",
      "Covariance Type:            nonrobust                                         \n",
      "================================================================================\n",
      "                   coef    std err          t      P>|t|      [0.025      0.975]\n",
      "--------------------------------------------------------------------------------\n",
      "Intercept      704.2066     27.501     25.607      0.000     650.198     758.215\n",
      "AcceptedCmp1   437.4379     54.008      8.099      0.000     331.370     543.506\n",
      "AcceptedCmp5   730.8783     51.921     14.077      0.000     628.909     832.847\n",
      "==============================================================================\n",
      "Omnibus:                       29.541   Durbin-Watson:                   1.082\n",
      "Prob(Omnibus):                  0.000   Jarque-Bera (JB):               24.173\n",
      "Skew:                           0.407   Prob(JB):                     5.63e-06\n",
      "Kurtosis:                       2.455   Cond. No.                         2.88\n",
      "==============================================================================\n",
      "\n",
      "Notes:\n",
      "[1] Standard Errors assume that the covariance matrix of the errors is correctly specified.\n"
     ]
    }
   ],
   "source": [
    "reg_model = sm.ols(formula=\"Sales_Total ~ AcceptedCmp1 + AcceptedCmp5 \", data=data_accepted).fit()\n",
    "print(reg_model.summary())"
   ]
  },
  {
   "cell_type": "code",
   "execution_count": 52,
   "metadata": {},
   "outputs": [
    {
     "name": "stdout",
     "output_type": "stream",
     "text": [
      "                            OLS Regression Results                            \n",
      "==============================================================================\n",
      "Dep. Variable:              log_sales   R-squared:                       0.287\n",
      "Model:                            OLS   Adj. R-squared:                  0.266\n",
      "Method:                 Least Squares   F-statistic:                     13.87\n",
      "Date:                Sun, 12 Dec 2021   Prob (F-statistic):           1.56e-09\n",
      "Time:                        14:47:40   Log-Likelihood:                -57.098\n",
      "No. Observations:                 143   AIC:                             124.2\n",
      "Df Residuals:                     138   BIC:                             139.0\n",
      "Df Model:                           4                                         \n",
      "Covariance Type:            nonrobust                                         \n",
      "=======================================================================================\n",
      "                          coef    std err          t      P>|t|      [0.025      0.975]\n",
      "---------------------------------------------------------------------------------------\n",
      "Intercept               7.0578      0.157     45.033      0.000       6.748       7.368\n",
      "NumStorePurchases       0.0265      0.012      2.267      0.025       0.003       0.050\n",
      "NumCatalogPurchases     0.0325      0.014      2.376      0.019       0.005       0.060\n",
      "NumWebPurchases        -0.0149      0.014     -1.025      0.307      -0.044       0.014\n",
      "NumDealsPurchases      -0.1107      0.026     -4.326      0.000      -0.161      -0.060\n",
      "==============================================================================\n",
      "Omnibus:                       21.657   Durbin-Watson:                   1.687\n",
      "Prob(Omnibus):                  0.000   Jarque-Bera (JB):               26.871\n",
      "Skew:                          -0.918   Prob(JB):                     1.46e-06\n",
      "Kurtosis:                       4.066   Cond. No.                         61.8\n",
      "==============================================================================\n",
      "\n",
      "Notes:\n",
      "[1] Standard Errors assume that the covariance matrix of the errors is correctly specified.\n"
     ]
    }
   ],
   "source": [
    "reg_model = sm.ols(formula=\"log_sales ~ NumStorePurchases + NumCatalogPurchases + NumWebPurchases + NumDealsPurchases\", data=data_accepted[data_accepted.AcceptedCmp1 == 1]).fit()\n",
    "print(reg_model.summary())"
   ]
  },
  {
   "cell_type": "code",
   "execution_count": 53,
   "metadata": {},
   "outputs": [
    {
     "name": "stdout",
     "output_type": "stream",
     "text": [
      "                            OLS Regression Results                            \n",
      "==============================================================================\n",
      "Dep. Variable:              log_sales   R-squared:                       0.441\n",
      "Model:                            OLS   Adj. R-squared:                  0.352\n",
      "Method:                 Least Squares   F-statistic:                     4.934\n",
      "Date:                Sun, 12 Dec 2021   Prob (F-statistic):            0.00452\n",
      "Time:                        14:47:40   Log-Likelihood:                -31.353\n",
      "No. Observations:                  30   AIC:                             72.71\n",
      "Df Residuals:                      25   BIC:                             79.71\n",
      "Df Model:                           4                                         \n",
      "Covariance Type:            nonrobust                                         \n",
      "=======================================================================================\n",
      "                          coef    std err          t      P>|t|      [0.025      0.975]\n",
      "---------------------------------------------------------------------------------------\n",
      "Intercept               5.1494      0.496     10.381      0.000       4.128       6.171\n",
      "NumStorePurchases       0.1045      0.044      2.352      0.027       0.013       0.196\n",
      "NumCatalogPurchases     0.1806      0.053      3.410      0.002       0.072       0.290\n",
      "NumWebPurchases         0.0023      0.053      0.043      0.966      -0.107       0.112\n",
      "NumDealsPurchases       0.0029      0.093      0.031      0.975      -0.189       0.194\n",
      "==============================================================================\n",
      "Omnibus:                        3.863   Durbin-Watson:                   1.081\n",
      "Prob(Omnibus):                  0.145   Jarque-Bera (JB):                2.739\n",
      "Skew:                          -0.733   Prob(JB):                        0.254\n",
      "Kurtosis:                       3.211   Cond. No.                         41.7\n",
      "==============================================================================\n",
      "\n",
      "Notes:\n",
      "[1] Standard Errors assume that the covariance matrix of the errors is correctly specified.\n"
     ]
    }
   ],
   "source": [
    "reg_model = sm.ols(formula=\"log_sales ~ NumStorePurchases + NumCatalogPurchases + NumWebPurchases + NumDealsPurchases\", data=data_accepted[data_accepted.AcceptedCmp2 == 1]).fit()\n",
    "print(reg_model.summary())"
   ]
  },
  {
   "cell_type": "code",
   "execution_count": 54,
   "metadata": {},
   "outputs": [
    {
     "name": "stdout",
     "output_type": "stream",
     "text": [
      "                            OLS Regression Results                            \n",
      "==============================================================================\n",
      "Dep. Variable:              log_sales   R-squared:                       0.823\n",
      "Model:                            OLS   Adj. R-squared:                  0.819\n",
      "Method:                 Least Squares   F-statistic:                     183.0\n",
      "Date:                Sun, 12 Dec 2021   Prob (F-statistic):           5.06e-58\n",
      "Time:                        14:47:40   Log-Likelihood:                -155.76\n",
      "No. Observations:                 162   AIC:                             321.5\n",
      "Df Residuals:                     157   BIC:                             337.0\n",
      "Df Model:                           4                                         \n",
      "Covariance Type:            nonrobust                                         \n",
      "=======================================================================================\n",
      "                          coef    std err          t      P>|t|      [0.025      0.975]\n",
      "---------------------------------------------------------------------------------------\n",
      "Intercept               3.3969      0.122     27.762      0.000       3.155       3.639\n",
      "NumStorePurchases       0.2013      0.023      8.667      0.000       0.155       0.247\n",
      "NumCatalogPurchases     0.1964      0.021      9.460      0.000       0.155       0.237\n",
      "NumWebPurchases         0.1039      0.026      4.063      0.000       0.053       0.154\n",
      "NumDealsPurchases       0.0752      0.035      2.122      0.035       0.005       0.145\n",
      "==============================================================================\n",
      "Omnibus:                        0.377   Durbin-Watson:                   1.723\n",
      "Prob(Omnibus):                  0.828   Jarque-Bera (JB):                0.139\n",
      "Skew:                          -0.038   Prob(JB):                        0.933\n",
      "Kurtosis:                       3.121   Cond. No.                         22.8\n",
      "==============================================================================\n",
      "\n",
      "Notes:\n",
      "[1] Standard Errors assume that the covariance matrix of the errors is correctly specified.\n"
     ]
    }
   ],
   "source": [
    "reg_model = sm.ols(formula=\"log_sales ~ NumStorePurchases + NumCatalogPurchases + NumWebPurchases + NumDealsPurchases\", data=data_accepted[data_accepted.AcceptedCmp3 == 1]).fit()\n",
    "print(reg_model.summary())"
   ]
  },
  {
   "cell_type": "code",
   "execution_count": 55,
   "metadata": {},
   "outputs": [
    {
     "name": "stdout",
     "output_type": "stream",
     "text": [
      "                            OLS Regression Results                            \n",
      "==============================================================================\n",
      "Dep. Variable:              log_sales   R-squared:                       0.452\n",
      "Model:                            OLS   Adj. R-squared:                  0.439\n",
      "Method:                 Least Squares   F-statistic:                     33.41\n",
      "Date:                Sun, 12 Dec 2021   Prob (F-statistic):           2.59e-20\n",
      "Time:                        14:47:40   Log-Likelihood:                -133.83\n",
      "No. Observations:                 167   AIC:                             277.7\n",
      "Df Residuals:                     162   BIC:                             293.3\n",
      "Df Model:                           4                                         \n",
      "Covariance Type:            nonrobust                                         \n",
      "=======================================================================================\n",
      "                          coef    std err          t      P>|t|      [0.025      0.975]\n",
      "---------------------------------------------------------------------------------------\n",
      "Intercept               5.7235      0.179     32.038      0.000       5.371       6.076\n",
      "NumStorePurchases       0.0662      0.016      4.229      0.000       0.035       0.097\n",
      "NumCatalogPurchases     0.1562      0.019      8.249      0.000       0.119       0.194\n",
      "NumWebPurchases         0.0134      0.018      0.757      0.450      -0.022       0.048\n",
      "NumDealsPurchases      -0.0473      0.021     -2.257      0.025      -0.089      -0.006\n",
      "==============================================================================\n",
      "Omnibus:                       11.416   Durbin-Watson:                   1.279\n",
      "Prob(Omnibus):                  0.003   Jarque-Bera (JB):               14.994\n",
      "Skew:                          -0.439   Prob(JB):                     0.000555\n",
      "Kurtosis:                       4.177   Cond. No.                         47.1\n",
      "==============================================================================\n",
      "\n",
      "Notes:\n",
      "[1] Standard Errors assume that the covariance matrix of the errors is correctly specified.\n"
     ]
    }
   ],
   "source": [
    "reg_model = sm.ols(formula=\"log_sales ~ NumStorePurchases + NumCatalogPurchases + NumWebPurchases + NumDealsPurchases\", data=data_accepted[data_accepted.AcceptedCmp4 == 1]).fit()\n",
    "print(reg_model.summary())"
   ]
  },
  {
   "cell_type": "code",
   "execution_count": 56,
   "metadata": {},
   "outputs": [
    {
     "name": "stdout",
     "output_type": "stream",
     "text": [
      "                            OLS Regression Results                            \n",
      "==============================================================================\n",
      "Dep. Variable:              log_sales   R-squared:                       0.040\n",
      "Model:                            OLS   Adj. R-squared:                  0.015\n",
      "Method:                 Least Squares   F-statistic:                     1.628\n",
      "Date:                Sun, 12 Dec 2021   Prob (F-statistic):              0.170\n",
      "Time:                        14:47:40   Log-Likelihood:                -30.665\n",
      "No. Observations:                 161   AIC:                             71.33\n",
      "Df Residuals:                     156   BIC:                             86.74\n",
      "Df Model:                           4                                         \n",
      "Covariance Type:            nonrobust                                         \n",
      "=======================================================================================\n",
      "                          coef    std err          t      P>|t|      [0.025      0.975]\n",
      "---------------------------------------------------------------------------------------\n",
      "Intercept               7.4435      0.119     62.450      0.000       7.208       7.679\n",
      "NumStorePurchases       0.0005      0.008      0.056      0.955      -0.016       0.017\n",
      "NumCatalogPurchases     0.0099      0.010      0.955      0.341      -0.011       0.030\n",
      "NumWebPurchases        -0.0228      0.011     -1.991      0.048      -0.045      -0.000\n",
      "NumDealsPurchases      -0.0312      0.029     -1.078      0.283      -0.088       0.026\n",
      "==============================================================================\n",
      "Omnibus:                       40.565   Durbin-Watson:                   1.642\n",
      "Prob(Omnibus):                  0.000   Jarque-Bera (JB):               71.180\n",
      "Skew:                          -1.222   Prob(JB):                     3.49e-16\n",
      "Kurtosis:                       5.153   Cond. No.                         61.4\n",
      "==============================================================================\n",
      "\n",
      "Notes:\n",
      "[1] Standard Errors assume that the covariance matrix of the errors is correctly specified.\n"
     ]
    }
   ],
   "source": [
    "reg_model = sm.ols(formula=\"log_sales ~ NumStorePurchases + NumCatalogPurchases + NumWebPurchases + NumDealsPurchases\", data=data_accepted[data_accepted.AcceptedCmp5 == 1]).fit()\n",
    "print(reg_model.summary())"
   ]
  },
  {
   "cell_type": "code",
   "execution_count": 57,
   "metadata": {},
   "outputs": [
    {
     "name": "stdout",
     "output_type": "stream",
     "text": [
      "                            OLS Regression Results                            \n",
      "==============================================================================\n",
      "Dep. Variable:              log_sales   R-squared:                       0.725\n",
      "Model:                            OLS   Adj. R-squared:                  0.721\n",
      "Method:                 Least Squares   F-statistic:                     214.5\n",
      "Date:                Sun, 12 Dec 2021   Prob (F-statistic):           5.96e-90\n",
      "Time:                        14:47:40   Log-Likelihood:                -336.24\n",
      "No. Observations:                 331   AIC:                             682.5\n",
      "Df Residuals:                     326   BIC:                             701.5\n",
      "Df Model:                           4                                         \n",
      "Covariance Type:            nonrobust                                         \n",
      "=======================================================================================\n",
      "                          coef    std err          t      P>|t|      [0.025      0.975]\n",
      "---------------------------------------------------------------------------------------\n",
      "Intercept               4.0587      0.106     38.138      0.000       3.849       4.268\n",
      "NumStorePurchases       0.1415      0.014      9.906      0.000       0.113       0.170\n",
      "NumCatalogPurchases     0.1778      0.015     12.073      0.000       0.149       0.207\n",
      "NumWebPurchases         0.1509      0.016      9.206      0.000       0.119       0.183\n",
      "NumDealsPurchases      -0.0281      0.019     -1.476      0.141      -0.065       0.009\n",
      "==============================================================================\n",
      "Omnibus:                        0.057   Durbin-Watson:                   1.525\n",
      "Prob(Omnibus):                  0.972   Jarque-Bera (JB):                0.002\n",
      "Skew:                           0.002   Prob(JB):                        0.999\n",
      "Kurtosis:                       3.012   Cond. No.                         29.1\n",
      "==============================================================================\n",
      "\n",
      "Notes:\n",
      "[1] Standard Errors assume that the covariance matrix of the errors is correctly specified.\n"
     ]
    }
   ],
   "source": [
    "reg_model = sm.ols(formula=\"log_sales ~ NumStorePurchases + NumCatalogPurchases + NumWebPurchases + NumDealsPurchases\", data=data_accepted[data_accepted.Response == 1]).fit()\n",
    "print(reg_model.summary())"
   ]
  },
  {
   "cell_type": "markdown",
   "metadata": {},
   "source": [
    "# Regression - Prediction "
   ]
  },
  {
   "cell_type": "code",
   "execution_count": 58,
   "metadata": {},
   "outputs": [
    {
     "name": "stdout",
     "output_type": "stream",
     "text": [
      "                            OLS Regression Results                            \n",
      "==============================================================================\n",
      "Dep. Variable:            Sales_Total   R-squared:                       0.815\n",
      "Model:                            OLS   Adj. R-squared:                  0.815\n",
      "Method:                 Least Squares   F-statistic:                     1785.\n",
      "Date:                Sun, 12 Dec 2021   Prob (F-statistic):               0.00\n",
      "Time:                        14:47:40   Log-Likelihood:                -11006.\n",
      "No. Observations:                1624   AIC:                         2.202e+04\n",
      "Df Residuals:                    1619   BIC:                         2.205e+04\n",
      "Df Model:                           4                                         \n",
      "Covariance Type:            nonrobust                                         \n",
      "=======================================================================================\n",
      "                          coef    std err          t      P>|t|      [0.025      0.975]\n",
      "---------------------------------------------------------------------------------------\n",
      "Intercept            -297.2996     14.981    -19.845      0.000    -326.685    -267.915\n",
      "Income                  0.0047      0.000     12.111      0.000       0.004       0.005\n",
      "NumStorePurchases      42.6977      2.310     18.483      0.000      38.167      47.229\n",
      "NumCatalogPurchases    83.9826      2.594     32.376      0.000      78.895      89.070\n",
      "NumWebPurchases        31.7445      2.289     13.870      0.000      27.255      36.234\n",
      "==============================================================================\n",
      "Omnibus:                      583.245   Durbin-Watson:                   1.634\n",
      "Prob(Omnibus):                  0.000   Jarque-Bera (JB):             3631.086\n",
      "Skew:                           1.542   Prob(JB):                         0.00\n",
      "Kurtosis:                       9.645   Cond. No.                     1.49e+05\n",
      "==============================================================================\n",
      "\n",
      "Notes:\n",
      "[1] Standard Errors assume that the covariance matrix of the errors is correctly specified.\n",
      "[2] The condition number is large, 1.49e+05. This might indicate that there are\n",
      "strong multicollinearity or other numerical problems.\n"
     ]
    }
   ],
   "source": [
    "reg_model = sm.ols(formula=\"Sales_Total ~ Income + NumStorePurchases + NumCatalogPurchases + NumWebPurchases\", data=data_remaining).fit()\n",
    "print(reg_model.summary())"
   ]
  },
  {
   "cell_type": "code",
   "execution_count": 67,
   "metadata": {},
   "outputs": [],
   "source": [
    "data['Sales_Total'] = (data['MntWines'] +  data['MntFruits'] + data['MntMeatProducts'] + data['MntFishProducts'] + data['MntSweetProducts'] + data['MntGoldProds'])\n",
    "\n",
    "data['web_new'] = data['NumWebPurchases'] + 0.7\n",
    "data['catalog_new'] = data['NumCatalogPurchases'] + 0.7\n",
    "data['stores_new'] = data['NumStorePurchases'] + 0.7\n",
    "\n",
    "data['log_sales'] = [math.log(i) for i in data['Sales_Total']]\n",
    "data['log_web'] = [math.log(i) for i in data['web_new']]\n",
    "data['log_catalog'] = [math.log(i) for i in data['catalog_new']]\n",
    "data['log_stores'] = [math.log(i) for i in data['stores_new']]\n",
    "data['log_income'] = [math.log(i) for i in data['Income']]"
   ]
  },
  {
   "cell_type": "code",
   "execution_count": 68,
   "metadata": {},
   "outputs": [
    {
     "name": "stdout",
     "output_type": "stream",
     "text": [
      "                            OLS Regression Results                            \n",
      "==============================================================================\n",
      "Dep. Variable:            Sales_Total   R-squared:                       0.805\n",
      "Model:                            OLS   Adj. R-squared:                  0.804\n",
      "Method:                 Least Squares   F-statistic:                     833.9\n",
      "Date:                Sun, 12 Dec 2021   Prob (F-statistic):               0.00\n",
      "Time:                        15:59:50   Log-Likelihood:                -15606.\n",
      "No. Observations:                2229   AIC:                         3.124e+04\n",
      "Df Residuals:                    2217   BIC:                         3.130e+04\n",
      "Df Model:                          11                                         \n",
      "Covariance Type:            nonrobust                                         \n",
      "=======================================================================================\n",
      "                          coef    std err          t      P>|t|      [0.025      0.975]\n",
      "---------------------------------------------------------------------------------------\n",
      "Intercept            -321.4156     18.924    -16.985      0.000    -358.526    -284.305\n",
      "Income                  0.0069      0.000     15.815      0.000       0.006       0.008\n",
      "NumStorePurchases      41.2380      2.409     17.118      0.000      36.514      45.962\n",
      "NumCatalogPurchases    76.1858      2.799     27.218      0.000      70.697      81.675\n",
      "NumWebPurchases        28.4754      2.527     11.268      0.000      23.520      33.431\n",
      "NumDealsPurchases     -16.2810      3.165     -5.144      0.000     -22.488     -10.074\n",
      "AcceptedCmp1          111.7604     26.497      4.218      0.000      59.800     163.721\n",
      "AcceptedCmp2          -40.8343     52.223     -0.782      0.434    -143.245      61.576\n",
      "AcceptedCmp3            0.5642     23.044      0.024      0.980     -44.625      45.754\n",
      "AcceptedCmp4           65.0986     23.958      2.717      0.007      18.116     112.081\n",
      "AcceptedCmp5          312.0439     26.586     11.737      0.000     259.908     364.180\n",
      "Response               95.8387     17.937      5.343      0.000      60.664     131.013\n",
      "==============================================================================\n",
      "Omnibus:                      337.643   Durbin-Watson:                   1.589\n",
      "Prob(Omnibus):                  0.000   Jarque-Bera (JB):             1817.776\n",
      "Skew:                           0.601   Prob(JB):                         0.00\n",
      "Kurtosis:                       7.258   Cond. No.                     5.25e+05\n",
      "==============================================================================\n",
      "\n",
      "Notes:\n",
      "[1] Standard Errors assume that the covariance matrix of the errors is correctly specified.\n",
      "[2] The condition number is large, 5.25e+05. This might indicate that there are\n",
      "strong multicollinearity or other numerical problems.\n"
     ]
    }
   ],
   "source": [
    "reg_model = sm.ols(formula=\" Sales_Total ~ Income + NumStorePurchases + NumCatalogPurchases + NumWebPurchases + NumDealsPurchases + AcceptedCmp1 + AcceptedCmp2 + AcceptedCmp3 + AcceptedCmp4 + AcceptedCmp5 + Response\", data=data).fit()\n",
    "print(reg_model.summary())"
   ]
  },
  {
   "cell_type": "code",
   "execution_count": 70,
   "metadata": {},
   "outputs": [
    {
     "name": "stdout",
     "output_type": "stream",
     "text": [
      "                            OLS Regression Results                            \n",
      "==============================================================================\n",
      "Dep. Variable:              log_sales   R-squared:                       0.911\n",
      "Model:                            OLS   Adj. R-squared:                  0.911\n",
      "Method:                 Least Squares   F-statistic:                     5722.\n",
      "Date:                Sun, 12 Dec 2021   Prob (F-statistic):               0.00\n",
      "Time:                        16:01:32   Log-Likelihood:                -1340.5\n",
      "No. Observations:                2229   AIC:                             2691.\n",
      "Df Residuals:                    2224   BIC:                             2720.\n",
      "Df Model:                           4                                         \n",
      "Covariance Type:            nonrobust                                         \n",
      "===============================================================================\n",
      "                  coef    std err          t      P>|t|      [0.025      0.975]\n",
      "-------------------------------------------------------------------------------\n",
      "Intercept      -1.4875      0.278     -5.351      0.000      -2.033      -0.942\n",
      "log_income      0.4206      0.028     15.104      0.000       0.366       0.475\n",
      "log_stores      0.5346      0.028     19.069      0.000       0.480       0.590\n",
      "log_catalog     0.8275      0.016     51.217      0.000       0.796       0.859\n",
      "log_web         0.6794      0.021     32.661      0.000       0.639       0.720\n",
      "==============================================================================\n",
      "Omnibus:                      845.375   Durbin-Watson:                   1.694\n",
      "Prob(Omnibus):                  0.000   Jarque-Bera (JB):            10364.007\n",
      "Skew:                           1.435   Prob(JB):                         0.00\n",
      "Kurtosis:                      13.166   Cond. No.                         331.\n",
      "==============================================================================\n",
      "\n",
      "Notes:\n",
      "[1] Standard Errors assume that the covariance matrix of the errors is correctly specified.\n"
     ]
    }
   ],
   "source": [
    "reg_model = sm.ols(formula=\" log_sales ~ log_income + log_stores + log_catalog + log_web\", data=data).fit()\n",
    "print(reg_model.summary())"
   ]
  },
  {
   "cell_type": "code",
   "execution_count": null,
   "metadata": {},
   "outputs": [],
   "source": []
  }
 ],
 "metadata": {
  "interpreter": {
   "hash": "31f2aee4e71d21fbe5cf8b01ff0e069b9275f58929596ceb00d14d90e3e16cd6"
  },
  "kernelspec": {
   "display_name": "Python 3.8.9 64-bit",
   "language": "python",
   "name": "python3"
  },
  "language_info": {
   "codemirror_mode": {
    "name": "ipython",
    "version": 3
   },
   "file_extension": ".py",
   "mimetype": "text/x-python",
   "name": "python",
   "nbconvert_exporter": "python",
   "pygments_lexer": "ipython3",
   "version": "3.8.8"
  },
  "orig_nbformat": 4
 },
 "nbformat": 4,
 "nbformat_minor": 2
}
